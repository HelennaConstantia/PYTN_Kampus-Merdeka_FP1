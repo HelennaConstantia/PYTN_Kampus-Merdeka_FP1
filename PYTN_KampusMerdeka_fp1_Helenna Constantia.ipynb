{
 "cells": [
  {
   "cell_type": "markdown",
   "id": "dc123baf",
   "metadata": {},
   "source": [
    "# Introduction\n",
    "Data yang digunakan merupakan data Uber dan Lyft yang terdiri dari 57 atribut. Data ini akan digunakan untuk membuat model prediksi harga berdasarkan fitur-fitur tertentu. Dari ke 57 fitur tersebut diputuskan untuk menggunakan hanya 9 fitur yang diduga memiliki pengaruh terhadap harga. Berikut fitur-fitur yang digunakan :\n",
    "x :\n",
    "- temperature - suhu udara pada waktu penumpang menggunakan taxi\n",
    "- short summary - cuaca saat penumpang menggunakan taxi\n",
    "- wind Speed - kecepatan angin  \n",
    "- distance- jarak dari titik penjemputan sampai lokasi tujuan\n",
    "- hour - waktu saat penjemputan\n",
    "- cab_type- nama taxi yang digunakan\n",
    "- name : Lyft, Lyft XL,Lux, Lux Black, Lux Black XL\n",
    "- month- bulan pada saat penumpang menaiki taxi\n",
    "- surge_multiplier\n",
    "\n",
    "y:\n",
    "- price\n",
    "\n",
    "Fitur-fitur x  akan dieksplorasi lebih lanjut untuk memastikan korelasinya dengan y  (harga). \n",
    "Selanjutnya akan dilakukan data preprocessing untuk menyiapkan data agar dapat digunakan untuk membuat model machine learning"
   ]
  },
  {
   "cell_type": "markdown",
   "id": "e06284d7",
   "metadata": {},
   "source": [
    "# Import Library"
   ]
  },
  {
   "cell_type": "code",
   "execution_count": 1,
   "id": "b9b8ff9a",
   "metadata": {},
   "outputs": [],
   "source": [
    "import numpy as np\n",
    "import pandas as pd\n",
    "import matplotlib.pyplot as plt\n",
    "import matplotlib.patches as mpatches\n",
    "import seaborn as sns\n",
    "import scipy\n",
    "from sklearn.preprocessing import OneHotEncoder, StandardScaler\n",
    "from sklearn.model_selection import train_test_split\n",
    "from sklearn.linear_model import LinearRegression\n",
    "from sklearn.metrics import max_error,mean_absolute_error,median_absolute_error,r2_score"
   ]
  },
  {
   "cell_type": "markdown",
   "id": "1f70a96f",
   "metadata": {},
   "source": [
    "# Data Loading"
   ]
  },
  {
   "cell_type": "code",
   "execution_count": 2,
   "id": "e49dab68",
   "metadata": {},
   "outputs": [
    {
     "data": {
      "text/html": [
       "<div>\n",
       "<style scoped>\n",
       "    .dataframe tbody tr th:only-of-type {\n",
       "        vertical-align: middle;\n",
       "    }\n",
       "\n",
       "    .dataframe tbody tr th {\n",
       "        vertical-align: top;\n",
       "    }\n",
       "\n",
       "    .dataframe thead th {\n",
       "        text-align: right;\n",
       "    }\n",
       "</style>\n",
       "<table border=\"1\" class=\"dataframe\">\n",
       "  <thead>\n",
       "    <tr style=\"text-align: right;\">\n",
       "      <th></th>\n",
       "      <th>id</th>\n",
       "      <th>timestamp</th>\n",
       "      <th>hour</th>\n",
       "      <th>day</th>\n",
       "      <th>month</th>\n",
       "      <th>datetime</th>\n",
       "      <th>timezone</th>\n",
       "      <th>source</th>\n",
       "      <th>destination</th>\n",
       "      <th>cab_type</th>\n",
       "      <th>product_id</th>\n",
       "      <th>name</th>\n",
       "      <th>price</th>\n",
       "      <th>distance</th>\n",
       "      <th>surge_multiplier</th>\n",
       "      <th>latitude</th>\n",
       "      <th>longitude</th>\n",
       "      <th>temperature</th>\n",
       "      <th>apparentTemperature</th>\n",
       "      <th>short_summary</th>\n",
       "      <th>long_summary</th>\n",
       "      <th>precipIntensity</th>\n",
       "      <th>precipProbability</th>\n",
       "      <th>humidity</th>\n",
       "      <th>windSpeed</th>\n",
       "      <th>windGust</th>\n",
       "      <th>windGustTime</th>\n",
       "      <th>visibility</th>\n",
       "      <th>temperatureHigh</th>\n",
       "      <th>temperatureHighTime</th>\n",
       "      <th>temperatureLow</th>\n",
       "      <th>temperatureLowTime</th>\n",
       "      <th>apparentTemperatureHigh</th>\n",
       "      <th>apparentTemperatureHighTime</th>\n",
       "      <th>apparentTemperatureLow</th>\n",
       "      <th>apparentTemperatureLowTime</th>\n",
       "      <th>icon</th>\n",
       "      <th>dewPoint</th>\n",
       "      <th>pressure</th>\n",
       "      <th>windBearing</th>\n",
       "      <th>cloudCover</th>\n",
       "      <th>uvIndex</th>\n",
       "      <th>visibility.1</th>\n",
       "      <th>ozone</th>\n",
       "      <th>sunriseTime</th>\n",
       "      <th>sunsetTime</th>\n",
       "      <th>moonPhase</th>\n",
       "      <th>precipIntensityMax</th>\n",
       "      <th>uvIndexTime</th>\n",
       "      <th>temperatureMin</th>\n",
       "      <th>temperatureMinTime</th>\n",
       "      <th>temperatureMax</th>\n",
       "      <th>temperatureMaxTime</th>\n",
       "      <th>apparentTemperatureMin</th>\n",
       "      <th>apparentTemperatureMinTime</th>\n",
       "      <th>apparentTemperatureMax</th>\n",
       "      <th>apparentTemperatureMaxTime</th>\n",
       "    </tr>\n",
       "  </thead>\n",
       "  <tbody>\n",
       "    <tr>\n",
       "      <th>0</th>\n",
       "      <td>424553bb-7174-41ea-aeb4-fe06d4f4b9d7</td>\n",
       "      <td>1.544953e+09</td>\n",
       "      <td>9</td>\n",
       "      <td>16</td>\n",
       "      <td>12</td>\n",
       "      <td>2018-12-16 09:30:07</td>\n",
       "      <td>America/New_York</td>\n",
       "      <td>Haymarket Square</td>\n",
       "      <td>North Station</td>\n",
       "      <td>Lyft</td>\n",
       "      <td>lyft_line</td>\n",
       "      <td>Shared</td>\n",
       "      <td>5.0</td>\n",
       "      <td>0.44</td>\n",
       "      <td>1.0</td>\n",
       "      <td>42.2148</td>\n",
       "      <td>-71.033</td>\n",
       "      <td>42.34</td>\n",
       "      <td>37.12</td>\n",
       "      <td>Mostly Cloudy</td>\n",
       "      <td>Rain throughout the day.</td>\n",
       "      <td>0.0000</td>\n",
       "      <td>0.0</td>\n",
       "      <td>0.68</td>\n",
       "      <td>8.66</td>\n",
       "      <td>9.17</td>\n",
       "      <td>1545015600</td>\n",
       "      <td>10.000</td>\n",
       "      <td>43.68</td>\n",
       "      <td>1544968800</td>\n",
       "      <td>34.19</td>\n",
       "      <td>1545048000</td>\n",
       "      <td>37.95</td>\n",
       "      <td>1544968800</td>\n",
       "      <td>27.39</td>\n",
       "      <td>1545044400</td>\n",
       "      <td>partly-cloudy-night</td>\n",
       "      <td>32.70</td>\n",
       "      <td>1021.98</td>\n",
       "      <td>57</td>\n",
       "      <td>0.72</td>\n",
       "      <td>0</td>\n",
       "      <td>10.000</td>\n",
       "      <td>303.8</td>\n",
       "      <td>1544962084</td>\n",
       "      <td>1544994864</td>\n",
       "      <td>0.30</td>\n",
       "      <td>0.1276</td>\n",
       "      <td>1544979600</td>\n",
       "      <td>39.89</td>\n",
       "      <td>1545012000</td>\n",
       "      <td>43.68</td>\n",
       "      <td>1544968800</td>\n",
       "      <td>33.73</td>\n",
       "      <td>1545012000</td>\n",
       "      <td>38.07</td>\n",
       "      <td>1544958000</td>\n",
       "    </tr>\n",
       "    <tr>\n",
       "      <th>1</th>\n",
       "      <td>4bd23055-6827-41c6-b23b-3c491f24e74d</td>\n",
       "      <td>1.543284e+09</td>\n",
       "      <td>2</td>\n",
       "      <td>27</td>\n",
       "      <td>11</td>\n",
       "      <td>2018-11-27 02:00:23</td>\n",
       "      <td>America/New_York</td>\n",
       "      <td>Haymarket Square</td>\n",
       "      <td>North Station</td>\n",
       "      <td>Lyft</td>\n",
       "      <td>lyft_premier</td>\n",
       "      <td>Lux</td>\n",
       "      <td>11.0</td>\n",
       "      <td>0.44</td>\n",
       "      <td>1.0</td>\n",
       "      <td>42.2148</td>\n",
       "      <td>-71.033</td>\n",
       "      <td>43.58</td>\n",
       "      <td>37.35</td>\n",
       "      <td>Rain</td>\n",
       "      <td>Rain until morning, starting again in the eve...</td>\n",
       "      <td>0.1299</td>\n",
       "      <td>1.0</td>\n",
       "      <td>0.94</td>\n",
       "      <td>11.98</td>\n",
       "      <td>11.98</td>\n",
       "      <td>1543291200</td>\n",
       "      <td>4.786</td>\n",
       "      <td>47.30</td>\n",
       "      <td>1543251600</td>\n",
       "      <td>42.10</td>\n",
       "      <td>1543298400</td>\n",
       "      <td>43.92</td>\n",
       "      <td>1543251600</td>\n",
       "      <td>36.20</td>\n",
       "      <td>1543291200</td>\n",
       "      <td>rain</td>\n",
       "      <td>41.83</td>\n",
       "      <td>1003.97</td>\n",
       "      <td>90</td>\n",
       "      <td>1.00</td>\n",
       "      <td>0</td>\n",
       "      <td>4.786</td>\n",
       "      <td>291.1</td>\n",
       "      <td>1543232969</td>\n",
       "      <td>1543266992</td>\n",
       "      <td>0.64</td>\n",
       "      <td>0.1300</td>\n",
       "      <td>1543251600</td>\n",
       "      <td>40.49</td>\n",
       "      <td>1543233600</td>\n",
       "      <td>47.30</td>\n",
       "      <td>1543251600</td>\n",
       "      <td>36.20</td>\n",
       "      <td>1543291200</td>\n",
       "      <td>43.92</td>\n",
       "      <td>1543251600</td>\n",
       "    </tr>\n",
       "    <tr>\n",
       "      <th>2</th>\n",
       "      <td>981a3613-77af-4620-a42a-0c0866077d1e</td>\n",
       "      <td>1.543367e+09</td>\n",
       "      <td>1</td>\n",
       "      <td>28</td>\n",
       "      <td>11</td>\n",
       "      <td>2018-11-28 01:00:22</td>\n",
       "      <td>America/New_York</td>\n",
       "      <td>Haymarket Square</td>\n",
       "      <td>North Station</td>\n",
       "      <td>Lyft</td>\n",
       "      <td>lyft</td>\n",
       "      <td>Lyft</td>\n",
       "      <td>7.0</td>\n",
       "      <td>0.44</td>\n",
       "      <td>1.0</td>\n",
       "      <td>42.2148</td>\n",
       "      <td>-71.033</td>\n",
       "      <td>38.33</td>\n",
       "      <td>32.93</td>\n",
       "      <td>Clear</td>\n",
       "      <td>Light rain in the morning.</td>\n",
       "      <td>0.0000</td>\n",
       "      <td>0.0</td>\n",
       "      <td>0.75</td>\n",
       "      <td>7.33</td>\n",
       "      <td>7.33</td>\n",
       "      <td>1543334400</td>\n",
       "      <td>10.000</td>\n",
       "      <td>47.55</td>\n",
       "      <td>1543320000</td>\n",
       "      <td>33.10</td>\n",
       "      <td>1543402800</td>\n",
       "      <td>44.12</td>\n",
       "      <td>1543320000</td>\n",
       "      <td>29.11</td>\n",
       "      <td>1543392000</td>\n",
       "      <td>clear-night</td>\n",
       "      <td>31.10</td>\n",
       "      <td>992.28</td>\n",
       "      <td>240</td>\n",
       "      <td>0.03</td>\n",
       "      <td>0</td>\n",
       "      <td>10.000</td>\n",
       "      <td>315.7</td>\n",
       "      <td>1543319437</td>\n",
       "      <td>1543353364</td>\n",
       "      <td>0.68</td>\n",
       "      <td>0.1064</td>\n",
       "      <td>1543338000</td>\n",
       "      <td>35.36</td>\n",
       "      <td>1543377600</td>\n",
       "      <td>47.55</td>\n",
       "      <td>1543320000</td>\n",
       "      <td>31.04</td>\n",
       "      <td>1543377600</td>\n",
       "      <td>44.12</td>\n",
       "      <td>1543320000</td>\n",
       "    </tr>\n",
       "    <tr>\n",
       "      <th>3</th>\n",
       "      <td>c2d88af2-d278-4bfd-a8d0-29ca77cc5512</td>\n",
       "      <td>1.543554e+09</td>\n",
       "      <td>4</td>\n",
       "      <td>30</td>\n",
       "      <td>11</td>\n",
       "      <td>2018-11-30 04:53:02</td>\n",
       "      <td>America/New_York</td>\n",
       "      <td>Haymarket Square</td>\n",
       "      <td>North Station</td>\n",
       "      <td>Lyft</td>\n",
       "      <td>lyft_luxsuv</td>\n",
       "      <td>Lux Black XL</td>\n",
       "      <td>26.0</td>\n",
       "      <td>0.44</td>\n",
       "      <td>1.0</td>\n",
       "      <td>42.2148</td>\n",
       "      <td>-71.033</td>\n",
       "      <td>34.38</td>\n",
       "      <td>29.63</td>\n",
       "      <td>Clear</td>\n",
       "      <td>Partly cloudy throughout the day.</td>\n",
       "      <td>0.0000</td>\n",
       "      <td>0.0</td>\n",
       "      <td>0.73</td>\n",
       "      <td>5.28</td>\n",
       "      <td>5.28</td>\n",
       "      <td>1543514400</td>\n",
       "      <td>10.000</td>\n",
       "      <td>45.03</td>\n",
       "      <td>1543510800</td>\n",
       "      <td>28.90</td>\n",
       "      <td>1543579200</td>\n",
       "      <td>38.53</td>\n",
       "      <td>1543510800</td>\n",
       "      <td>26.20</td>\n",
       "      <td>1543575600</td>\n",
       "      <td>clear-night</td>\n",
       "      <td>26.64</td>\n",
       "      <td>1013.73</td>\n",
       "      <td>310</td>\n",
       "      <td>0.00</td>\n",
       "      <td>0</td>\n",
       "      <td>10.000</td>\n",
       "      <td>291.1</td>\n",
       "      <td>1543492370</td>\n",
       "      <td>1543526114</td>\n",
       "      <td>0.75</td>\n",
       "      <td>0.0000</td>\n",
       "      <td>1543507200</td>\n",
       "      <td>34.67</td>\n",
       "      <td>1543550400</td>\n",
       "      <td>45.03</td>\n",
       "      <td>1543510800</td>\n",
       "      <td>30.30</td>\n",
       "      <td>1543550400</td>\n",
       "      <td>38.53</td>\n",
       "      <td>1543510800</td>\n",
       "    </tr>\n",
       "    <tr>\n",
       "      <th>4</th>\n",
       "      <td>e0126e1f-8ca9-4f2e-82b3-50505a09db9a</td>\n",
       "      <td>1.543463e+09</td>\n",
       "      <td>3</td>\n",
       "      <td>29</td>\n",
       "      <td>11</td>\n",
       "      <td>2018-11-29 03:49:20</td>\n",
       "      <td>America/New_York</td>\n",
       "      <td>Haymarket Square</td>\n",
       "      <td>North Station</td>\n",
       "      <td>Lyft</td>\n",
       "      <td>lyft_plus</td>\n",
       "      <td>Lyft XL</td>\n",
       "      <td>9.0</td>\n",
       "      <td>0.44</td>\n",
       "      <td>1.0</td>\n",
       "      <td>42.2148</td>\n",
       "      <td>-71.033</td>\n",
       "      <td>37.44</td>\n",
       "      <td>30.88</td>\n",
       "      <td>Partly Cloudy</td>\n",
       "      <td>Mostly cloudy throughout the day.</td>\n",
       "      <td>0.0000</td>\n",
       "      <td>0.0</td>\n",
       "      <td>0.70</td>\n",
       "      <td>9.14</td>\n",
       "      <td>9.14</td>\n",
       "      <td>1543446000</td>\n",
       "      <td>10.000</td>\n",
       "      <td>42.18</td>\n",
       "      <td>1543420800</td>\n",
       "      <td>36.71</td>\n",
       "      <td>1543478400</td>\n",
       "      <td>35.75</td>\n",
       "      <td>1543420800</td>\n",
       "      <td>30.29</td>\n",
       "      <td>1543460400</td>\n",
       "      <td>partly-cloudy-night</td>\n",
       "      <td>28.61</td>\n",
       "      <td>998.36</td>\n",
       "      <td>303</td>\n",
       "      <td>0.44</td>\n",
       "      <td>0</td>\n",
       "      <td>10.000</td>\n",
       "      <td>347.7</td>\n",
       "      <td>1543405904</td>\n",
       "      <td>1543439738</td>\n",
       "      <td>0.72</td>\n",
       "      <td>0.0001</td>\n",
       "      <td>1543420800</td>\n",
       "      <td>33.10</td>\n",
       "      <td>1543402800</td>\n",
       "      <td>42.18</td>\n",
       "      <td>1543420800</td>\n",
       "      <td>29.11</td>\n",
       "      <td>1543392000</td>\n",
       "      <td>35.75</td>\n",
       "      <td>1543420800</td>\n",
       "    </tr>\n",
       "  </tbody>\n",
       "</table>\n",
       "</div>"
      ],
      "text/plain": [
       "                                     id     timestamp  hour  day  month  \\\n",
       "0  424553bb-7174-41ea-aeb4-fe06d4f4b9d7  1.544953e+09     9   16     12   \n",
       "1  4bd23055-6827-41c6-b23b-3c491f24e74d  1.543284e+09     2   27     11   \n",
       "2  981a3613-77af-4620-a42a-0c0866077d1e  1.543367e+09     1   28     11   \n",
       "3  c2d88af2-d278-4bfd-a8d0-29ca77cc5512  1.543554e+09     4   30     11   \n",
       "4  e0126e1f-8ca9-4f2e-82b3-50505a09db9a  1.543463e+09     3   29     11   \n",
       "\n",
       "              datetime          timezone            source    destination  \\\n",
       "0  2018-12-16 09:30:07  America/New_York  Haymarket Square  North Station   \n",
       "1  2018-11-27 02:00:23  America/New_York  Haymarket Square  North Station   \n",
       "2  2018-11-28 01:00:22  America/New_York  Haymarket Square  North Station   \n",
       "3  2018-11-30 04:53:02  America/New_York  Haymarket Square  North Station   \n",
       "4  2018-11-29 03:49:20  America/New_York  Haymarket Square  North Station   \n",
       "\n",
       "  cab_type    product_id          name  price  distance  surge_multiplier  \\\n",
       "0     Lyft     lyft_line        Shared    5.0      0.44               1.0   \n",
       "1     Lyft  lyft_premier           Lux   11.0      0.44               1.0   \n",
       "2     Lyft          lyft          Lyft    7.0      0.44               1.0   \n",
       "3     Lyft   lyft_luxsuv  Lux Black XL   26.0      0.44               1.0   \n",
       "4     Lyft     lyft_plus       Lyft XL    9.0      0.44               1.0   \n",
       "\n",
       "   latitude  longitude  temperature  apparentTemperature    short_summary  \\\n",
       "0   42.2148    -71.033        42.34                37.12   Mostly Cloudy    \n",
       "1   42.2148    -71.033        43.58                37.35            Rain    \n",
       "2   42.2148    -71.033        38.33                32.93           Clear    \n",
       "3   42.2148    -71.033        34.38                29.63           Clear    \n",
       "4   42.2148    -71.033        37.44                30.88   Partly Cloudy    \n",
       "\n",
       "                                        long_summary  precipIntensity  \\\n",
       "0                          Rain throughout the day.            0.0000   \n",
       "1   Rain until morning, starting again in the eve...           0.1299   \n",
       "2                        Light rain in the morning.            0.0000   \n",
       "3                 Partly cloudy throughout the day.            0.0000   \n",
       "4                 Mostly cloudy throughout the day.            0.0000   \n",
       "\n",
       "   precipProbability  humidity  windSpeed  windGust  windGustTime  visibility  \\\n",
       "0                0.0      0.68       8.66      9.17    1545015600      10.000   \n",
       "1                1.0      0.94      11.98     11.98    1543291200       4.786   \n",
       "2                0.0      0.75       7.33      7.33    1543334400      10.000   \n",
       "3                0.0      0.73       5.28      5.28    1543514400      10.000   \n",
       "4                0.0      0.70       9.14      9.14    1543446000      10.000   \n",
       "\n",
       "   temperatureHigh  temperatureHighTime  temperatureLow  temperatureLowTime  \\\n",
       "0            43.68           1544968800           34.19          1545048000   \n",
       "1            47.30           1543251600           42.10          1543298400   \n",
       "2            47.55           1543320000           33.10          1543402800   \n",
       "3            45.03           1543510800           28.90          1543579200   \n",
       "4            42.18           1543420800           36.71          1543478400   \n",
       "\n",
       "   apparentTemperatureHigh  apparentTemperatureHighTime  \\\n",
       "0                    37.95                   1544968800   \n",
       "1                    43.92                   1543251600   \n",
       "2                    44.12                   1543320000   \n",
       "3                    38.53                   1543510800   \n",
       "4                    35.75                   1543420800   \n",
       "\n",
       "   apparentTemperatureLow  apparentTemperatureLowTime                   icon  \\\n",
       "0                   27.39                  1545044400   partly-cloudy-night    \n",
       "1                   36.20                  1543291200                  rain    \n",
       "2                   29.11                  1543392000           clear-night    \n",
       "3                   26.20                  1543575600           clear-night    \n",
       "4                   30.29                  1543460400   partly-cloudy-night    \n",
       "\n",
       "   dewPoint  pressure  windBearing  cloudCover  uvIndex  visibility.1  ozone  \\\n",
       "0     32.70   1021.98           57        0.72        0        10.000  303.8   \n",
       "1     41.83   1003.97           90        1.00        0         4.786  291.1   \n",
       "2     31.10    992.28          240        0.03        0        10.000  315.7   \n",
       "3     26.64   1013.73          310        0.00        0        10.000  291.1   \n",
       "4     28.61    998.36          303        0.44        0        10.000  347.7   \n",
       "\n",
       "   sunriseTime  sunsetTime  moonPhase  precipIntensityMax  uvIndexTime  \\\n",
       "0   1544962084  1544994864       0.30              0.1276   1544979600   \n",
       "1   1543232969  1543266992       0.64              0.1300   1543251600   \n",
       "2   1543319437  1543353364       0.68              0.1064   1543338000   \n",
       "3   1543492370  1543526114       0.75              0.0000   1543507200   \n",
       "4   1543405904  1543439738       0.72              0.0001   1543420800   \n",
       "\n",
       "   temperatureMin  temperatureMinTime  temperatureMax  temperatureMaxTime  \\\n",
       "0           39.89          1545012000           43.68          1544968800   \n",
       "1           40.49          1543233600           47.30          1543251600   \n",
       "2           35.36          1543377600           47.55          1543320000   \n",
       "3           34.67          1543550400           45.03          1543510800   \n",
       "4           33.10          1543402800           42.18          1543420800   \n",
       "\n",
       "   apparentTemperatureMin  apparentTemperatureMinTime  apparentTemperatureMax  \\\n",
       "0                   33.73                  1545012000                   38.07   \n",
       "1                   36.20                  1543291200                   43.92   \n",
       "2                   31.04                  1543377600                   44.12   \n",
       "3                   30.30                  1543550400                   38.53   \n",
       "4                   29.11                  1543392000                   35.75   \n",
       "\n",
       "   apparentTemperatureMaxTime  \n",
       "0                  1544958000  \n",
       "1                  1543251600  \n",
       "2                  1543320000  \n",
       "3                  1543510800  \n",
       "4                  1543420800  "
      ]
     },
     "execution_count": 2,
     "metadata": {},
     "output_type": "execute_result"
    }
   ],
   "source": [
    "df=pd.read_csv(\"d:Hactiv8/dataset/rideshare_kaggle.csv\")\n",
    "pd.set_option(\"display.max.columns\", None)\n",
    "df.head()"
   ]
  },
  {
   "cell_type": "code",
   "execution_count": 3,
   "id": "1396a016",
   "metadata": {},
   "outputs": [
    {
     "data": {
      "text/plain": [
       "(693071, 57)"
      ]
     },
     "execution_count": 3,
     "metadata": {},
     "output_type": "execute_result"
    }
   ],
   "source": [
    "df.shape"
   ]
  },
  {
   "cell_type": "code",
   "execution_count": 4,
   "id": "16ca1bd9",
   "metadata": {},
   "outputs": [
    {
     "name": "stdout",
     "output_type": "stream",
     "text": [
      "<class 'pandas.core.frame.DataFrame'>\n",
      "RangeIndex: 693071 entries, 0 to 693070\n",
      "Data columns (total 57 columns):\n",
      " #   Column                       Non-Null Count   Dtype  \n",
      "---  ------                       --------------   -----  \n",
      " 0   id                           693071 non-null  object \n",
      " 1   timestamp                    693071 non-null  float64\n",
      " 2   hour                         693071 non-null  int64  \n",
      " 3   day                          693071 non-null  int64  \n",
      " 4   month                        693071 non-null  int64  \n",
      " 5   datetime                     693071 non-null  object \n",
      " 6   timezone                     693071 non-null  object \n",
      " 7   source                       693071 non-null  object \n",
      " 8   destination                  693071 non-null  object \n",
      " 9   cab_type                     693071 non-null  object \n",
      " 10  product_id                   693071 non-null  object \n",
      " 11  name                         693071 non-null  object \n",
      " 12  price                        637976 non-null  float64\n",
      " 13  distance                     693071 non-null  float64\n",
      " 14  surge_multiplier             693071 non-null  float64\n",
      " 15  latitude                     693071 non-null  float64\n",
      " 16  longitude                    693071 non-null  float64\n",
      " 17  temperature                  693071 non-null  float64\n",
      " 18  apparentTemperature          693071 non-null  float64\n",
      " 19  short_summary                693071 non-null  object \n",
      " 20  long_summary                 693071 non-null  object \n",
      " 21  precipIntensity              693071 non-null  float64\n",
      " 22  precipProbability            693071 non-null  float64\n",
      " 23  humidity                     693071 non-null  float64\n",
      " 24  windSpeed                    693071 non-null  float64\n",
      " 25  windGust                     693071 non-null  float64\n",
      " 26  windGustTime                 693071 non-null  int64  \n",
      " 27  visibility                   693071 non-null  float64\n",
      " 28  temperatureHigh              693071 non-null  float64\n",
      " 29  temperatureHighTime          693071 non-null  int64  \n",
      " 30  temperatureLow               693071 non-null  float64\n",
      " 31  temperatureLowTime           693071 non-null  int64  \n",
      " 32  apparentTemperatureHigh      693071 non-null  float64\n",
      " 33  apparentTemperatureHighTime  693071 non-null  int64  \n",
      " 34  apparentTemperatureLow       693071 non-null  float64\n",
      " 35  apparentTemperatureLowTime   693071 non-null  int64  \n",
      " 36  icon                         693071 non-null  object \n",
      " 37  dewPoint                     693071 non-null  float64\n",
      " 38  pressure                     693071 non-null  float64\n",
      " 39  windBearing                  693071 non-null  int64  \n",
      " 40  cloudCover                   693071 non-null  float64\n",
      " 41  uvIndex                      693071 non-null  int64  \n",
      " 42  visibility.1                 693071 non-null  float64\n",
      " 43  ozone                        693071 non-null  float64\n",
      " 44  sunriseTime                  693071 non-null  int64  \n",
      " 45  sunsetTime                   693071 non-null  int64  \n",
      " 46  moonPhase                    693071 non-null  float64\n",
      " 47  precipIntensityMax           693071 non-null  float64\n",
      " 48  uvIndexTime                  693071 non-null  int64  \n",
      " 49  temperatureMin               693071 non-null  float64\n",
      " 50  temperatureMinTime           693071 non-null  int64  \n",
      " 51  temperatureMax               693071 non-null  float64\n",
      " 52  temperatureMaxTime           693071 non-null  int64  \n",
      " 53  apparentTemperatureMin       693071 non-null  float64\n",
      " 54  apparentTemperatureMinTime   693071 non-null  int64  \n",
      " 55  apparentTemperatureMax       693071 non-null  float64\n",
      " 56  apparentTemperatureMaxTime   693071 non-null  int64  \n",
      "dtypes: float64(29), int64(17), object(11)\n",
      "memory usage: 301.4+ MB\n"
     ]
    }
   ],
   "source": [
    "df.info()"
   ]
  },
  {
   "cell_type": "code",
   "execution_count": 5,
   "id": "5de3e203",
   "metadata": {},
   "outputs": [
    {
     "data": {
      "text/html": [
       "<div>\n",
       "<style scoped>\n",
       "    .dataframe tbody tr th:only-of-type {\n",
       "        vertical-align: middle;\n",
       "    }\n",
       "\n",
       "    .dataframe tbody tr th {\n",
       "        vertical-align: top;\n",
       "    }\n",
       "\n",
       "    .dataframe thead th {\n",
       "        text-align: right;\n",
       "    }\n",
       "</style>\n",
       "<table border=\"1\" class=\"dataframe\">\n",
       "  <thead>\n",
       "    <tr style=\"text-align: right;\">\n",
       "      <th></th>\n",
       "      <th>timestamp</th>\n",
       "      <th>hour</th>\n",
       "      <th>day</th>\n",
       "      <th>month</th>\n",
       "      <th>price</th>\n",
       "      <th>distance</th>\n",
       "      <th>surge_multiplier</th>\n",
       "      <th>latitude</th>\n",
       "      <th>longitude</th>\n",
       "      <th>temperature</th>\n",
       "      <th>apparentTemperature</th>\n",
       "      <th>precipIntensity</th>\n",
       "      <th>precipProbability</th>\n",
       "      <th>humidity</th>\n",
       "      <th>windSpeed</th>\n",
       "      <th>windGust</th>\n",
       "      <th>windGustTime</th>\n",
       "      <th>visibility</th>\n",
       "      <th>temperatureHigh</th>\n",
       "      <th>temperatureHighTime</th>\n",
       "      <th>temperatureLow</th>\n",
       "      <th>temperatureLowTime</th>\n",
       "      <th>apparentTemperatureHigh</th>\n",
       "      <th>apparentTemperatureHighTime</th>\n",
       "      <th>apparentTemperatureLow</th>\n",
       "      <th>apparentTemperatureLowTime</th>\n",
       "      <th>dewPoint</th>\n",
       "      <th>pressure</th>\n",
       "      <th>windBearing</th>\n",
       "      <th>cloudCover</th>\n",
       "      <th>uvIndex</th>\n",
       "      <th>visibility.1</th>\n",
       "      <th>ozone</th>\n",
       "      <th>sunriseTime</th>\n",
       "      <th>sunsetTime</th>\n",
       "      <th>moonPhase</th>\n",
       "      <th>precipIntensityMax</th>\n",
       "      <th>uvIndexTime</th>\n",
       "      <th>temperatureMin</th>\n",
       "      <th>temperatureMinTime</th>\n",
       "      <th>temperatureMax</th>\n",
       "      <th>temperatureMaxTime</th>\n",
       "      <th>apparentTemperatureMin</th>\n",
       "      <th>apparentTemperatureMinTime</th>\n",
       "      <th>apparentTemperatureMax</th>\n",
       "      <th>apparentTemperatureMaxTime</th>\n",
       "    </tr>\n",
       "  </thead>\n",
       "  <tbody>\n",
       "    <tr>\n",
       "      <th>count</th>\n",
       "      <td>6.930710e+05</td>\n",
       "      <td>693071.000000</td>\n",
       "      <td>693071.000000</td>\n",
       "      <td>693071.000000</td>\n",
       "      <td>637976.000000</td>\n",
       "      <td>693071.000000</td>\n",
       "      <td>693071.000000</td>\n",
       "      <td>693071.000000</td>\n",
       "      <td>693071.000000</td>\n",
       "      <td>693071.000000</td>\n",
       "      <td>693071.000000</td>\n",
       "      <td>693071.000000</td>\n",
       "      <td>693071.000000</td>\n",
       "      <td>693071.000000</td>\n",
       "      <td>693071.000000</td>\n",
       "      <td>693071.000000</td>\n",
       "      <td>6.930710e+05</td>\n",
       "      <td>693071.000000</td>\n",
       "      <td>693071.000000</td>\n",
       "      <td>6.930710e+05</td>\n",
       "      <td>693071.000000</td>\n",
       "      <td>6.930710e+05</td>\n",
       "      <td>693071.000000</td>\n",
       "      <td>6.930710e+05</td>\n",
       "      <td>693071.000000</td>\n",
       "      <td>6.930710e+05</td>\n",
       "      <td>693071.000000</td>\n",
       "      <td>693071.000000</td>\n",
       "      <td>693071.000000</td>\n",
       "      <td>693071.000000</td>\n",
       "      <td>693071.000000</td>\n",
       "      <td>693071.000000</td>\n",
       "      <td>693071.000000</td>\n",
       "      <td>6.930710e+05</td>\n",
       "      <td>6.930710e+05</td>\n",
       "      <td>693071.000000</td>\n",
       "      <td>693071.000000</td>\n",
       "      <td>6.930710e+05</td>\n",
       "      <td>693071.000000</td>\n",
       "      <td>6.930710e+05</td>\n",
       "      <td>693071.000000</td>\n",
       "      <td>6.930710e+05</td>\n",
       "      <td>693071.000000</td>\n",
       "      <td>6.930710e+05</td>\n",
       "      <td>693071.000000</td>\n",
       "      <td>6.930710e+05</td>\n",
       "    </tr>\n",
       "    <tr>\n",
       "      <th>mean</th>\n",
       "      <td>1.544046e+09</td>\n",
       "      <td>11.619137</td>\n",
       "      <td>17.794365</td>\n",
       "      <td>11.586684</td>\n",
       "      <td>16.545125</td>\n",
       "      <td>2.189430</td>\n",
       "      <td>1.013870</td>\n",
       "      <td>42.338172</td>\n",
       "      <td>-71.066151</td>\n",
       "      <td>39.584388</td>\n",
       "      <td>35.881222</td>\n",
       "      <td>0.008922</td>\n",
       "      <td>0.146076</td>\n",
       "      <td>0.741119</td>\n",
       "      <td>6.186253</td>\n",
       "      <td>8.469860</td>\n",
       "      <td>1.544049e+09</td>\n",
       "      <td>8.467970</td>\n",
       "      <td>45.040982</td>\n",
       "      <td>1.544050e+09</td>\n",
       "      <td>34.150736</td>\n",
       "      <td>1.544102e+09</td>\n",
       "      <td>41.614054</td>\n",
       "      <td>1.544050e+09</td>\n",
       "      <td>30.139824</td>\n",
       "      <td>1.544099e+09</td>\n",
       "      <td>31.656256</td>\n",
       "      <td>1010.094766</td>\n",
       "      <td>220.055853</td>\n",
       "      <td>0.686502</td>\n",
       "      <td>0.248908</td>\n",
       "      <td>8.467970</td>\n",
       "      <td>313.513635</td>\n",
       "      <td>1.544027e+09</td>\n",
       "      <td>1.544060e+09</td>\n",
       "      <td>0.579066</td>\n",
       "      <td>0.037374</td>\n",
       "      <td>1.544044e+09</td>\n",
       "      <td>33.457774</td>\n",
       "      <td>1.544042e+09</td>\n",
       "      <td>45.261313</td>\n",
       "      <td>1.544047e+09</td>\n",
       "      <td>29.731002</td>\n",
       "      <td>1.544048e+09</td>\n",
       "      <td>41.997343</td>\n",
       "      <td>1.544048e+09</td>\n",
       "    </tr>\n",
       "    <tr>\n",
       "      <th>std</th>\n",
       "      <td>6.891925e+05</td>\n",
       "      <td>6.948114</td>\n",
       "      <td>9.982286</td>\n",
       "      <td>0.492429</td>\n",
       "      <td>9.324359</td>\n",
       "      <td>1.138937</td>\n",
       "      <td>0.091641</td>\n",
       "      <td>0.047840</td>\n",
       "      <td>0.020302</td>\n",
       "      <td>6.726084</td>\n",
       "      <td>7.918707</td>\n",
       "      <td>0.026901</td>\n",
       "      <td>0.328938</td>\n",
       "      <td>0.138595</td>\n",
       "      <td>3.148223</td>\n",
       "      <td>5.289179</td>\n",
       "      <td>6.928244e+05</td>\n",
       "      <td>2.602888</td>\n",
       "      <td>5.996541</td>\n",
       "      <td>6.937921e+05</td>\n",
       "      <td>6.383163</td>\n",
       "      <td>6.922923e+05</td>\n",
       "      <td>7.666138</td>\n",
       "      <td>6.941699e+05</td>\n",
       "      <td>8.057468</td>\n",
       "      <td>6.927378e+05</td>\n",
       "      <td>9.142355</td>\n",
       "      <td>13.472899</td>\n",
       "      <td>99.102736</td>\n",
       "      <td>0.358534</td>\n",
       "      <td>0.474097</td>\n",
       "      <td>2.602888</td>\n",
       "      <td>27.953061</td>\n",
       "      <td>6.911393e+05</td>\n",
       "      <td>6.906634e+05</td>\n",
       "      <td>0.244705</td>\n",
       "      <td>0.055214</td>\n",
       "      <td>6.912028e+05</td>\n",
       "      <td>6.467224</td>\n",
       "      <td>6.901954e+05</td>\n",
       "      <td>5.645046</td>\n",
       "      <td>6.901353e+05</td>\n",
       "      <td>7.110494</td>\n",
       "      <td>6.871862e+05</td>\n",
       "      <td>6.936841</td>\n",
       "      <td>6.910777e+05</td>\n",
       "    </tr>\n",
       "    <tr>\n",
       "      <th>min</th>\n",
       "      <td>1.543204e+09</td>\n",
       "      <td>0.000000</td>\n",
       "      <td>1.000000</td>\n",
       "      <td>11.000000</td>\n",
       "      <td>2.500000</td>\n",
       "      <td>0.020000</td>\n",
       "      <td>1.000000</td>\n",
       "      <td>42.214800</td>\n",
       "      <td>-71.105400</td>\n",
       "      <td>18.910000</td>\n",
       "      <td>12.130000</td>\n",
       "      <td>0.000000</td>\n",
       "      <td>0.000000</td>\n",
       "      <td>0.380000</td>\n",
       "      <td>0.450000</td>\n",
       "      <td>0.800000</td>\n",
       "      <td>1.543151e+09</td>\n",
       "      <td>0.717000</td>\n",
       "      <td>32.680000</td>\n",
       "      <td>1.543154e+09</td>\n",
       "      <td>17.850000</td>\n",
       "      <td>1.543234e+09</td>\n",
       "      <td>22.620000</td>\n",
       "      <td>1.543187e+09</td>\n",
       "      <td>11.810000</td>\n",
       "      <td>1.543234e+09</td>\n",
       "      <td>4.390000</td>\n",
       "      <td>988.090000</td>\n",
       "      <td>2.000000</td>\n",
       "      <td>0.000000</td>\n",
       "      <td>0.000000</td>\n",
       "      <td>0.717000</td>\n",
       "      <td>269.400000</td>\n",
       "      <td>1.543147e+09</td>\n",
       "      <td>1.543181e+09</td>\n",
       "      <td>0.090000</td>\n",
       "      <td>0.000000</td>\n",
       "      <td>1.543162e+09</td>\n",
       "      <td>15.630000</td>\n",
       "      <td>1.543122e+09</td>\n",
       "      <td>33.510000</td>\n",
       "      <td>1.543154e+09</td>\n",
       "      <td>11.810000</td>\n",
       "      <td>1.543136e+09</td>\n",
       "      <td>28.950000</td>\n",
       "      <td>1.543187e+09</td>\n",
       "    </tr>\n",
       "    <tr>\n",
       "      <th>25%</th>\n",
       "      <td>1.543444e+09</td>\n",
       "      <td>6.000000</td>\n",
       "      <td>13.000000</td>\n",
       "      <td>11.000000</td>\n",
       "      <td>9.000000</td>\n",
       "      <td>1.280000</td>\n",
       "      <td>1.000000</td>\n",
       "      <td>42.350300</td>\n",
       "      <td>-71.081000</td>\n",
       "      <td>36.450000</td>\n",
       "      <td>31.910000</td>\n",
       "      <td>0.000000</td>\n",
       "      <td>0.000000</td>\n",
       "      <td>0.640000</td>\n",
       "      <td>3.410000</td>\n",
       "      <td>4.060000</td>\n",
       "      <td>1.543432e+09</td>\n",
       "      <td>8.432000</td>\n",
       "      <td>42.570000</td>\n",
       "      <td>1.543439e+09</td>\n",
       "      <td>30.170000</td>\n",
       "      <td>1.543489e+09</td>\n",
       "      <td>36.570000</td>\n",
       "      <td>1.543439e+09</td>\n",
       "      <td>27.700000</td>\n",
       "      <td>1.543478e+09</td>\n",
       "      <td>27.490000</td>\n",
       "      <td>999.820000</td>\n",
       "      <td>124.000000</td>\n",
       "      <td>0.370000</td>\n",
       "      <td>0.000000</td>\n",
       "      <td>8.432000</td>\n",
       "      <td>290.900000</td>\n",
       "      <td>1.543406e+09</td>\n",
       "      <td>1.543440e+09</td>\n",
       "      <td>0.300000</td>\n",
       "      <td>0.000000</td>\n",
       "      <td>1.543421e+09</td>\n",
       "      <td>30.170000</td>\n",
       "      <td>1.543399e+09</td>\n",
       "      <td>42.570000</td>\n",
       "      <td>1.543439e+09</td>\n",
       "      <td>27.760000</td>\n",
       "      <td>1.543399e+09</td>\n",
       "      <td>36.570000</td>\n",
       "      <td>1.543439e+09</td>\n",
       "    </tr>\n",
       "    <tr>\n",
       "      <th>50%</th>\n",
       "      <td>1.543737e+09</td>\n",
       "      <td>12.000000</td>\n",
       "      <td>17.000000</td>\n",
       "      <td>12.000000</td>\n",
       "      <td>13.500000</td>\n",
       "      <td>2.160000</td>\n",
       "      <td>1.000000</td>\n",
       "      <td>42.351900</td>\n",
       "      <td>-71.063100</td>\n",
       "      <td>40.490000</td>\n",
       "      <td>35.900000</td>\n",
       "      <td>0.000000</td>\n",
       "      <td>0.000000</td>\n",
       "      <td>0.710000</td>\n",
       "      <td>5.910000</td>\n",
       "      <td>7.550000</td>\n",
       "      <td>1.543756e+09</td>\n",
       "      <td>9.880000</td>\n",
       "      <td>44.680000</td>\n",
       "      <td>1.543788e+09</td>\n",
       "      <td>34.180000</td>\n",
       "      <td>1.543817e+09</td>\n",
       "      <td>40.950000</td>\n",
       "      <td>1.543788e+09</td>\n",
       "      <td>30.030000</td>\n",
       "      <td>1.543817e+09</td>\n",
       "      <td>30.690000</td>\n",
       "      <td>1009.250000</td>\n",
       "      <td>258.000000</td>\n",
       "      <td>0.820000</td>\n",
       "      <td>0.000000</td>\n",
       "      <td>9.880000</td>\n",
       "      <td>307.400000</td>\n",
       "      <td>1.543752e+09</td>\n",
       "      <td>1.543785e+09</td>\n",
       "      <td>0.680000</td>\n",
       "      <td>0.000400</td>\n",
       "      <td>1.543770e+09</td>\n",
       "      <td>34.240000</td>\n",
       "      <td>1.543727e+09</td>\n",
       "      <td>44.680000</td>\n",
       "      <td>1.543788e+09</td>\n",
       "      <td>30.130000</td>\n",
       "      <td>1.543745e+09</td>\n",
       "      <td>40.950000</td>\n",
       "      <td>1.543788e+09</td>\n",
       "    </tr>\n",
       "    <tr>\n",
       "      <th>75%</th>\n",
       "      <td>1.544828e+09</td>\n",
       "      <td>18.000000</td>\n",
       "      <td>28.000000</td>\n",
       "      <td>12.000000</td>\n",
       "      <td>22.500000</td>\n",
       "      <td>2.920000</td>\n",
       "      <td>1.000000</td>\n",
       "      <td>42.364700</td>\n",
       "      <td>-71.054200</td>\n",
       "      <td>43.580000</td>\n",
       "      <td>40.080000</td>\n",
       "      <td>0.000000</td>\n",
       "      <td>0.000000</td>\n",
       "      <td>0.880000</td>\n",
       "      <td>8.410000</td>\n",
       "      <td>11.740000</td>\n",
       "      <td>1.544846e+09</td>\n",
       "      <td>9.996000</td>\n",
       "      <td>46.910000</td>\n",
       "      <td>1.544814e+09</td>\n",
       "      <td>38.730000</td>\n",
       "      <td>1.544836e+09</td>\n",
       "      <td>44.120000</td>\n",
       "      <td>1.544818e+09</td>\n",
       "      <td>35.320000</td>\n",
       "      <td>1.544836e+09</td>\n",
       "      <td>38.120000</td>\n",
       "      <td>1021.860000</td>\n",
       "      <td>303.000000</td>\n",
       "      <td>1.000000</td>\n",
       "      <td>0.000000</td>\n",
       "      <td>9.996000</td>\n",
       "      <td>331.800000</td>\n",
       "      <td>1.544789e+09</td>\n",
       "      <td>1.544822e+09</td>\n",
       "      <td>0.790000</td>\n",
       "      <td>0.091600</td>\n",
       "      <td>1.544807e+09</td>\n",
       "      <td>38.880000</td>\n",
       "      <td>1.544789e+09</td>\n",
       "      <td>46.910000</td>\n",
       "      <td>1.544814e+09</td>\n",
       "      <td>35.710000</td>\n",
       "      <td>1.544789e+09</td>\n",
       "      <td>44.120000</td>\n",
       "      <td>1.544818e+09</td>\n",
       "    </tr>\n",
       "    <tr>\n",
       "      <th>max</th>\n",
       "      <td>1.545161e+09</td>\n",
       "      <td>23.000000</td>\n",
       "      <td>30.000000</td>\n",
       "      <td>12.000000</td>\n",
       "      <td>97.500000</td>\n",
       "      <td>7.860000</td>\n",
       "      <td>3.000000</td>\n",
       "      <td>42.366100</td>\n",
       "      <td>-71.033000</td>\n",
       "      <td>57.220000</td>\n",
       "      <td>57.220000</td>\n",
       "      <td>0.144700</td>\n",
       "      <td>1.000000</td>\n",
       "      <td>0.960000</td>\n",
       "      <td>15.000000</td>\n",
       "      <td>27.250000</td>\n",
       "      <td>1.545127e+09</td>\n",
       "      <td>10.000000</td>\n",
       "      <td>57.870000</td>\n",
       "      <td>1.545160e+09</td>\n",
       "      <td>46.600000</td>\n",
       "      <td>1.545221e+09</td>\n",
       "      <td>57.200000</td>\n",
       "      <td>1.545160e+09</td>\n",
       "      <td>47.250000</td>\n",
       "      <td>1.545199e+09</td>\n",
       "      <td>50.670000</td>\n",
       "      <td>1035.550000</td>\n",
       "      <td>356.000000</td>\n",
       "      <td>1.000000</td>\n",
       "      <td>2.000000</td>\n",
       "      <td>10.000000</td>\n",
       "      <td>378.900000</td>\n",
       "      <td>1.545135e+09</td>\n",
       "      <td>1.545168e+09</td>\n",
       "      <td>0.930000</td>\n",
       "      <td>0.145900</td>\n",
       "      <td>1.545152e+09</td>\n",
       "      <td>43.100000</td>\n",
       "      <td>1.545192e+09</td>\n",
       "      <td>57.870000</td>\n",
       "      <td>1.545109e+09</td>\n",
       "      <td>40.050000</td>\n",
       "      <td>1.545134e+09</td>\n",
       "      <td>57.200000</td>\n",
       "      <td>1.545109e+09</td>\n",
       "    </tr>\n",
       "  </tbody>\n",
       "</table>\n",
       "</div>"
      ],
      "text/plain": [
       "          timestamp           hour            day          month  \\\n",
       "count  6.930710e+05  693071.000000  693071.000000  693071.000000   \n",
       "mean   1.544046e+09      11.619137      17.794365      11.586684   \n",
       "std    6.891925e+05       6.948114       9.982286       0.492429   \n",
       "min    1.543204e+09       0.000000       1.000000      11.000000   \n",
       "25%    1.543444e+09       6.000000      13.000000      11.000000   \n",
       "50%    1.543737e+09      12.000000      17.000000      12.000000   \n",
       "75%    1.544828e+09      18.000000      28.000000      12.000000   \n",
       "max    1.545161e+09      23.000000      30.000000      12.000000   \n",
       "\n",
       "               price       distance  surge_multiplier       latitude  \\\n",
       "count  637976.000000  693071.000000     693071.000000  693071.000000   \n",
       "mean       16.545125       2.189430          1.013870      42.338172   \n",
       "std         9.324359       1.138937          0.091641       0.047840   \n",
       "min         2.500000       0.020000          1.000000      42.214800   \n",
       "25%         9.000000       1.280000          1.000000      42.350300   \n",
       "50%        13.500000       2.160000          1.000000      42.351900   \n",
       "75%        22.500000       2.920000          1.000000      42.364700   \n",
       "max        97.500000       7.860000          3.000000      42.366100   \n",
       "\n",
       "           longitude    temperature  apparentTemperature  precipIntensity  \\\n",
       "count  693071.000000  693071.000000        693071.000000    693071.000000   \n",
       "mean      -71.066151      39.584388            35.881222         0.008922   \n",
       "std         0.020302       6.726084             7.918707         0.026901   \n",
       "min       -71.105400      18.910000            12.130000         0.000000   \n",
       "25%       -71.081000      36.450000            31.910000         0.000000   \n",
       "50%       -71.063100      40.490000            35.900000         0.000000   \n",
       "75%       -71.054200      43.580000            40.080000         0.000000   \n",
       "max       -71.033000      57.220000            57.220000         0.144700   \n",
       "\n",
       "       precipProbability       humidity      windSpeed       windGust  \\\n",
       "count      693071.000000  693071.000000  693071.000000  693071.000000   \n",
       "mean            0.146076       0.741119       6.186253       8.469860   \n",
       "std             0.328938       0.138595       3.148223       5.289179   \n",
       "min             0.000000       0.380000       0.450000       0.800000   \n",
       "25%             0.000000       0.640000       3.410000       4.060000   \n",
       "50%             0.000000       0.710000       5.910000       7.550000   \n",
       "75%             0.000000       0.880000       8.410000      11.740000   \n",
       "max             1.000000       0.960000      15.000000      27.250000   \n",
       "\n",
       "       windGustTime     visibility  temperatureHigh  temperatureHighTime  \\\n",
       "count  6.930710e+05  693071.000000    693071.000000         6.930710e+05   \n",
       "mean   1.544049e+09       8.467970        45.040982         1.544050e+09   \n",
       "std    6.928244e+05       2.602888         5.996541         6.937921e+05   \n",
       "min    1.543151e+09       0.717000        32.680000         1.543154e+09   \n",
       "25%    1.543432e+09       8.432000        42.570000         1.543439e+09   \n",
       "50%    1.543756e+09       9.880000        44.680000         1.543788e+09   \n",
       "75%    1.544846e+09       9.996000        46.910000         1.544814e+09   \n",
       "max    1.545127e+09      10.000000        57.870000         1.545160e+09   \n",
       "\n",
       "       temperatureLow  temperatureLowTime  apparentTemperatureHigh  \\\n",
       "count   693071.000000        6.930710e+05            693071.000000   \n",
       "mean        34.150736        1.544102e+09                41.614054   \n",
       "std          6.383163        6.922923e+05                 7.666138   \n",
       "min         17.850000        1.543234e+09                22.620000   \n",
       "25%         30.170000        1.543489e+09                36.570000   \n",
       "50%         34.180000        1.543817e+09                40.950000   \n",
       "75%         38.730000        1.544836e+09                44.120000   \n",
       "max         46.600000        1.545221e+09                57.200000   \n",
       "\n",
       "       apparentTemperatureHighTime  apparentTemperatureLow  \\\n",
       "count                 6.930710e+05           693071.000000   \n",
       "mean                  1.544050e+09               30.139824   \n",
       "std                   6.941699e+05                8.057468   \n",
       "min                   1.543187e+09               11.810000   \n",
       "25%                   1.543439e+09               27.700000   \n",
       "50%                   1.543788e+09               30.030000   \n",
       "75%                   1.544818e+09               35.320000   \n",
       "max                   1.545160e+09               47.250000   \n",
       "\n",
       "       apparentTemperatureLowTime       dewPoint       pressure  \\\n",
       "count                6.930710e+05  693071.000000  693071.000000   \n",
       "mean                 1.544099e+09      31.656256    1010.094766   \n",
       "std                  6.927378e+05       9.142355      13.472899   \n",
       "min                  1.543234e+09       4.390000     988.090000   \n",
       "25%                  1.543478e+09      27.490000     999.820000   \n",
       "50%                  1.543817e+09      30.690000    1009.250000   \n",
       "75%                  1.544836e+09      38.120000    1021.860000   \n",
       "max                  1.545199e+09      50.670000    1035.550000   \n",
       "\n",
       "         windBearing     cloudCover        uvIndex   visibility.1  \\\n",
       "count  693071.000000  693071.000000  693071.000000  693071.000000   \n",
       "mean      220.055853       0.686502       0.248908       8.467970   \n",
       "std        99.102736       0.358534       0.474097       2.602888   \n",
       "min         2.000000       0.000000       0.000000       0.717000   \n",
       "25%       124.000000       0.370000       0.000000       8.432000   \n",
       "50%       258.000000       0.820000       0.000000       9.880000   \n",
       "75%       303.000000       1.000000       0.000000       9.996000   \n",
       "max       356.000000       1.000000       2.000000      10.000000   \n",
       "\n",
       "               ozone   sunriseTime    sunsetTime      moonPhase  \\\n",
       "count  693071.000000  6.930710e+05  6.930710e+05  693071.000000   \n",
       "mean      313.513635  1.544027e+09  1.544060e+09       0.579066   \n",
       "std        27.953061  6.911393e+05  6.906634e+05       0.244705   \n",
       "min       269.400000  1.543147e+09  1.543181e+09       0.090000   \n",
       "25%       290.900000  1.543406e+09  1.543440e+09       0.300000   \n",
       "50%       307.400000  1.543752e+09  1.543785e+09       0.680000   \n",
       "75%       331.800000  1.544789e+09  1.544822e+09       0.790000   \n",
       "max       378.900000  1.545135e+09  1.545168e+09       0.930000   \n",
       "\n",
       "       precipIntensityMax   uvIndexTime  temperatureMin  temperatureMinTime  \\\n",
       "count       693071.000000  6.930710e+05   693071.000000        6.930710e+05   \n",
       "mean             0.037374  1.544044e+09       33.457774        1.544042e+09   \n",
       "std              0.055214  6.912028e+05        6.467224        6.901954e+05   \n",
       "min              0.000000  1.543162e+09       15.630000        1.543122e+09   \n",
       "25%              0.000000  1.543421e+09       30.170000        1.543399e+09   \n",
       "50%              0.000400  1.543770e+09       34.240000        1.543727e+09   \n",
       "75%              0.091600  1.544807e+09       38.880000        1.544789e+09   \n",
       "max              0.145900  1.545152e+09       43.100000        1.545192e+09   \n",
       "\n",
       "       temperatureMax  temperatureMaxTime  apparentTemperatureMin  \\\n",
       "count   693071.000000        6.930710e+05           693071.000000   \n",
       "mean        45.261313        1.544047e+09               29.731002   \n",
       "std          5.645046        6.901353e+05                7.110494   \n",
       "min         33.510000        1.543154e+09               11.810000   \n",
       "25%         42.570000        1.543439e+09               27.760000   \n",
       "50%         44.680000        1.543788e+09               30.130000   \n",
       "75%         46.910000        1.544814e+09               35.710000   \n",
       "max         57.870000        1.545109e+09               40.050000   \n",
       "\n",
       "       apparentTemperatureMinTime  apparentTemperatureMax  \\\n",
       "count                6.930710e+05           693071.000000   \n",
       "mean                 1.544048e+09               41.997343   \n",
       "std                  6.871862e+05                6.936841   \n",
       "min                  1.543136e+09               28.950000   \n",
       "25%                  1.543399e+09               36.570000   \n",
       "50%                  1.543745e+09               40.950000   \n",
       "75%                  1.544789e+09               44.120000   \n",
       "max                  1.545134e+09               57.200000   \n",
       "\n",
       "       apparentTemperatureMaxTime  \n",
       "count                6.930710e+05  \n",
       "mean                 1.544048e+09  \n",
       "std                  6.910777e+05  \n",
       "min                  1.543187e+09  \n",
       "25%                  1.543439e+09  \n",
       "50%                  1.543788e+09  \n",
       "75%                  1.544818e+09  \n",
       "max                  1.545109e+09  "
      ]
     },
     "execution_count": 5,
     "metadata": {},
     "output_type": "execute_result"
    }
   ],
   "source": [
    "df.describe()"
   ]
  },
  {
   "cell_type": "markdown",
   "id": "6c84ecf5",
   "metadata": {},
   "source": [
    "dataset tersebut hanya memuat data pada bulan 11 dan 12 ditahun 2009 "
   ]
  },
  {
   "cell_type": "markdown",
   "id": "3b43dc30",
   "metadata": {},
   "source": [
    "# Data Cleaning"
   ]
  },
  {
   "cell_type": "code",
   "execution_count": 6,
   "id": "c8149837",
   "metadata": {},
   "outputs": [
    {
     "data": {
      "text/html": [
       "<div>\n",
       "<style scoped>\n",
       "    .dataframe tbody tr th:only-of-type {\n",
       "        vertical-align: middle;\n",
       "    }\n",
       "\n",
       "    .dataframe tbody tr th {\n",
       "        vertical-align: top;\n",
       "    }\n",
       "\n",
       "    .dataframe thead th {\n",
       "        text-align: right;\n",
       "    }\n",
       "</style>\n",
       "<table border=\"1\" class=\"dataframe\">\n",
       "  <thead>\n",
       "    <tr style=\"text-align: right;\">\n",
       "      <th></th>\n",
       "      <th>cab_type</th>\n",
       "      <th>name</th>\n",
       "      <th>hour</th>\n",
       "      <th>month</th>\n",
       "      <th>distance</th>\n",
       "      <th>temperature</th>\n",
       "      <th>short_summary</th>\n",
       "      <th>windSpeed</th>\n",
       "      <th>surge_multiplier</th>\n",
       "      <th>price</th>\n",
       "    </tr>\n",
       "  </thead>\n",
       "  <tbody>\n",
       "    <tr>\n",
       "      <th>0</th>\n",
       "      <td>Lyft</td>\n",
       "      <td>Shared</td>\n",
       "      <td>9</td>\n",
       "      <td>12</td>\n",
       "      <td>0.44</td>\n",
       "      <td>42.34</td>\n",
       "      <td>Mostly Cloudy</td>\n",
       "      <td>8.66</td>\n",
       "      <td>1.0</td>\n",
       "      <td>5.0</td>\n",
       "    </tr>\n",
       "    <tr>\n",
       "      <th>1</th>\n",
       "      <td>Lyft</td>\n",
       "      <td>Lux</td>\n",
       "      <td>2</td>\n",
       "      <td>11</td>\n",
       "      <td>0.44</td>\n",
       "      <td>43.58</td>\n",
       "      <td>Rain</td>\n",
       "      <td>11.98</td>\n",
       "      <td>1.0</td>\n",
       "      <td>11.0</td>\n",
       "    </tr>\n",
       "    <tr>\n",
       "      <th>2</th>\n",
       "      <td>Lyft</td>\n",
       "      <td>Lyft</td>\n",
       "      <td>1</td>\n",
       "      <td>11</td>\n",
       "      <td>0.44</td>\n",
       "      <td>38.33</td>\n",
       "      <td>Clear</td>\n",
       "      <td>7.33</td>\n",
       "      <td>1.0</td>\n",
       "      <td>7.0</td>\n",
       "    </tr>\n",
       "    <tr>\n",
       "      <th>3</th>\n",
       "      <td>Lyft</td>\n",
       "      <td>Lux Black XL</td>\n",
       "      <td>4</td>\n",
       "      <td>11</td>\n",
       "      <td>0.44</td>\n",
       "      <td>34.38</td>\n",
       "      <td>Clear</td>\n",
       "      <td>5.28</td>\n",
       "      <td>1.0</td>\n",
       "      <td>26.0</td>\n",
       "    </tr>\n",
       "    <tr>\n",
       "      <th>4</th>\n",
       "      <td>Lyft</td>\n",
       "      <td>Lyft XL</td>\n",
       "      <td>3</td>\n",
       "      <td>11</td>\n",
       "      <td>0.44</td>\n",
       "      <td>37.44</td>\n",
       "      <td>Partly Cloudy</td>\n",
       "      <td>9.14</td>\n",
       "      <td>1.0</td>\n",
       "      <td>9.0</td>\n",
       "    </tr>\n",
       "  </tbody>\n",
       "</table>\n",
       "</div>"
      ],
      "text/plain": [
       "  cab_type          name  hour  month  distance  temperature    short_summary  \\\n",
       "0     Lyft        Shared     9     12      0.44        42.34   Mostly Cloudy    \n",
       "1     Lyft           Lux     2     11      0.44        43.58            Rain    \n",
       "2     Lyft          Lyft     1     11      0.44        38.33           Clear    \n",
       "3     Lyft  Lux Black XL     4     11      0.44        34.38           Clear    \n",
       "4     Lyft       Lyft XL     3     11      0.44        37.44   Partly Cloudy    \n",
       "\n",
       "   windSpeed  surge_multiplier  price  \n",
       "0       8.66               1.0    5.0  \n",
       "1      11.98               1.0   11.0  \n",
       "2       7.33               1.0    7.0  \n",
       "3       5.28               1.0   26.0  \n",
       "4       9.14               1.0    9.0  "
      ]
     },
     "execution_count": 6,
     "metadata": {},
     "output_type": "execute_result"
    }
   ],
   "source": [
    "#mengambil fitur-fitur yang akan digunakan untuk linear regression dan menyimpannya dalam variabel baru\n",
    "use_cols=['cab_type','name','hour','month','distance','temperature','short_summary','windSpeed','surge_multiplier','price']\n",
    "df_for_LR=df[use_cols]\n",
    "df_for_LR.head()"
   ]
  },
  {
   "cell_type": "code",
   "execution_count": 7,
   "id": "726d239d",
   "metadata": {},
   "outputs": [
    {
     "data": {
      "text/plain": [
       "(693071, 10)"
      ]
     },
     "execution_count": 7,
     "metadata": {},
     "output_type": "execute_result"
    }
   ],
   "source": [
    "df_for_LR.shape"
   ]
  },
  {
   "cell_type": "code",
   "execution_count": 8,
   "id": "bdeeed7c",
   "metadata": {
    "scrolled": true
   },
   "outputs": [
    {
     "data": {
      "text/plain": [
       "cab_type                0\n",
       "name                    0\n",
       "hour                    0\n",
       "month                   0\n",
       "distance                0\n",
       "temperature             0\n",
       "short_summary           0\n",
       "windSpeed               0\n",
       "surge_multiplier        0\n",
       "price               55095\n",
       "dtype: int64"
      ]
     },
     "execution_count": 8,
     "metadata": {},
     "output_type": "execute_result"
    }
   ],
   "source": [
    "#Memeriksa missing value\n",
    "df_for_LR.isnull().sum()"
   ]
  },
  {
   "cell_type": "code",
   "execution_count": 9,
   "id": "02d54837",
   "metadata": {},
   "outputs": [
    {
     "data": {
      "text/html": [
       "<div>\n",
       "<style scoped>\n",
       "    .dataframe tbody tr th:only-of-type {\n",
       "        vertical-align: middle;\n",
       "    }\n",
       "\n",
       "    .dataframe tbody tr th {\n",
       "        vertical-align: top;\n",
       "    }\n",
       "\n",
       "    .dataframe thead th {\n",
       "        text-align: right;\n",
       "    }\n",
       "</style>\n",
       "<table border=\"1\" class=\"dataframe\">\n",
       "  <thead>\n",
       "    <tr style=\"text-align: right;\">\n",
       "      <th></th>\n",
       "      <th>cab_type</th>\n",
       "      <th>name</th>\n",
       "      <th>hour</th>\n",
       "      <th>month</th>\n",
       "      <th>distance</th>\n",
       "      <th>temperature</th>\n",
       "      <th>short_summary</th>\n",
       "      <th>windSpeed</th>\n",
       "      <th>surge_multiplier</th>\n",
       "      <th>price</th>\n",
       "    </tr>\n",
       "  </thead>\n",
       "  <tbody>\n",
       "    <tr>\n",
       "      <th>0</th>\n",
       "      <td>Lyft</td>\n",
       "      <td>Shared</td>\n",
       "      <td>9</td>\n",
       "      <td>12</td>\n",
       "      <td>0.44</td>\n",
       "      <td>42.34</td>\n",
       "      <td>Mostly Cloudy</td>\n",
       "      <td>8.66</td>\n",
       "      <td>1.0</td>\n",
       "      <td>5.0</td>\n",
       "    </tr>\n",
       "    <tr>\n",
       "      <th>1</th>\n",
       "      <td>Lyft</td>\n",
       "      <td>Lux</td>\n",
       "      <td>2</td>\n",
       "      <td>11</td>\n",
       "      <td>0.44</td>\n",
       "      <td>43.58</td>\n",
       "      <td>Rain</td>\n",
       "      <td>11.98</td>\n",
       "      <td>1.0</td>\n",
       "      <td>11.0</td>\n",
       "    </tr>\n",
       "    <tr>\n",
       "      <th>2</th>\n",
       "      <td>Lyft</td>\n",
       "      <td>Lyft</td>\n",
       "      <td>1</td>\n",
       "      <td>11</td>\n",
       "      <td>0.44</td>\n",
       "      <td>38.33</td>\n",
       "      <td>Clear</td>\n",
       "      <td>7.33</td>\n",
       "      <td>1.0</td>\n",
       "      <td>7.0</td>\n",
       "    </tr>\n",
       "    <tr>\n",
       "      <th>3</th>\n",
       "      <td>Lyft</td>\n",
       "      <td>Lux Black XL</td>\n",
       "      <td>4</td>\n",
       "      <td>11</td>\n",
       "      <td>0.44</td>\n",
       "      <td>34.38</td>\n",
       "      <td>Clear</td>\n",
       "      <td>5.28</td>\n",
       "      <td>1.0</td>\n",
       "      <td>26.0</td>\n",
       "    </tr>\n",
       "    <tr>\n",
       "      <th>4</th>\n",
       "      <td>Lyft</td>\n",
       "      <td>Lyft XL</td>\n",
       "      <td>3</td>\n",
       "      <td>11</td>\n",
       "      <td>0.44</td>\n",
       "      <td>37.44</td>\n",
       "      <td>Partly Cloudy</td>\n",
       "      <td>9.14</td>\n",
       "      <td>1.0</td>\n",
       "      <td>9.0</td>\n",
       "    </tr>\n",
       "  </tbody>\n",
       "</table>\n",
       "</div>"
      ],
      "text/plain": [
       "  cab_type          name  hour  month  distance  temperature    short_summary  \\\n",
       "0     Lyft        Shared     9     12      0.44        42.34   Mostly Cloudy    \n",
       "1     Lyft           Lux     2     11      0.44        43.58            Rain    \n",
       "2     Lyft          Lyft     1     11      0.44        38.33           Clear    \n",
       "3     Lyft  Lux Black XL     4     11      0.44        34.38           Clear    \n",
       "4     Lyft       Lyft XL     3     11      0.44        37.44   Partly Cloudy    \n",
       "\n",
       "   windSpeed  surge_multiplier  price  \n",
       "0       8.66               1.0    5.0  \n",
       "1      11.98               1.0   11.0  \n",
       "2       7.33               1.0    7.0  \n",
       "3       5.28               1.0   26.0  \n",
       "4       9.14               1.0    9.0  "
      ]
     },
     "execution_count": 9,
     "metadata": {},
     "output_type": "execute_result"
    }
   ],
   "source": [
    "#meghapus baris yang terdapat missing value \n",
    "df_for_LR=df_for_LR.dropna()\n",
    "df_for_LR.head()"
   ]
  },
  {
   "cell_type": "code",
   "execution_count": 10,
   "id": "2df75c8a",
   "metadata": {},
   "outputs": [
    {
     "data": {
      "text/plain": [
       "(637976, 10)"
      ]
     },
     "execution_count": 10,
     "metadata": {},
     "output_type": "execute_result"
    }
   ],
   "source": [
    "df_for_LR.shape"
   ]
  },
  {
   "cell_type": "markdown",
   "id": "11911a54",
   "metadata": {},
   "source": [
    "mengganti nama kolom :\n",
    "- cab_type menjadi companies\n",
    "- name menajadi service_class\n",
    "- windSpeed menjadi wind_speed\n",
    "- hour menjadi time\n",
    "- short_summary menjadi weather\n"
   ]
  },
  {
   "cell_type": "markdown",
   "id": "b6e3bd4c",
   "metadata": {},
   "source": [
    "Terdapat missing value pada fitur price, melihat ada cukup banyak missing value yaitu ada sebanyak 55.095 baris, maka missing value ini akan didrop/dihapus."
   ]
  },
  {
   "cell_type": "code",
   "execution_count": 11,
   "id": "c0845ee4",
   "metadata": {},
   "outputs": [
    {
     "name": "stderr",
     "output_type": "stream",
     "text": [
      "C:\\Program Files (x86)\\Anaconda\\lib\\site-packages\\pandas\\core\\frame.py:4441: SettingWithCopyWarning: \n",
      "A value is trying to be set on a copy of a slice from a DataFrame\n",
      "\n",
      "See the caveats in the documentation: https://pandas.pydata.org/pandas-docs/stable/user_guide/indexing.html#returning-a-view-versus-a-copy\n",
      "  return super().rename(\n"
     ]
    },
    {
     "data": {
      "text/html": [
       "<div>\n",
       "<style scoped>\n",
       "    .dataframe tbody tr th:only-of-type {\n",
       "        vertical-align: middle;\n",
       "    }\n",
       "\n",
       "    .dataframe tbody tr th {\n",
       "        vertical-align: top;\n",
       "    }\n",
       "\n",
       "    .dataframe thead th {\n",
       "        text-align: right;\n",
       "    }\n",
       "</style>\n",
       "<table border=\"1\" class=\"dataframe\">\n",
       "  <thead>\n",
       "    <tr style=\"text-align: right;\">\n",
       "      <th></th>\n",
       "      <th>companies</th>\n",
       "      <th>service_class</th>\n",
       "      <th>time</th>\n",
       "      <th>month</th>\n",
       "      <th>distance</th>\n",
       "      <th>temperature</th>\n",
       "      <th>weather</th>\n",
       "      <th>wind_speed</th>\n",
       "      <th>surge_multiplier</th>\n",
       "      <th>price</th>\n",
       "    </tr>\n",
       "  </thead>\n",
       "  <tbody>\n",
       "    <tr>\n",
       "      <th>0</th>\n",
       "      <td>Lyft</td>\n",
       "      <td>Shared</td>\n",
       "      <td>9</td>\n",
       "      <td>12</td>\n",
       "      <td>0.44</td>\n",
       "      <td>42.34</td>\n",
       "      <td>Mostly Cloudy</td>\n",
       "      <td>8.66</td>\n",
       "      <td>1.0</td>\n",
       "      <td>5.0</td>\n",
       "    </tr>\n",
       "    <tr>\n",
       "      <th>1</th>\n",
       "      <td>Lyft</td>\n",
       "      <td>Lux</td>\n",
       "      <td>2</td>\n",
       "      <td>11</td>\n",
       "      <td>0.44</td>\n",
       "      <td>43.58</td>\n",
       "      <td>Rain</td>\n",
       "      <td>11.98</td>\n",
       "      <td>1.0</td>\n",
       "      <td>11.0</td>\n",
       "    </tr>\n",
       "    <tr>\n",
       "      <th>2</th>\n",
       "      <td>Lyft</td>\n",
       "      <td>Lyft</td>\n",
       "      <td>1</td>\n",
       "      <td>11</td>\n",
       "      <td>0.44</td>\n",
       "      <td>38.33</td>\n",
       "      <td>Clear</td>\n",
       "      <td>7.33</td>\n",
       "      <td>1.0</td>\n",
       "      <td>7.0</td>\n",
       "    </tr>\n",
       "  </tbody>\n",
       "</table>\n",
       "</div>"
      ],
      "text/plain": [
       "  companies service_class  time  month  distance  temperature  \\\n",
       "0      Lyft        Shared     9     12      0.44        42.34   \n",
       "1      Lyft           Lux     2     11      0.44        43.58   \n",
       "2      Lyft          Lyft     1     11      0.44        38.33   \n",
       "\n",
       "           weather  wind_speed  surge_multiplier  price  \n",
       "0   Mostly Cloudy         8.66               1.0    5.0  \n",
       "1            Rain        11.98               1.0   11.0  \n",
       "2           Clear         7.33               1.0    7.0  "
      ]
     },
     "execution_count": 11,
     "metadata": {},
     "output_type": "execute_result"
    }
   ],
   "source": [
    "df_for_LR.rename(columns={'cab_type':'companies','hour':'time',\n",
    "                         'short_summary':'weather',\n",
    "                          'name':'service_class','windSpeed':'wind_speed'},inplace=True)\n",
    "df_for_LR.head(3)"
   ]
  },
  {
   "cell_type": "markdown",
   "id": "843f36ca",
   "metadata": {},
   "source": [
    "# Data Exploration"
   ]
  },
  {
   "cell_type": "code",
   "execution_count": 12,
   "id": "77c490d9",
   "metadata": {},
   "outputs": [
    {
     "data": {
      "text/html": [
       "<div>\n",
       "<style scoped>\n",
       "    .dataframe tbody tr th:only-of-type {\n",
       "        vertical-align: middle;\n",
       "    }\n",
       "\n",
       "    .dataframe tbody tr th {\n",
       "        vertical-align: top;\n",
       "    }\n",
       "\n",
       "    .dataframe thead th {\n",
       "        text-align: right;\n",
       "    }\n",
       "</style>\n",
       "<table border=\"1\" class=\"dataframe\">\n",
       "  <thead>\n",
       "    <tr style=\"text-align: right;\">\n",
       "      <th></th>\n",
       "      <th>time</th>\n",
       "      <th>month</th>\n",
       "      <th>distance</th>\n",
       "      <th>temperature</th>\n",
       "      <th>wind_speed</th>\n",
       "      <th>surge_multiplier</th>\n",
       "      <th>price</th>\n",
       "    </tr>\n",
       "  </thead>\n",
       "  <tbody>\n",
       "    <tr>\n",
       "      <th>count</th>\n",
       "      <td>637976.000000</td>\n",
       "      <td>637976.000000</td>\n",
       "      <td>637976.000000</td>\n",
       "      <td>637976.000000</td>\n",
       "      <td>637976.000000</td>\n",
       "      <td>637976.000000</td>\n",
       "      <td>637976.000000</td>\n",
       "    </tr>\n",
       "    <tr>\n",
       "      <th>mean</th>\n",
       "      <td>11.618528</td>\n",
       "      <td>11.586550</td>\n",
       "      <td>2.189261</td>\n",
       "      <td>39.582406</td>\n",
       "      <td>6.186795</td>\n",
       "      <td>1.015068</td>\n",
       "      <td>16.545125</td>\n",
       "    </tr>\n",
       "    <tr>\n",
       "      <th>std</th>\n",
       "      <td>6.948776</td>\n",
       "      <td>0.492452</td>\n",
       "      <td>1.135413</td>\n",
       "      <td>6.725500</td>\n",
       "      <td>3.147856</td>\n",
       "      <td>0.095422</td>\n",
       "      <td>9.324359</td>\n",
       "    </tr>\n",
       "    <tr>\n",
       "      <th>min</th>\n",
       "      <td>0.000000</td>\n",
       "      <td>11.000000</td>\n",
       "      <td>0.020000</td>\n",
       "      <td>18.910000</td>\n",
       "      <td>0.450000</td>\n",
       "      <td>1.000000</td>\n",
       "      <td>2.500000</td>\n",
       "    </tr>\n",
       "    <tr>\n",
       "      <th>25%</th>\n",
       "      <td>6.000000</td>\n",
       "      <td>11.000000</td>\n",
       "      <td>1.270000</td>\n",
       "      <td>36.450000</td>\n",
       "      <td>3.410000</td>\n",
       "      <td>1.000000</td>\n",
       "      <td>9.000000</td>\n",
       "    </tr>\n",
       "    <tr>\n",
       "      <th>50%</th>\n",
       "      <td>12.000000</td>\n",
       "      <td>12.000000</td>\n",
       "      <td>2.160000</td>\n",
       "      <td>40.490000</td>\n",
       "      <td>5.910000</td>\n",
       "      <td>1.000000</td>\n",
       "      <td>13.500000</td>\n",
       "    </tr>\n",
       "    <tr>\n",
       "      <th>75%</th>\n",
       "      <td>18.000000</td>\n",
       "      <td>12.000000</td>\n",
       "      <td>2.930000</td>\n",
       "      <td>43.580000</td>\n",
       "      <td>8.410000</td>\n",
       "      <td>1.000000</td>\n",
       "      <td>22.500000</td>\n",
       "    </tr>\n",
       "    <tr>\n",
       "      <th>max</th>\n",
       "      <td>23.000000</td>\n",
       "      <td>12.000000</td>\n",
       "      <td>7.860000</td>\n",
       "      <td>57.220000</td>\n",
       "      <td>15.000000</td>\n",
       "      <td>3.000000</td>\n",
       "      <td>97.500000</td>\n",
       "    </tr>\n",
       "  </tbody>\n",
       "</table>\n",
       "</div>"
      ],
      "text/plain": [
       "                time          month       distance    temperature  \\\n",
       "count  637976.000000  637976.000000  637976.000000  637976.000000   \n",
       "mean       11.618528      11.586550       2.189261      39.582406   \n",
       "std         6.948776       0.492452       1.135413       6.725500   \n",
       "min         0.000000      11.000000       0.020000      18.910000   \n",
       "25%         6.000000      11.000000       1.270000      36.450000   \n",
       "50%        12.000000      12.000000       2.160000      40.490000   \n",
       "75%        18.000000      12.000000       2.930000      43.580000   \n",
       "max        23.000000      12.000000       7.860000      57.220000   \n",
       "\n",
       "          wind_speed  surge_multiplier          price  \n",
       "count  637976.000000     637976.000000  637976.000000  \n",
       "mean        6.186795          1.015068      16.545125  \n",
       "std         3.147856          0.095422       9.324359  \n",
       "min         0.450000          1.000000       2.500000  \n",
       "25%         3.410000          1.000000       9.000000  \n",
       "50%         5.910000          1.000000      13.500000  \n",
       "75%         8.410000          1.000000      22.500000  \n",
       "max        15.000000          3.000000      97.500000  "
      ]
     },
     "execution_count": 12,
     "metadata": {},
     "output_type": "execute_result"
    }
   ],
   "source": [
    "#Melihat deskripsi statistik singkat data yang digunakan\n",
    "df_for_LR.describe()"
   ]
  },
  {
   "cell_type": "markdown",
   "id": "78dfd059",
   "metadata": {},
   "source": [
    "- rata-rata penumpang menggunakan taxi sekitar pukul 12\n",
    "- jarak yang ditempuh berkisar 0.02 hingga 7.86, dengan rata-rata 2.19\n",
    "- suhu udara cukup bervariasi mulai dari 18.91 hingga 57.22 dengan rata-rata suhu udara 39.5 \n",
    "- kecepatan angin ada direntang 0.45 hingga 15 dengan rata-rata 6.19\n",
    "- tarif taxi berkisar di 2.5 hingga paling tinggi 97.5 dan rata-rata 16.5\n",
    "- harga taxi dapat 1-3x lipat dari harga standar akibat dari kondisi tertentu, namun umumnya tidak ada tambahan biaya dan tetap menggunakan tarif normal"
   ]
  },
  {
   "cell_type": "markdown",
   "id": "3a87e9bf",
   "metadata": {},
   "source": [
    "## Data Exploration each Feature"
   ]
  },
  {
   "cell_type": "markdown",
   "id": "20ccbd98",
   "metadata": {},
   "source": [
    "### Companies"
   ]
  },
  {
   "cell_type": "code",
   "execution_count": 13,
   "id": "e1b2853f",
   "metadata": {},
   "outputs": [
    {
     "data": {
      "text/html": [
       "<div>\n",
       "<style scoped>\n",
       "    .dataframe tbody tr th:only-of-type {\n",
       "        vertical-align: middle;\n",
       "    }\n",
       "\n",
       "    .dataframe tbody tr th {\n",
       "        vertical-align: top;\n",
       "    }\n",
       "\n",
       "    .dataframe thead th {\n",
       "        text-align: right;\n",
       "    }\n",
       "</style>\n",
       "<table border=\"1\" class=\"dataframe\">\n",
       "  <thead>\n",
       "    <tr style=\"text-align: right;\">\n",
       "      <th></th>\n",
       "      <th>companies</th>\n",
       "    </tr>\n",
       "  </thead>\n",
       "  <tbody>\n",
       "    <tr>\n",
       "      <th>Uber</th>\n",
       "      <td>330568</td>\n",
       "    </tr>\n",
       "    <tr>\n",
       "      <th>Lyft</th>\n",
       "      <td>307408</td>\n",
       "    </tr>\n",
       "  </tbody>\n",
       "</table>\n",
       "</div>"
      ],
      "text/plain": [
       "      companies\n",
       "Uber     330568\n",
       "Lyft     307408"
      ]
     },
     "execution_count": 13,
     "metadata": {},
     "output_type": "execute_result"
    }
   ],
   "source": [
    "#melihat jumlah data pada masing-masing perusahaan \n",
    "df_companies=pd.DataFrame(df_for_LR['companies'].value_counts())\n",
    "df_companies"
   ]
  },
  {
   "cell_type": "markdown",
   "id": "2c102ab0",
   "metadata": {},
   "source": [
    "Dataset yang digunakan memuat dua perusahaan taxi yaitu Uber dan Lyft"
   ]
  },
  {
   "cell_type": "code",
   "execution_count": 14,
   "id": "4284930c",
   "metadata": {},
   "outputs": [
    {
     "data": {
      "image/png": "[encoded data removed]",
      "text/plain": [
       "<Figure size 360x432 with 1 Axes>"
      ]
     },
     "metadata": {},
     "output_type": "display_data"
    }
   ],
   "source": [
    "#membandingkan jumlah data masing-masing perusahaan\n",
    "df_companies['companies'].plot(kind='pie', figsize=(5,6),\n",
    "                              autopct='%1.1f%%',startangle=90,\n",
    "                              labels=None, colors=['plum','springgreen'])\n",
    "plt.title('Persentase Jumlah Data Uber vs Lyft', fontsize=20)\n",
    "plt.legend(labels=df_companies.index)\n",
    "plt.show()"
   ]
  },
  {
   "cell_type": "markdown",
   "id": "4dc95c78",
   "metadata": {},
   "source": [
    "Data Uber dan Lyft yang tersedia cukup imbang dengan selisih hanya 3.6% sehingga cukup baik untuk nantinya digunakan saat melatih model prediksi"
   ]
  },
  {
   "cell_type": "markdown",
   "id": "128d5b7f",
   "metadata": {},
   "source": [
    "### service_class"
   ]
  },
  {
   "cell_type": "code",
   "execution_count": 15,
   "id": "4ae199fd",
   "metadata": {},
   "outputs": [
    {
     "data": {
      "text/plain": [
       "service_class\n",
       "Lux             51235\n",
       "Lux Black       51235\n",
       "Lux Black XL    51235\n",
       "Lyft            51235\n",
       "Lyft XL         51235\n",
       "Shared          51233\n",
       "Name: service_class, dtype: int64"
      ]
     },
     "execution_count": 15,
     "metadata": {},
     "output_type": "execute_result"
    }
   ],
   "source": [
    "#Melihat layanan yang tersedia pada taxi Lyft\n",
    "df_for_LR[(df_for_LR['companies']=='Lyft')].groupby(['service_class'])['service_class'].count()"
   ]
  },
  {
   "cell_type": "markdown",
   "id": "0c316b63",
   "metadata": {},
   "source": [
    "Layanan taxi Lyft terbagi menjadi 6 kelas seperti yang diperlihatkan data diatas dan datanya terdistribusi sama rata"
   ]
  },
  {
   "cell_type": "code",
   "execution_count": 16,
   "id": "50c5f834",
   "metadata": {},
   "outputs": [
    {
     "data": {
      "text/plain": [
       "service_class\n",
       "Black        55095\n",
       "Black SUV    55096\n",
       "UberPool     55091\n",
       "UberX        55094\n",
       "UberXL       55096\n",
       "WAV          55096\n",
       "Name: service_class, dtype: int64"
      ]
     },
     "execution_count": 16,
     "metadata": {},
     "output_type": "execute_result"
    }
   ],
   "source": [
    "#Melihat layanan yang tersedia pada taxi Uber\n",
    "df_for_LR[(df_for_LR['companies']=='Uber')].groupby(['service_class'])['service_class'].count()"
   ]
  },
  {
   "cell_type": "markdown",
   "id": "8ee9bf31",
   "metadata": {},
   "source": [
    "Layanan taxi uber juga terbagi menjadi 6 kelas dan terdistribusi sama rata "
   ]
  },
  {
   "cell_type": "markdown",
   "id": "348d8d4f",
   "metadata": {},
   "source": [
    "### time"
   ]
  },
  {
   "cell_type": "code",
   "execution_count": 17,
   "id": "1aff747f",
   "metadata": {},
   "outputs": [
    {
     "data": {
      "image/png": "[encoded data removed]",
      "text/plain": [
       "<Figure size 432x288 with 1 Axes>"
      ]
     },
     "metadata": {
      "needs_background": "light"
     },
     "output_type": "display_data"
    }
   ],
   "source": [
    "#Melihat distribusi waktu penumpang taxi\n",
    "bin_edges=[i for i in range(0,24)]\n",
    "df_for_LR['time'].plot(kind='hist',edgecolor='black',\n",
    "                       xticks=bin_edges, bins=24,\n",
    "                      color='moccasin')\n",
    "plt.title('Histogram Waktu Penggunaan Taxi Online', fontsize=20)\n",
    "plt.xlabel('Time')\n",
    "plt.show()"
   ]
  },
  {
   "cell_type": "markdown",
   "id": "bc11f097",
   "metadata": {},
   "source": [
    "Dari histogram tersebut dapat dilihat waktu penggunaan taxi online ramai pada pukul 23.00 hingga 01.00 dan permintaan taxi online tidak terlalu tinggi pada pagi hari di pukul 04.00 - 08.00 kemudian mulai meningkat dipukul 09.00 hingga 18.00"
   ]
  },
  {
   "cell_type": "code",
   "execution_count": 18,
   "id": "4debd2b6",
   "metadata": {
    "scrolled": false
   },
   "outputs": [
    {
     "data": {
      "text/html": [
       "<div>\n",
       "<style scoped>\n",
       "    .dataframe tbody tr th:only-of-type {\n",
       "        vertical-align: middle;\n",
       "    }\n",
       "\n",
       "    .dataframe tbody tr th {\n",
       "        vertical-align: top;\n",
       "    }\n",
       "\n",
       "    .dataframe thead th {\n",
       "        text-align: right;\n",
       "    }\n",
       "</style>\n",
       "<table border=\"1\" class=\"dataframe\">\n",
       "  <thead>\n",
       "    <tr style=\"text-align: right;\">\n",
       "      <th></th>\n",
       "      <th>value_counts</th>\n",
       "    </tr>\n",
       "    <tr>\n",
       "      <th>time</th>\n",
       "      <th></th>\n",
       "    </tr>\n",
       "  </thead>\n",
       "  <tbody>\n",
       "    <tr>\n",
       "      <th>0</th>\n",
       "      <td>14657</td>\n",
       "    </tr>\n",
       "    <tr>\n",
       "      <th>1</th>\n",
       "      <td>12669</td>\n",
       "    </tr>\n",
       "    <tr>\n",
       "      <th>2</th>\n",
       "      <td>12548</td>\n",
       "    </tr>\n",
       "    <tr>\n",
       "      <th>3</th>\n",
       "      <td>12224</td>\n",
       "    </tr>\n",
       "    <tr>\n",
       "      <th>4</th>\n",
       "      <td>12502</td>\n",
       "    </tr>\n",
       "  </tbody>\n",
       "</table>\n",
       "</div>"
      ],
      "text/plain": [
       "      value_counts\n",
       "time              \n",
       "0            14657\n",
       "1            12669\n",
       "2            12548\n",
       "3            12224\n",
       "4            12502"
      ]
     },
     "execution_count": 18,
     "metadata": {},
     "output_type": "execute_result"
    }
   ],
   "source": [
    "#melihat distribusi waktu pada taxi Lyft\n",
    "df_time_Lyft=pd.DataFrame(df_for_LR[df_for_LR['companies']=='Lyft']['time'].value_counts())\n",
    "df_time_Lyft=df_time_Lyft.reset_index()\n",
    "df_time_Lyft=df_time_Lyft.rename(columns={'index':'time','time':'value_counts'})\n",
    "df_time_Lyft=df_time_Lyft.set_index('time').sort_index()\n",
    "df_time_Lyft.head()"
   ]
  },
  {
   "cell_type": "code",
   "execution_count": 19,
   "id": "bc2094fe",
   "metadata": {},
   "outputs": [
    {
     "data": {
      "text/html": [
       "<div>\n",
       "<style scoped>\n",
       "    .dataframe tbody tr th:only-of-type {\n",
       "        vertical-align: middle;\n",
       "    }\n",
       "\n",
       "    .dataframe tbody tr th {\n",
       "        vertical-align: top;\n",
       "    }\n",
       "\n",
       "    .dataframe thead th {\n",
       "        text-align: right;\n",
       "    }\n",
       "</style>\n",
       "<table border=\"1\" class=\"dataframe\">\n",
       "  <thead>\n",
       "    <tr style=\"text-align: right;\">\n",
       "      <th></th>\n",
       "      <th>value_counts</th>\n",
       "    </tr>\n",
       "    <tr>\n",
       "      <th>time</th>\n",
       "      <th></th>\n",
       "    </tr>\n",
       "  </thead>\n",
       "  <tbody>\n",
       "    <tr>\n",
       "      <th>8</th>\n",
       "      <td>10700</td>\n",
       "    </tr>\n",
       "    <tr>\n",
       "      <th>7</th>\n",
       "      <td>11024</td>\n",
       "    </tr>\n",
       "    <tr>\n",
       "      <th>5</th>\n",
       "      <td>11155</td>\n",
       "    </tr>\n",
       "    <tr>\n",
       "      <th>20</th>\n",
       "      <td>11715</td>\n",
       "    </tr>\n",
       "    <tr>\n",
       "      <th>6</th>\n",
       "      <td>11935</td>\n",
       "    </tr>\n",
       "  </tbody>\n",
       "</table>\n",
       "</div>"
      ],
      "text/plain": [
       "      value_counts\n",
       "time              \n",
       "8            10700\n",
       "7            11024\n",
       "5            11155\n",
       "20           11715\n",
       "6            11935"
      ]
     },
     "execution_count": 19,
     "metadata": {},
     "output_type": "execute_result"
    }
   ],
   "source": [
    "#melihat 5 data waktu dengan permintaan terendah\n",
    "df_time_Lyft.sort_values('value_counts').head(5)"
   ]
  },
  {
   "cell_type": "code",
   "execution_count": 20,
   "id": "2695e115",
   "metadata": {},
   "outputs": [
    {
     "data": {
      "text/html": [
       "<div>\n",
       "<style scoped>\n",
       "    .dataframe tbody tr th:only-of-type {\n",
       "        vertical-align: middle;\n",
       "    }\n",
       "\n",
       "    .dataframe tbody tr th {\n",
       "        vertical-align: top;\n",
       "    }\n",
       "\n",
       "    .dataframe thead th {\n",
       "        text-align: right;\n",
       "    }\n",
       "</style>\n",
       "<table border=\"1\" class=\"dataframe\">\n",
       "  <thead>\n",
       "    <tr style=\"text-align: right;\">\n",
       "      <th></th>\n",
       "      <th>value_counts</th>\n",
       "    </tr>\n",
       "    <tr>\n",
       "      <th>time</th>\n",
       "      <th></th>\n",
       "    </tr>\n",
       "  </thead>\n",
       "  <tbody>\n",
       "    <tr>\n",
       "      <th>13</th>\n",
       "      <td>13503</td>\n",
       "    </tr>\n",
       "    <tr>\n",
       "      <th>12</th>\n",
       "      <td>13633</td>\n",
       "    </tr>\n",
       "    <tr>\n",
       "      <th>17</th>\n",
       "      <td>13853</td>\n",
       "    </tr>\n",
       "    <tr>\n",
       "      <th>23</th>\n",
       "      <td>14004</td>\n",
       "    </tr>\n",
       "    <tr>\n",
       "      <th>0</th>\n",
       "      <td>14657</td>\n",
       "    </tr>\n",
       "  </tbody>\n",
       "</table>\n",
       "</div>"
      ],
      "text/plain": [
       "      value_counts\n",
       "time              \n",
       "13           13503\n",
       "12           13633\n",
       "17           13853\n",
       "23           14004\n",
       "0            14657"
      ]
     },
     "execution_count": 20,
     "metadata": {},
     "output_type": "execute_result"
    }
   ],
   "source": [
    "#melihat data waktu dengan permintaan tertinggi\n",
    "df_time_Lyft.sort_values('value_counts').tail(5)"
   ]
  },
  {
   "cell_type": "markdown",
   "id": "adcdd9c5",
   "metadata": {},
   "source": [
    "Data pada taxi Lyft menunjukan hasil yang serupa dengan data keseluruhan dimana pada pagi hari pukul 05.00-08.00 permintaan taxi online paling rendah, sedangkan ramai dimalam hari pada pukul 23.00-00.00\n"
   ]
  },
  {
   "cell_type": "code",
   "execution_count": 21,
   "id": "2110cc23",
   "metadata": {},
   "outputs": [
    {
     "data": {
      "text/html": [
       "<div>\n",
       "<style scoped>\n",
       "    .dataframe tbody tr th:only-of-type {\n",
       "        vertical-align: middle;\n",
       "    }\n",
       "\n",
       "    .dataframe tbody tr th {\n",
       "        vertical-align: top;\n",
       "    }\n",
       "\n",
       "    .dataframe thead th {\n",
       "        text-align: right;\n",
       "    }\n",
       "</style>\n",
       "<table border=\"1\" class=\"dataframe\">\n",
       "  <thead>\n",
       "    <tr style=\"text-align: right;\">\n",
       "      <th></th>\n",
       "      <th>value_counts</th>\n",
       "    </tr>\n",
       "    <tr>\n",
       "      <th>time</th>\n",
       "      <th></th>\n",
       "    </tr>\n",
       "  </thead>\n",
       "  <tbody>\n",
       "    <tr>\n",
       "      <th>0</th>\n",
       "      <td>15215</td>\n",
       "    </tr>\n",
       "    <tr>\n",
       "      <th>1</th>\n",
       "      <td>13641</td>\n",
       "    </tr>\n",
       "    <tr>\n",
       "      <th>2</th>\n",
       "      <td>13775</td>\n",
       "    </tr>\n",
       "    <tr>\n",
       "      <th>3</th>\n",
       "      <td>13306</td>\n",
       "    </tr>\n",
       "    <tr>\n",
       "      <th>4</th>\n",
       "      <td>13623</td>\n",
       "    </tr>\n",
       "  </tbody>\n",
       "</table>\n",
       "</div>"
      ],
      "text/plain": [
       "      value_counts\n",
       "time              \n",
       "0            15215\n",
       "1            13641\n",
       "2            13775\n",
       "3            13306\n",
       "4            13623"
      ]
     },
     "execution_count": 21,
     "metadata": {},
     "output_type": "execute_result"
    }
   ],
   "source": [
    "#melihat distribusi waktu pada taxi Lyft\n",
    "df_time_Uber=pd.DataFrame(df_for_LR[df_for_LR['companies']=='Uber']['time'].value_counts())\n",
    "df_time_Uber=df_time_Uber.reset_index()\n",
    "df_time_Uber=df_time_Uber.rename(columns={'index':'time','time':'value_counts'})\n",
    "df_time_Uber=df_time_Uber.set_index('time').sort_index()\n",
    "df_time_Uber.head()"
   ]
  },
  {
   "cell_type": "code",
   "execution_count": 22,
   "id": "836664f1",
   "metadata": {},
   "outputs": [
    {
     "data": {
      "text/html": [
       "<div>\n",
       "<style scoped>\n",
       "    .dataframe tbody tr th:only-of-type {\n",
       "        vertical-align: middle;\n",
       "    }\n",
       "\n",
       "    .dataframe tbody tr th {\n",
       "        vertical-align: top;\n",
       "    }\n",
       "\n",
       "    .dataframe thead th {\n",
       "        text-align: right;\n",
       "    }\n",
       "</style>\n",
       "<table border=\"1\" class=\"dataframe\">\n",
       "  <thead>\n",
       "    <tr style=\"text-align: right;\">\n",
       "      <th></th>\n",
       "      <th>value_counts</th>\n",
       "    </tr>\n",
       "    <tr>\n",
       "      <th>time</th>\n",
       "      <th></th>\n",
       "    </tr>\n",
       "  </thead>\n",
       "  <tbody>\n",
       "    <tr>\n",
       "      <th>8</th>\n",
       "      <td>11637</td>\n",
       "    </tr>\n",
       "    <tr>\n",
       "      <th>5</th>\n",
       "      <td>11840</td>\n",
       "    </tr>\n",
       "    <tr>\n",
       "      <th>7</th>\n",
       "      <td>11906</td>\n",
       "    </tr>\n",
       "    <tr>\n",
       "      <th>20</th>\n",
       "      <td>12905</td>\n",
       "    </tr>\n",
       "    <tr>\n",
       "      <th>19</th>\n",
       "      <td>12949</td>\n",
       "    </tr>\n",
       "  </tbody>\n",
       "</table>\n",
       "</div>"
      ],
      "text/plain": [
       "      value_counts\n",
       "time              \n",
       "8            11637\n",
       "5            11840\n",
       "7            11906\n",
       "20           12905\n",
       "19           12949"
      ]
     },
     "execution_count": 22,
     "metadata": {},
     "output_type": "execute_result"
    }
   ],
   "source": [
    "#melihat 5 data waktu dengan permintaan terendah\n",
    "df_time_Uber.sort_values('value_counts').head(5)"
   ]
  },
  {
   "cell_type": "code",
   "execution_count": 23,
   "id": "bdc68ef1",
   "metadata": {},
   "outputs": [
    {
     "data": {
      "text/html": [
       "<div>\n",
       "<style scoped>\n",
       "    .dataframe tbody tr th:only-of-type {\n",
       "        vertical-align: middle;\n",
       "    }\n",
       "\n",
       "    .dataframe tbody tr th {\n",
       "        vertical-align: top;\n",
       "    }\n",
       "\n",
       "    .dataframe thead th {\n",
       "        text-align: right;\n",
       "    }\n",
       "</style>\n",
       "<table border=\"1\" class=\"dataframe\">\n",
       "  <thead>\n",
       "    <tr style=\"text-align: right;\">\n",
       "      <th></th>\n",
       "      <th>value_counts</th>\n",
       "    </tr>\n",
       "    <tr>\n",
       "      <th>time</th>\n",
       "      <th></th>\n",
       "    </tr>\n",
       "  </thead>\n",
       "  <tbody>\n",
       "    <tr>\n",
       "      <th>10</th>\n",
       "      <td>14593</td>\n",
       "    </tr>\n",
       "    <tr>\n",
       "      <th>16</th>\n",
       "      <td>14623</td>\n",
       "    </tr>\n",
       "    <tr>\n",
       "      <th>14</th>\n",
       "      <td>14670</td>\n",
       "    </tr>\n",
       "    <tr>\n",
       "      <th>0</th>\n",
       "      <td>15215</td>\n",
       "    </tr>\n",
       "    <tr>\n",
       "      <th>23</th>\n",
       "      <td>15351</td>\n",
       "    </tr>\n",
       "  </tbody>\n",
       "</table>\n",
       "</div>"
      ],
      "text/plain": [
       "      value_counts\n",
       "time              \n",
       "10           14593\n",
       "16           14623\n",
       "14           14670\n",
       "0            15215\n",
       "23           15351"
      ]
     },
     "execution_count": 23,
     "metadata": {},
     "output_type": "execute_result"
    }
   ],
   "source": [
    "#melihat 5 data waktu dengan permintaan tertinggi\n",
    "df_time_Uber.sort_values('value_counts').tail(5)"
   ]
  },
  {
   "cell_type": "markdown",
   "id": "d2be0092",
   "metadata": {},
   "source": [
    "Data pada taxi uber juga menunjukan hasil yang serupa dengan data keseluruhan dan juga data Lyft dimana waktu dengan permintaan rendah ada dipukul 05.00-08.00 dan permintaan yang tinggi pada pukul 23.00-00.00"
   ]
  },
  {
   "cell_type": "markdown",
   "id": "484805c2",
   "metadata": {},
   "source": [
    "### month"
   ]
  },
  {
   "cell_type": "code",
   "execution_count": 24,
   "id": "6f9ac046",
   "metadata": {},
   "outputs": [
    {
     "data": {
      "text/html": [
       "<div>\n",
       "<style scoped>\n",
       "    .dataframe tbody tr th:only-of-type {\n",
       "        vertical-align: middle;\n",
       "    }\n",
       "\n",
       "    .dataframe tbody tr th {\n",
       "        vertical-align: top;\n",
       "    }\n",
       "\n",
       "    .dataframe thead th {\n",
       "        text-align: right;\n",
       "    }\n",
       "</style>\n",
       "<table border=\"1\" class=\"dataframe\">\n",
       "  <thead>\n",
       "    <tr style=\"text-align: right;\">\n",
       "      <th></th>\n",
       "      <th>month</th>\n",
       "    </tr>\n",
       "  </thead>\n",
       "  <tbody>\n",
       "    <tr>\n",
       "      <th>12</th>\n",
       "      <td>374205</td>\n",
       "    </tr>\n",
       "    <tr>\n",
       "      <th>11</th>\n",
       "      <td>263771</td>\n",
       "    </tr>\n",
       "  </tbody>\n",
       "</table>\n",
       "</div>"
      ],
      "text/plain": [
       "     month\n",
       "12  374205\n",
       "11  263771"
      ]
     },
     "execution_count": 24,
     "metadata": {},
     "output_type": "execute_result"
    }
   ],
   "source": [
    "#melihat jumlah data pada masing-masing bulan \n",
    "df_month=pd.DataFrame(df_for_LR['month'].value_counts())\n",
    "df_month.head()"
   ]
  },
  {
   "cell_type": "code",
   "execution_count": 25,
   "id": "2ba1baf2",
   "metadata": {},
   "outputs": [
    {
     "data": {
      "image/png": "[encoded data removed]",
      "text/plain": [
       "<Figure size 360x432 with 1 Axes>"
      ]
     },
     "metadata": {},
     "output_type": "display_data"
    }
   ],
   "source": [
    "#membandingkan jumlah data masing-masing bulan\n",
    "\n",
    "df_month['month'].plot(kind='pie', figsize=(5,6),\n",
    "                              autopct='%1.1f%%',startangle=90,\n",
    "                              labels=None, colors=['mistyrose','yellowgreen'])\n",
    "plt.title('Persentase Jumlah Data per Bulan', fontsize=20)\n",
    "plt.legend(labels=df_month.index)\n",
    "plt.show()"
   ]
  },
  {
   "cell_type": "markdown",
   "id": "6f6bd4a7",
   "metadata": {},
   "source": [
    "Data pengguna taxi online pada bulan 12 lebih banyak dibandingkan pada bulan 11"
   ]
  },
  {
   "cell_type": "markdown",
   "id": "ea14408a",
   "metadata": {},
   "source": [
    "### distance"
   ]
  },
  {
   "cell_type": "code",
   "execution_count": 26,
   "id": "47f20a77",
   "metadata": {},
   "outputs": [
    {
     "data": {
      "text/html": [
       "<div>\n",
       "<style scoped>\n",
       "    .dataframe tbody tr th:only-of-type {\n",
       "        vertical-align: middle;\n",
       "    }\n",
       "\n",
       "    .dataframe tbody tr th {\n",
       "        vertical-align: top;\n",
       "    }\n",
       "\n",
       "    .dataframe thead th {\n",
       "        text-align: right;\n",
       "    }\n",
       "</style>\n",
       "<table border=\"1\" class=\"dataframe\">\n",
       "  <thead>\n",
       "    <tr style=\"text-align: right;\">\n",
       "      <th></th>\n",
       "      <th>distance</th>\n",
       "    </tr>\n",
       "  </thead>\n",
       "  <tbody>\n",
       "    <tr>\n",
       "      <th>0</th>\n",
       "      <td>0.44</td>\n",
       "    </tr>\n",
       "    <tr>\n",
       "      <th>1</th>\n",
       "      <td>0.44</td>\n",
       "    </tr>\n",
       "    <tr>\n",
       "      <th>2</th>\n",
       "      <td>0.44</td>\n",
       "    </tr>\n",
       "    <tr>\n",
       "      <th>3</th>\n",
       "      <td>0.44</td>\n",
       "    </tr>\n",
       "    <tr>\n",
       "      <th>4</th>\n",
       "      <td>0.44</td>\n",
       "    </tr>\n",
       "  </tbody>\n",
       "</table>\n",
       "</div>"
      ],
      "text/plain": [
       "   distance\n",
       "0      0.44\n",
       "1      0.44\n",
       "2      0.44\n",
       "3      0.44\n",
       "4      0.44"
      ]
     },
     "execution_count": 26,
     "metadata": {},
     "output_type": "execute_result"
    }
   ],
   "source": [
    "df_distance=pd.DataFrame(df_for_LR['distance'])\n",
    "df_distance.head()"
   ]
  },
  {
   "cell_type": "code",
   "execution_count": 27,
   "id": "614fef78",
   "metadata": {},
   "outputs": [
    {
     "data": {
      "text/html": [
       "<div>\n",
       "<style scoped>\n",
       "    .dataframe tbody tr th:only-of-type {\n",
       "        vertical-align: middle;\n",
       "    }\n",
       "\n",
       "    .dataframe tbody tr th {\n",
       "        vertical-align: top;\n",
       "    }\n",
       "\n",
       "    .dataframe thead th {\n",
       "        text-align: right;\n",
       "    }\n",
       "</style>\n",
       "<table border=\"1\" class=\"dataframe\">\n",
       "  <thead>\n",
       "    <tr style=\"text-align: right;\">\n",
       "      <th></th>\n",
       "      <th>distance</th>\n",
       "    </tr>\n",
       "  </thead>\n",
       "  <tbody>\n",
       "    <tr>\n",
       "      <th>0</th>\n",
       "      <td>0.44</td>\n",
       "    </tr>\n",
       "    <tr>\n",
       "      <th>1</th>\n",
       "      <td>0.44</td>\n",
       "    </tr>\n",
       "    <tr>\n",
       "      <th>2</th>\n",
       "      <td>0.44</td>\n",
       "    </tr>\n",
       "    <tr>\n",
       "      <th>3</th>\n",
       "      <td>0.44</td>\n",
       "    </tr>\n",
       "    <tr>\n",
       "      <th>4</th>\n",
       "      <td>0.44</td>\n",
       "    </tr>\n",
       "  </tbody>\n",
       "</table>\n",
       "</div>"
      ],
      "text/plain": [
       "   distance\n",
       "0      0.44\n",
       "1      0.44\n",
       "2      0.44\n",
       "3      0.44\n",
       "4      0.44"
      ]
     },
     "execution_count": 27,
     "metadata": {},
     "output_type": "execute_result"
    }
   ],
   "source": [
    "df_distance_Lyft=pd.DataFrame(df_for_LR[df_for_LR['companies']=='Lyft']['distance'])\n",
    "df_distance_Lyft.reset_index(drop=True, inplace=True)\n",
    "df_distance_Lyft.head()"
   ]
  },
  {
   "cell_type": "code",
   "execution_count": 28,
   "id": "a3e3670b",
   "metadata": {},
   "outputs": [
    {
     "data": {
      "text/html": [
       "<div>\n",
       "<style scoped>\n",
       "    .dataframe tbody tr th:only-of-type {\n",
       "        vertical-align: middle;\n",
       "    }\n",
       "\n",
       "    .dataframe tbody tr th {\n",
       "        vertical-align: top;\n",
       "    }\n",
       "\n",
       "    .dataframe thead th {\n",
       "        text-align: right;\n",
       "    }\n",
       "</style>\n",
       "<table border=\"1\" class=\"dataframe\">\n",
       "  <thead>\n",
       "    <tr style=\"text-align: right;\">\n",
       "      <th></th>\n",
       "      <th>distance</th>\n",
       "    </tr>\n",
       "  </thead>\n",
       "  <tbody>\n",
       "    <tr>\n",
       "      <th>0</th>\n",
       "      <td>1.11</td>\n",
       "    </tr>\n",
       "    <tr>\n",
       "      <th>1</th>\n",
       "      <td>1.11</td>\n",
       "    </tr>\n",
       "    <tr>\n",
       "      <th>2</th>\n",
       "      <td>1.11</td>\n",
       "    </tr>\n",
       "    <tr>\n",
       "      <th>3</th>\n",
       "      <td>1.11</td>\n",
       "    </tr>\n",
       "    <tr>\n",
       "      <th>4</th>\n",
       "      <td>1.11</td>\n",
       "    </tr>\n",
       "  </tbody>\n",
       "</table>\n",
       "</div>"
      ],
      "text/plain": [
       "   distance\n",
       "0      1.11\n",
       "1      1.11\n",
       "2      1.11\n",
       "3      1.11\n",
       "4      1.11"
      ]
     },
     "execution_count": 28,
     "metadata": {},
     "output_type": "execute_result"
    }
   ],
   "source": [
    "df_distance_Uber=pd.DataFrame(df_for_LR[df_for_LR['companies']=='Uber']['distance'])\n",
    "df_distance_Uber.reset_index(drop=True, inplace=True)\n",
    "df_distance_Uber.head()"
   ]
  },
  {
   "cell_type": "code",
   "execution_count": 29,
   "id": "3187598f",
   "metadata": {
    "scrolled": true
   },
   "outputs": [
    {
     "data": {
      "text/plain": [
       "Text(0.5, 1.0, 'Uber')"
      ]
     },
     "execution_count": 29,
     "metadata": {},
     "output_type": "execute_result"
    },
    {
     "data": {
      "image/png": "[encoded data removed]",
      "text/plain": [
       "<Figure size 432x288 with 3 Axes>"
      ]
     },
     "metadata": {
      "needs_background": "light"
     },
     "output_type": "display_data"
    }
   ],
   "source": [
    "fig=plt.figure()\n",
    "ax1=fig.add_subplot(1,3,1)\n",
    "ax2=fig.add_subplot(1,3,2)\n",
    "ax3=fig.add_subplot(1,3,3)\n",
    "\n",
    "#Boxplot distance dari seluruh data\n",
    "df_distance.plot(kind='box',ax=ax1)\n",
    "ax1.set_title('Uber&Lyft')\n",
    "#Boxplot distance dari data Lyft\n",
    "yticks=[i for i in range (0,9)]\n",
    "df_distance_Lyft.plot(kind='box',ax=ax2, yticks=yticks)\n",
    "ax2.set_title('Lyft')\n",
    "#Boxplot distance dari data Uber\n",
    "df_distance_Uber.plot(kind='box', ax=ax3)\n",
    "ax3.set_title('Uber')"
   ]
  },
  {
   "cell_type": "code",
   "execution_count": 30,
   "id": "3df5d2c4",
   "metadata": {},
   "outputs": [
    {
     "data": {
      "text/plain": [
       "DescribeResult(nobs=637976, minmax=(array([0.02]), array([7.86])), mean=array([2.1892611]), variance=array([1.28916272]), skewness=array([0.81684657]), kurtosis=array([1.15151959]))"
      ]
     },
     "execution_count": 30,
     "metadata": {},
     "output_type": "execute_result"
    }
   ],
   "source": [
    "#statistik deskriptif dari data fitur distance keseluruhan\n",
    "scipy.stats.describe(df_distance)"
   ]
  },
  {
   "cell_type": "code",
   "execution_count": 31,
   "id": "10e009ab",
   "metadata": {},
   "outputs": [
    {
     "data": {
      "text/plain": [
       "DescribeResult(nobs=307408, minmax=(array([0.39]), array([6.33])), mean=array([2.18697558]), variance=array([1.18074666]), skewness=array([0.54020413]), kurtosis=array([-0.13834276]))"
      ]
     },
     "execution_count": 31,
     "metadata": {},
     "output_type": "execute_result"
    }
   ],
   "source": [
    "#statistik deskriptif dari data fitur distance Lyft\n",
    "scipy.stats.describe(df_distance_Lyft)"
   ]
  },
  {
   "cell_type": "code",
   "execution_count": 32,
   "id": "36d1cd82",
   "metadata": {},
   "outputs": [
    {
     "data": {
      "text/plain": [
       "DescribeResult(nobs=330568, minmax=(array([0.02]), array([7.86])), mean=array([2.19138649]), variance=array([1.38997752]), skewness=array([1.01398]), kurtosis=array([1.96750196]))"
      ]
     },
     "execution_count": 32,
     "metadata": {},
     "output_type": "execute_result"
    }
   ],
   "source": [
    "#statistik deskriptif dari data fitur distance Uber\n",
    "scipy.stats.describe(df_distance_Uber)"
   ]
  },
  {
   "cell_type": "markdown",
   "id": "569cc092",
   "metadata": {},
   "source": [
    "- Rata-rata pada data jarak keseluruhan, data jarak Lyft, dan data jarak Uber menunjukan hasil yang serupa dengan selisih yang sangat kecil. Jarakt rata-ratanya yaitu 2.19\n",
    "- sebaran datanya juga tidak berbeda jauh dengan varian=1.18 untuk Lyft dan 1.39 untuk Uber namun varian tersebut juga menunjukan bahwa data pada Uber lebih bervariasi dibandingkan Lyft (dapat dilihat dari gambar boxplot yang menunjukan data jarak pada Uber memiliki lebih banyak data pencilan dibanding Lyft)\n",
    "- skewnes atau kemencengan pada data cukup bervariasi nilainya namun baik data jarak keseluruhan, data jarak Lyft, maupun Uber distribusinya adalah miring kekanan, namun kemiringannya masih dekat dengan distribusi normal dimana data jarak pada Lyft paling mendekati distribusi normal.\n",
    "- kurtosis atau koefisien keruncingan pada data jarak keseluruhan, Lyft, dan Uber menunjukan kurva platikurtik dengan koefisien keruncingan < 3"
   ]
  },
  {
   "cell_type": "markdown",
   "id": "fc2f2ced",
   "metadata": {},
   "source": [
    "### temperature"
   ]
  },
  {
   "cell_type": "code",
   "execution_count": 33,
   "id": "4aaa1545",
   "metadata": {},
   "outputs": [],
   "source": [
    "#mengambil data temperature\n",
    "df_temperature=pd.DataFrame(df_for_LR['temperature'])\n",
    "df_temperature_Lyft=pd.DataFrame(df_for_LR.loc[(df_for_LR['companies']=='Lyft'),\n",
    "                                 'temperature'])\n",
    "df_temperature_Lyft.reset_index(drop=True, inplace=True)\n",
    "df_temperature_Uber=pd.DataFrame(df_for_LR.loc[(df_for_LR['companies']=='Uber'),'temperature'])\n",
    "df_temperature_Uber.reset_index(drop=True, inplace=True)"
   ]
  },
  {
   "cell_type": "code",
   "execution_count": 34,
   "id": "fbfac609",
   "metadata": {},
   "outputs": [
    {
     "data": {
      "text/html": [
       "<div>\n",
       "<style scoped>\n",
       "    .dataframe tbody tr th:only-of-type {\n",
       "        vertical-align: middle;\n",
       "    }\n",
       "\n",
       "    .dataframe tbody tr th {\n",
       "        vertical-align: top;\n",
       "    }\n",
       "\n",
       "    .dataframe thead th {\n",
       "        text-align: right;\n",
       "    }\n",
       "</style>\n",
       "<table border=\"1\" class=\"dataframe\">\n",
       "  <thead>\n",
       "    <tr style=\"text-align: right;\">\n",
       "      <th></th>\n",
       "      <th>temperature</th>\n",
       "    </tr>\n",
       "  </thead>\n",
       "  <tbody>\n",
       "    <tr>\n",
       "      <th>0</th>\n",
       "      <td>42.34</td>\n",
       "    </tr>\n",
       "    <tr>\n",
       "      <th>1</th>\n",
       "      <td>43.58</td>\n",
       "    </tr>\n",
       "    <tr>\n",
       "      <th>2</th>\n",
       "      <td>38.33</td>\n",
       "    </tr>\n",
       "    <tr>\n",
       "      <th>3</th>\n",
       "      <td>34.38</td>\n",
       "    </tr>\n",
       "    <tr>\n",
       "      <th>4</th>\n",
       "      <td>37.44</td>\n",
       "    </tr>\n",
       "  </tbody>\n",
       "</table>\n",
       "</div>"
      ],
      "text/plain": [
       "   temperature\n",
       "0        42.34\n",
       "1        43.58\n",
       "2        38.33\n",
       "3        34.38\n",
       "4        37.44"
      ]
     },
     "execution_count": 34,
     "metadata": {},
     "output_type": "execute_result"
    }
   ],
   "source": [
    "df_temperature.head()"
   ]
  },
  {
   "cell_type": "code",
   "execution_count": 35,
   "id": "cb8b3521",
   "metadata": {},
   "outputs": [
    {
     "data": {
      "text/html": [
       "<div>\n",
       "<style scoped>\n",
       "    .dataframe tbody tr th:only-of-type {\n",
       "        vertical-align: middle;\n",
       "    }\n",
       "\n",
       "    .dataframe tbody tr th {\n",
       "        vertical-align: top;\n",
       "    }\n",
       "\n",
       "    .dataframe thead th {\n",
       "        text-align: right;\n",
       "    }\n",
       "</style>\n",
       "<table border=\"1\" class=\"dataframe\">\n",
       "  <thead>\n",
       "    <tr style=\"text-align: right;\">\n",
       "      <th></th>\n",
       "      <th>temperature</th>\n",
       "    </tr>\n",
       "  </thead>\n",
       "  <tbody>\n",
       "    <tr>\n",
       "      <th>0</th>\n",
       "      <td>42.34</td>\n",
       "    </tr>\n",
       "    <tr>\n",
       "      <th>1</th>\n",
       "      <td>43.58</td>\n",
       "    </tr>\n",
       "    <tr>\n",
       "      <th>2</th>\n",
       "      <td>38.33</td>\n",
       "    </tr>\n",
       "    <tr>\n",
       "      <th>3</th>\n",
       "      <td>34.38</td>\n",
       "    </tr>\n",
       "    <tr>\n",
       "      <th>4</th>\n",
       "      <td>37.44</td>\n",
       "    </tr>\n",
       "  </tbody>\n",
       "</table>\n",
       "</div>"
      ],
      "text/plain": [
       "   temperature\n",
       "0        42.34\n",
       "1        43.58\n",
       "2        38.33\n",
       "3        34.38\n",
       "4        37.44"
      ]
     },
     "execution_count": 35,
     "metadata": {},
     "output_type": "execute_result"
    }
   ],
   "source": [
    "df_temperature_Lyft.head()"
   ]
  },
  {
   "cell_type": "code",
   "execution_count": 36,
   "id": "c4b30355",
   "metadata": {},
   "outputs": [
    {
     "data": {
      "text/html": [
       "<div>\n",
       "<style scoped>\n",
       "    .dataframe tbody tr th:only-of-type {\n",
       "        vertical-align: middle;\n",
       "    }\n",
       "\n",
       "    .dataframe tbody tr th {\n",
       "        vertical-align: top;\n",
       "    }\n",
       "\n",
       "    .dataframe thead th {\n",
       "        text-align: right;\n",
       "    }\n",
       "</style>\n",
       "<table border=\"1\" class=\"dataframe\">\n",
       "  <thead>\n",
       "    <tr style=\"text-align: right;\">\n",
       "      <th></th>\n",
       "      <th>temperature</th>\n",
       "    </tr>\n",
       "  </thead>\n",
       "  <tbody>\n",
       "    <tr>\n",
       "      <th>0</th>\n",
       "      <td>40.13</td>\n",
       "    </tr>\n",
       "    <tr>\n",
       "      <th>1</th>\n",
       "      <td>20.38</td>\n",
       "    </tr>\n",
       "    <tr>\n",
       "      <th>2</th>\n",
       "      <td>32.85</td>\n",
       "    </tr>\n",
       "    <tr>\n",
       "      <th>3</th>\n",
       "      <td>41.29</td>\n",
       "    </tr>\n",
       "    <tr>\n",
       "      <th>4</th>\n",
       "      <td>31.25</td>\n",
       "    </tr>\n",
       "  </tbody>\n",
       "</table>\n",
       "</div>"
      ],
      "text/plain": [
       "   temperature\n",
       "0        40.13\n",
       "1        20.38\n",
       "2        32.85\n",
       "3        41.29\n",
       "4        31.25"
      ]
     },
     "execution_count": 36,
     "metadata": {},
     "output_type": "execute_result"
    }
   ],
   "source": [
    "df_temperature_Uber.head()"
   ]
  },
  {
   "cell_type": "code",
   "execution_count": 37,
   "id": "c990e17e",
   "metadata": {},
   "outputs": [
    {
     "data": {
      "image/png": "[encoded data removed]",
      "text/plain": [
       "<Figure size 432x288 with 1 Axes>"
      ]
     },
     "metadata": {
      "needs_background": "light"
     },
     "output_type": "display_data"
    }
   ],
   "source": [
    "#memvisualisasikan data temperature\n",
    "sns.boxplot(data=[df_temperature['temperature'],df_temperature_Lyft['temperature'],df_temperature_Uber['temperature']])\n",
    "plt.show()"
   ]
  },
  {
   "cell_type": "code",
   "execution_count": 38,
   "id": "8cc4984b",
   "metadata": {},
   "outputs": [
    {
     "data": {
      "text/html": [
       "<div>\n",
       "<style scoped>\n",
       "    .dataframe tbody tr th:only-of-type {\n",
       "        vertical-align: middle;\n",
       "    }\n",
       "\n",
       "    .dataframe tbody tr th {\n",
       "        vertical-align: top;\n",
       "    }\n",
       "\n",
       "    .dataframe thead th {\n",
       "        text-align: right;\n",
       "    }\n",
       "</style>\n",
       "<table border=\"1\" class=\"dataframe\">\n",
       "  <thead>\n",
       "    <tr style=\"text-align: right;\">\n",
       "      <th></th>\n",
       "      <th>temperature</th>\n",
       "    </tr>\n",
       "  </thead>\n",
       "  <tbody>\n",
       "    <tr>\n",
       "      <th>count</th>\n",
       "      <td>637976.000000</td>\n",
       "    </tr>\n",
       "    <tr>\n",
       "      <th>mean</th>\n",
       "      <td>39.582406</td>\n",
       "    </tr>\n",
       "    <tr>\n",
       "      <th>std</th>\n",
       "      <td>6.725500</td>\n",
       "    </tr>\n",
       "    <tr>\n",
       "      <th>min</th>\n",
       "      <td>18.910000</td>\n",
       "    </tr>\n",
       "    <tr>\n",
       "      <th>25%</th>\n",
       "      <td>36.450000</td>\n",
       "    </tr>\n",
       "    <tr>\n",
       "      <th>50%</th>\n",
       "      <td>40.490000</td>\n",
       "    </tr>\n",
       "    <tr>\n",
       "      <th>75%</th>\n",
       "      <td>43.580000</td>\n",
       "    </tr>\n",
       "    <tr>\n",
       "      <th>max</th>\n",
       "      <td>57.220000</td>\n",
       "    </tr>\n",
       "  </tbody>\n",
       "</table>\n",
       "</div>"
      ],
      "text/plain": [
       "         temperature\n",
       "count  637976.000000\n",
       "mean       39.582406\n",
       "std         6.725500\n",
       "min        18.910000\n",
       "25%        36.450000\n",
       "50%        40.490000\n",
       "75%        43.580000\n",
       "max        57.220000"
      ]
     },
     "execution_count": 38,
     "metadata": {},
     "output_type": "execute_result"
    }
   ],
   "source": [
    "df_temperature.describe()"
   ]
  },
  {
   "cell_type": "code",
   "execution_count": 39,
   "id": "c0ef0cc6",
   "metadata": {},
   "outputs": [
    {
     "data": {
      "text/html": [
       "<div>\n",
       "<style scoped>\n",
       "    .dataframe tbody tr th:only-of-type {\n",
       "        vertical-align: middle;\n",
       "    }\n",
       "\n",
       "    .dataframe tbody tr th {\n",
       "        vertical-align: top;\n",
       "    }\n",
       "\n",
       "    .dataframe thead th {\n",
       "        text-align: right;\n",
       "    }\n",
       "</style>\n",
       "<table border=\"1\" class=\"dataframe\">\n",
       "  <thead>\n",
       "    <tr style=\"text-align: right;\">\n",
       "      <th></th>\n",
       "      <th>temperature</th>\n",
       "    </tr>\n",
       "  </thead>\n",
       "  <tbody>\n",
       "    <tr>\n",
       "      <th>count</th>\n",
       "      <td>307408.000000</td>\n",
       "    </tr>\n",
       "    <tr>\n",
       "      <th>mean</th>\n",
       "      <td>39.596384</td>\n",
       "    </tr>\n",
       "    <tr>\n",
       "      <th>std</th>\n",
       "      <td>6.730425</td>\n",
       "    </tr>\n",
       "    <tr>\n",
       "      <th>min</th>\n",
       "      <td>18.910000</td>\n",
       "    </tr>\n",
       "    <tr>\n",
       "      <th>25%</th>\n",
       "      <td>36.450000</td>\n",
       "    </tr>\n",
       "    <tr>\n",
       "      <th>50%</th>\n",
       "      <td>40.490000</td>\n",
       "    </tr>\n",
       "    <tr>\n",
       "      <th>75%</th>\n",
       "      <td>43.580000</td>\n",
       "    </tr>\n",
       "    <tr>\n",
       "      <th>max</th>\n",
       "      <td>57.220000</td>\n",
       "    </tr>\n",
       "  </tbody>\n",
       "</table>\n",
       "</div>"
      ],
      "text/plain": [
       "         temperature\n",
       "count  307408.000000\n",
       "mean       39.596384\n",
       "std         6.730425\n",
       "min        18.910000\n",
       "25%        36.450000\n",
       "50%        40.490000\n",
       "75%        43.580000\n",
       "max        57.220000"
      ]
     },
     "execution_count": 39,
     "metadata": {},
     "output_type": "execute_result"
    }
   ],
   "source": [
    "df_temperature_Lyft.describe()"
   ]
  },
  {
   "cell_type": "code",
   "execution_count": 40,
   "id": "3955f8fc",
   "metadata": {},
   "outputs": [
    {
     "data": {
      "text/html": [
       "<div>\n",
       "<style scoped>\n",
       "    .dataframe tbody tr th:only-of-type {\n",
       "        vertical-align: middle;\n",
       "    }\n",
       "\n",
       "    .dataframe tbody tr th {\n",
       "        vertical-align: top;\n",
       "    }\n",
       "\n",
       "    .dataframe thead th {\n",
       "        text-align: right;\n",
       "    }\n",
       "</style>\n",
       "<table border=\"1\" class=\"dataframe\">\n",
       "  <thead>\n",
       "    <tr style=\"text-align: right;\">\n",
       "      <th></th>\n",
       "      <th>temperature</th>\n",
       "    </tr>\n",
       "  </thead>\n",
       "  <tbody>\n",
       "    <tr>\n",
       "      <th>count</th>\n",
       "      <td>330568.000000</td>\n",
       "    </tr>\n",
       "    <tr>\n",
       "      <th>mean</th>\n",
       "      <td>39.569407</td>\n",
       "    </tr>\n",
       "    <tr>\n",
       "      <th>std</th>\n",
       "      <td>6.720901</td>\n",
       "    </tr>\n",
       "    <tr>\n",
       "      <th>min</th>\n",
       "      <td>18.910000</td>\n",
       "    </tr>\n",
       "    <tr>\n",
       "      <th>25%</th>\n",
       "      <td>36.450000</td>\n",
       "    </tr>\n",
       "    <tr>\n",
       "      <th>50%</th>\n",
       "      <td>40.490000</td>\n",
       "    </tr>\n",
       "    <tr>\n",
       "      <th>75%</th>\n",
       "      <td>43.580000</td>\n",
       "    </tr>\n",
       "    <tr>\n",
       "      <th>max</th>\n",
       "      <td>57.220000</td>\n",
       "    </tr>\n",
       "  </tbody>\n",
       "</table>\n",
       "</div>"
      ],
      "text/plain": [
       "         temperature\n",
       "count  330568.000000\n",
       "mean       39.569407\n",
       "std         6.720901\n",
       "min        18.910000\n",
       "25%        36.450000\n",
       "50%        40.490000\n",
       "75%        43.580000\n",
       "max        57.220000"
      ]
     },
     "execution_count": 40,
     "metadata": {},
     "output_type": "execute_result"
    }
   ],
   "source": [
    "df_temperature_Uber.describe()"
   ]
  },
  {
   "cell_type": "markdown",
   "id": "ed38f272",
   "metadata": {},
   "source": [
    "Data pada fitur temperature secara keseluruhan, pada data Lyft, dan juga Uber memiliki sebaran yang serupa bahkan mendekati sama. nilai tengah dan rataannya sama, serta standar deviasi juga sama. Bahkan data pencilannya juga serupa(dapat dilihat melalui boxplot)"
   ]
  },
  {
   "cell_type": "markdown",
   "id": "577488f1",
   "metadata": {},
   "source": [
    "### weather"
   ]
  },
  {
   "cell_type": "code",
   "execution_count": 41,
   "id": "9adce301",
   "metadata": {},
   "outputs": [
    {
     "data": {
      "text/plain": [
       "array([' Mostly Cloudy ', ' Rain ', ' Clear ', ' Partly Cloudy ',\n",
       "       ' Overcast ', ' Light Rain ', ' Foggy ', ' Possible Drizzle ',\n",
       "       ' Drizzle '], dtype=object)"
      ]
     },
     "execution_count": 41,
     "metadata": {},
     "output_type": "execute_result"
    }
   ],
   "source": [
    "df_for_LR['weather'].unique()"
   ]
  },
  {
   "cell_type": "markdown",
   "id": "c38d4459",
   "metadata": {},
   "source": [
    "fitur cuaca terdiri dari 9 label"
   ]
  },
  {
   "cell_type": "code",
   "execution_count": 42,
   "id": "922e366d",
   "metadata": {
    "scrolled": true
   },
   "outputs": [
    {
     "data": {
      "text/html": [
       "<div>\n",
       "<style scoped>\n",
       "    .dataframe tbody tr th:only-of-type {\n",
       "        vertical-align: middle;\n",
       "    }\n",
       "\n",
       "    .dataframe tbody tr th {\n",
       "        vertical-align: top;\n",
       "    }\n",
       "\n",
       "    .dataframe thead th {\n",
       "        text-align: right;\n",
       "    }\n",
       "</style>\n",
       "<table border=\"1\" class=\"dataframe\">\n",
       "  <thead>\n",
       "    <tr style=\"text-align: right;\">\n",
       "      <th></th>\n",
       "      <th>value</th>\n",
       "    </tr>\n",
       "    <tr>\n",
       "      <th>weather</th>\n",
       "      <th></th>\n",
       "    </tr>\n",
       "  </thead>\n",
       "  <tbody>\n",
       "    <tr>\n",
       "      <th>clear</th>\n",
       "      <td>80256</td>\n",
       "    </tr>\n",
       "    <tr>\n",
       "      <th>Drizzle</th>\n",
       "      <td>6725</td>\n",
       "    </tr>\n",
       "    <tr>\n",
       "      <th>Foggy</th>\n",
       "      <td>8292</td>\n",
       "    </tr>\n",
       "    <tr>\n",
       "      <th>Light Rain</th>\n",
       "      <td>50488</td>\n",
       "    </tr>\n",
       "    <tr>\n",
       "      <th>Mostly Cloudy</th>\n",
       "      <td>134603</td>\n",
       "    </tr>\n",
       "    <tr>\n",
       "      <th>Overcast</th>\n",
       "      <td>201429</td>\n",
       "    </tr>\n",
       "    <tr>\n",
       "      <th>Partly Cloudy</th>\n",
       "      <td>117226</td>\n",
       "    </tr>\n",
       "    <tr>\n",
       "      <th>Possible Drizzle</th>\n",
       "      <td>17176</td>\n",
       "    </tr>\n",
       "    <tr>\n",
       "      <th>Rain</th>\n",
       "      <td>21781</td>\n",
       "    </tr>\n",
       "  </tbody>\n",
       "</table>\n",
       "</div>"
      ],
      "text/plain": [
       "                   value\n",
       "weather                 \n",
       "clear              80256\n",
       "Drizzle             6725\n",
       "Foggy               8292\n",
       "Light Rain         50488\n",
       "Mostly Cloudy     134603\n",
       "Overcast          201429\n",
       "Partly Cloudy     117226\n",
       "Possible Drizzle   17176\n",
       "Rain               21781"
      ]
     },
     "execution_count": 42,
     "metadata": {},
     "output_type": "execute_result"
    }
   ],
   "source": [
    "#membuat dataframe yang berisi jumlah data peumpang berdasar cuace\n",
    "df_weather=pd.DataFrame(df_for_LR.groupby(['weather'])['weather'].value_counts())\n",
    "df_weather=df_weather.rename(columns={'weather':'value'})\n",
    "df_weather.reset_index(drop=True,inplace=True)\n",
    "df_weather['weather']=['clear','Drizzle','Foggy','Light Rain','Mostly Cloudy',\n",
    "                      'Overcast','Partly Cloudy','Possible Drizzle','Rain']\n",
    "df_weather=df_weather.set_index('weather')\n",
    "df_weather\n"
   ]
  },
  {
   "cell_type": "code",
   "execution_count": 43,
   "id": "ad3937b8",
   "metadata": {},
   "outputs": [
    {
     "data": {
      "text/html": [
       "<div>\n",
       "<style scoped>\n",
       "    .dataframe tbody tr th:only-of-type {\n",
       "        vertical-align: middle;\n",
       "    }\n",
       "\n",
       "    .dataframe tbody tr th {\n",
       "        vertical-align: top;\n",
       "    }\n",
       "\n",
       "    .dataframe thead th {\n",
       "        text-align: right;\n",
       "    }\n",
       "</style>\n",
       "<table border=\"1\" class=\"dataframe\">\n",
       "  <thead>\n",
       "    <tr style=\"text-align: right;\">\n",
       "      <th></th>\n",
       "      <th></th>\n",
       "      <th>value</th>\n",
       "    </tr>\n",
       "    <tr>\n",
       "      <th>weather</th>\n",
       "      <th>companies</th>\n",
       "      <th></th>\n",
       "    </tr>\n",
       "  </thead>\n",
       "  <tbody>\n",
       "    <tr>\n",
       "      <th rowspan=\"2\" valign=\"top\">Clear</th>\n",
       "      <th>Uber</th>\n",
       "      <td>41603</td>\n",
       "    </tr>\n",
       "    <tr>\n",
       "      <th>Lyft</th>\n",
       "      <td>38653</td>\n",
       "    </tr>\n",
       "    <tr>\n",
       "      <th rowspan=\"2\" valign=\"top\">Drizzle</th>\n",
       "      <th>Uber</th>\n",
       "      <td>3614</td>\n",
       "    </tr>\n",
       "    <tr>\n",
       "      <th>Lyft</th>\n",
       "      <td>3111</td>\n",
       "    </tr>\n",
       "    <tr>\n",
       "      <th>Foggy</th>\n",
       "      <th>Uber</th>\n",
       "      <td>4290</td>\n",
       "    </tr>\n",
       "  </tbody>\n",
       "</table>\n",
       "</div>"
      ],
      "text/plain": [
       "                     value\n",
       "weather   companies       \n",
       " Clear    Uber       41603\n",
       "          Lyft       38653\n",
       " Drizzle  Uber        3614\n",
       "          Lyft        3111\n",
       " Foggy    Uber        4290"
      ]
     },
     "execution_count": 43,
     "metadata": {},
     "output_type": "execute_result"
    }
   ],
   "source": [
    "#menyiapkan dataframe untuk ploting pie chart\n",
    "df_weather_all=pd.DataFrame(df_for_LR.groupby(['weather'])['companies'].value_counts())\n",
    "df_weather_all=df_weather_all.rename(columns={'companies':'value'})\n",
    "df_weather_all.head()"
   ]
  },
  {
   "cell_type": "code",
   "execution_count": 44,
   "id": "4ece360d",
   "metadata": {},
   "outputs": [
    {
     "data": {
      "image/png": "[encoded data removed]",
      "text/plain": [
       "<Figure size 720x360 with 1 Axes>"
      ]
     },
     "metadata": {},
     "output_type": "display_data"
    }
   ],
   "source": [
    "#Visualisasi fitur weather\n",
    "\n",
    "colors=['firebrick','greenyellow','lightpink','lavenderblush',\n",
    "       'aquamarine','fuchsia','lemonchiffon','peachpuff',\n",
    "       'orchid']\n",
    "colors2=['pink','blue']\n",
    "\n",
    "df_weather['value'].plot(kind='pie', colors=colors,labels=None,\n",
    "                        figsize=(10,5), autopct='%1.1f%%', pctdistance=1.12)\n",
    "df_weather_all['value'].plot(kind='pie', radius=0.65,colors=colors2,\n",
    "                            labels=None)\n",
    "\n",
    "plt.title('Weather Percentage', fontsize=15)\n",
    "\n",
    "leg1=plt.legend(labels=df_weather.index)\n",
    "ax=plt.gca().add_artist(leg1)\n",
    "patch_uber=mpatches.Patch(color='pink',label='Uber')\n",
    "patch_lyft=mpatches.Patch(color='blue', label='Lyft')\n",
    "leg2=plt.legend(handles=[patch_uber,patch_lyft],loc='upper left')\n",
    "\n",
    "plt.axis('equal')\n",
    "plt.show()\n"
   ]
  },
  {
   "cell_type": "markdown",
   "id": "bae081fb",
   "metadata": {},
   "source": [
    "- dari pie chart diatas dapat dilihat bahwa sebagian besar penumpang taxi online menggunakan layanan pada saat cuaca mendung, mendung sebagian, maupun hampir kseluruhannya mendung.\n",
    "- justru saat cuaca sedang gerimis sangat sedikit penumpang yang menggunakan taxi onlie, bahkan saat cuaca hujan data hanya menunjukan 3.4%. Terdapat beberapa kemungkinan dalam hal ini seperti cuaca pada bulan 11 dan 12 jarang hujan, penumpang memiliki alternatif kendaraan lain saat sedang hujan, atau penumpang memilih tidak bepergian saat sedang hujan, serta berbagai kemungkinan lain yang perlu dianalisa lebih lanjut dengan data dari sumber lain.\n",
    "- Baik Uber dan Lyft menunjukan pembagian data yang rata pada masing-masing label cuaca."
   ]
  },
  {
   "cell_type": "markdown",
   "id": "6184874c",
   "metadata": {},
   "source": [
    "### wind_speed"
   ]
  },
  {
   "cell_type": "code",
   "execution_count": 45,
   "id": "de744517",
   "metadata": {},
   "outputs": [
    {
     "data": {
      "text/html": [
       "<div>\n",
       "<style scoped>\n",
       "    .dataframe tbody tr th:only-of-type {\n",
       "        vertical-align: middle;\n",
       "    }\n",
       "\n",
       "    .dataframe tbody tr th {\n",
       "        vertical-align: top;\n",
       "    }\n",
       "\n",
       "    .dataframe thead th {\n",
       "        text-align: right;\n",
       "    }\n",
       "</style>\n",
       "<table border=\"1\" class=\"dataframe\">\n",
       "  <thead>\n",
       "    <tr style=\"text-align: right;\">\n",
       "      <th></th>\n",
       "      <th>companies</th>\n",
       "      <th>service_class</th>\n",
       "      <th>time</th>\n",
       "      <th>month</th>\n",
       "      <th>distance</th>\n",
       "      <th>temperature</th>\n",
       "      <th>weather</th>\n",
       "      <th>wind_speed</th>\n",
       "      <th>surge_multiplier</th>\n",
       "      <th>price</th>\n",
       "    </tr>\n",
       "  </thead>\n",
       "  <tbody>\n",
       "    <tr>\n",
       "      <th>0</th>\n",
       "      <td>Lyft</td>\n",
       "      <td>Shared</td>\n",
       "      <td>9</td>\n",
       "      <td>12</td>\n",
       "      <td>0.44</td>\n",
       "      <td>42.34</td>\n",
       "      <td>Mostly Cloudy</td>\n",
       "      <td>8.66</td>\n",
       "      <td>1.0</td>\n",
       "      <td>5.0</td>\n",
       "    </tr>\n",
       "    <tr>\n",
       "      <th>1</th>\n",
       "      <td>Lyft</td>\n",
       "      <td>Lux</td>\n",
       "      <td>2</td>\n",
       "      <td>11</td>\n",
       "      <td>0.44</td>\n",
       "      <td>43.58</td>\n",
       "      <td>Rain</td>\n",
       "      <td>11.98</td>\n",
       "      <td>1.0</td>\n",
       "      <td>11.0</td>\n",
       "    </tr>\n",
       "    <tr>\n",
       "      <th>2</th>\n",
       "      <td>Lyft</td>\n",
       "      <td>Lyft</td>\n",
       "      <td>1</td>\n",
       "      <td>11</td>\n",
       "      <td>0.44</td>\n",
       "      <td>38.33</td>\n",
       "      <td>Clear</td>\n",
       "      <td>7.33</td>\n",
       "      <td>1.0</td>\n",
       "      <td>7.0</td>\n",
       "    </tr>\n",
       "    <tr>\n",
       "      <th>3</th>\n",
       "      <td>Lyft</td>\n",
       "      <td>Lux Black XL</td>\n",
       "      <td>4</td>\n",
       "      <td>11</td>\n",
       "      <td>0.44</td>\n",
       "      <td>34.38</td>\n",
       "      <td>Clear</td>\n",
       "      <td>5.28</td>\n",
       "      <td>1.0</td>\n",
       "      <td>26.0</td>\n",
       "    </tr>\n",
       "    <tr>\n",
       "      <th>4</th>\n",
       "      <td>Lyft</td>\n",
       "      <td>Lyft XL</td>\n",
       "      <td>3</td>\n",
       "      <td>11</td>\n",
       "      <td>0.44</td>\n",
       "      <td>37.44</td>\n",
       "      <td>Partly Cloudy</td>\n",
       "      <td>9.14</td>\n",
       "      <td>1.0</td>\n",
       "      <td>9.0</td>\n",
       "    </tr>\n",
       "  </tbody>\n",
       "</table>\n",
       "</div>"
      ],
      "text/plain": [
       "  companies service_class  time  month  distance  temperature  \\\n",
       "0      Lyft        Shared     9     12      0.44        42.34   \n",
       "1      Lyft           Lux     2     11      0.44        43.58   \n",
       "2      Lyft          Lyft     1     11      0.44        38.33   \n",
       "3      Lyft  Lux Black XL     4     11      0.44        34.38   \n",
       "4      Lyft       Lyft XL     3     11      0.44        37.44   \n",
       "\n",
       "           weather  wind_speed  surge_multiplier  price  \n",
       "0   Mostly Cloudy         8.66               1.0    5.0  \n",
       "1            Rain        11.98               1.0   11.0  \n",
       "2           Clear         7.33               1.0    7.0  \n",
       "3           Clear         5.28               1.0   26.0  \n",
       "4   Partly Cloudy         9.14               1.0    9.0  "
      ]
     },
     "execution_count": 45,
     "metadata": {},
     "output_type": "execute_result"
    }
   ],
   "source": [
    "df_for_LR.head()"
   ]
  },
  {
   "cell_type": "code",
   "execution_count": 46,
   "id": "f4966730",
   "metadata": {},
   "outputs": [
    {
     "data": {
      "text/html": [
       "<div>\n",
       "<style scoped>\n",
       "    .dataframe tbody tr th:only-of-type {\n",
       "        vertical-align: middle;\n",
       "    }\n",
       "\n",
       "    .dataframe tbody tr th {\n",
       "        vertical-align: top;\n",
       "    }\n",
       "\n",
       "    .dataframe thead th {\n",
       "        text-align: right;\n",
       "    }\n",
       "</style>\n",
       "<table border=\"1\" class=\"dataframe\">\n",
       "  <thead>\n",
       "    <tr style=\"text-align: right;\">\n",
       "      <th></th>\n",
       "      <th>wind_speed</th>\n",
       "    </tr>\n",
       "  </thead>\n",
       "  <tbody>\n",
       "    <tr>\n",
       "      <th>0</th>\n",
       "      <td>8.66</td>\n",
       "    </tr>\n",
       "    <tr>\n",
       "      <th>1</th>\n",
       "      <td>11.98</td>\n",
       "    </tr>\n",
       "    <tr>\n",
       "      <th>2</th>\n",
       "      <td>7.33</td>\n",
       "    </tr>\n",
       "    <tr>\n",
       "      <th>3</th>\n",
       "      <td>5.28</td>\n",
       "    </tr>\n",
       "    <tr>\n",
       "      <th>4</th>\n",
       "      <td>9.14</td>\n",
       "    </tr>\n",
       "  </tbody>\n",
       "</table>\n",
       "</div>"
      ],
      "text/plain": [
       "   wind_speed\n",
       "0        8.66\n",
       "1       11.98\n",
       "2        7.33\n",
       "3        5.28\n",
       "4        9.14"
      ]
     },
     "execution_count": 46,
     "metadata": {},
     "output_type": "execute_result"
    }
   ],
   "source": [
    "df_wind=pd.DataFrame(df_for_LR['wind_speed'])\n",
    "df_wind.head()"
   ]
  },
  {
   "cell_type": "code",
   "execution_count": 47,
   "id": "32bcd2cb",
   "metadata": {},
   "outputs": [
    {
     "data": {
      "image/png": "[encoded data removed]",
      "text/plain": [
       "<Figure size 432x288 with 1 Axes>"
      ]
     },
     "metadata": {
      "needs_background": "light"
     },
     "output_type": "display_data"
    }
   ],
   "source": [
    "#melihat distribusi data dari kecepatan angin\n",
    "sns.histplot(df_wind, kde=True)\n",
    "plt.title(\"Wind Speed's Histogram\")\n",
    "plt.show()"
   ]
  },
  {
   "cell_type": "code",
   "execution_count": 48,
   "id": "18c01d2e",
   "metadata": {},
   "outputs": [
    {
     "name": "stderr",
     "output_type": "stream",
     "text": [
      "C:\\Program Files (x86)\\Anaconda\\lib\\site-packages\\seaborn\\_decorators.py:36: FutureWarning: Pass the following variable as a keyword arg: x. From version 0.12, the only valid positional argument will be `data`, and passing other arguments without an explicit keyword will result in an error or misinterpretation.\n",
      "  warnings.warn(\n"
     ]
    },
    {
     "data": {
      "text/plain": [
       "<AxesSubplot:xlabel='wind_speed'>"
      ]
     },
     "execution_count": 48,
     "metadata": {},
     "output_type": "execute_result"
    },
    {
     "data": {
      "image/png": "[encoded data removed]",
      "text/plain": [
       "<Figure size 432x288 with 1 Axes>"
      ]
     },
     "metadata": {
      "needs_background": "light"
     },
     "output_type": "display_data"
    }
   ],
   "source": [
    "#melihat sebaran data kecepatan angin\n",
    "sns.boxenplot(df_wind['wind_speed'])"
   ]
  },
  {
   "cell_type": "code",
   "execution_count": 49,
   "id": "88f9f6ce",
   "metadata": {},
   "outputs": [
    {
     "data": {
      "text/html": [
       "<div>\n",
       "<style scoped>\n",
       "    .dataframe tbody tr th:only-of-type {\n",
       "        vertical-align: middle;\n",
       "    }\n",
       "\n",
       "    .dataframe tbody tr th {\n",
       "        vertical-align: top;\n",
       "    }\n",
       "\n",
       "    .dataframe thead th {\n",
       "        text-align: right;\n",
       "    }\n",
       "</style>\n",
       "<table border=\"1\" class=\"dataframe\">\n",
       "  <thead>\n",
       "    <tr style=\"text-align: right;\">\n",
       "      <th></th>\n",
       "      <th>wind_speed</th>\n",
       "    </tr>\n",
       "  </thead>\n",
       "  <tbody>\n",
       "    <tr>\n",
       "      <th>count</th>\n",
       "      <td>637976.000000</td>\n",
       "    </tr>\n",
       "    <tr>\n",
       "      <th>mean</th>\n",
       "      <td>6.186795</td>\n",
       "    </tr>\n",
       "    <tr>\n",
       "      <th>std</th>\n",
       "      <td>3.147856</td>\n",
       "    </tr>\n",
       "    <tr>\n",
       "      <th>min</th>\n",
       "      <td>0.450000</td>\n",
       "    </tr>\n",
       "    <tr>\n",
       "      <th>25%</th>\n",
       "      <td>3.410000</td>\n",
       "    </tr>\n",
       "    <tr>\n",
       "      <th>50%</th>\n",
       "      <td>5.910000</td>\n",
       "    </tr>\n",
       "    <tr>\n",
       "      <th>75%</th>\n",
       "      <td>8.410000</td>\n",
       "    </tr>\n",
       "    <tr>\n",
       "      <th>max</th>\n",
       "      <td>15.000000</td>\n",
       "    </tr>\n",
       "  </tbody>\n",
       "</table>\n",
       "</div>"
      ],
      "text/plain": [
       "          wind_speed\n",
       "count  637976.000000\n",
       "mean        6.186795\n",
       "std         3.147856\n",
       "min         0.450000\n",
       "25%         3.410000\n",
       "50%         5.910000\n",
       "75%         8.410000\n",
       "max        15.000000"
      ]
     },
     "execution_count": 49,
     "metadata": {},
     "output_type": "execute_result"
    }
   ],
   "source": [
    "df_wind.describe()"
   ]
  },
  {
   "cell_type": "code",
   "execution_count": 50,
   "id": "0294fefc",
   "metadata": {},
   "outputs": [
    {
     "data": {
      "text/plain": [
       "0    8.33\n",
       "dtype: float64"
      ]
     },
     "execution_count": 50,
     "metadata": {},
     "output_type": "execute_result"
    }
   ],
   "source": [
    "df_wind['wind_speed'].mode()"
   ]
  },
  {
   "cell_type": "markdown",
   "id": "b876665a",
   "metadata": {},
   "source": [
    "Dari grafik dan table diatas dapat dilihat bahwa kecepatan angin berkisar diantara 0.45 hingga 15 dengan rata-rata 6. Dan paling sering ada di angka 8.33 "
   ]
  },
  {
   "cell_type": "markdown",
   "id": "3e5529be",
   "metadata": {},
   "source": [
    "### surge_multiplier"
   ]
  },
  {
   "cell_type": "code",
   "execution_count": 51,
   "id": "62b2b7ad",
   "metadata": {},
   "outputs": [
    {
     "data": {
      "text/html": [
       "<div>\n",
       "<style scoped>\n",
       "    .dataframe tbody tr th:only-of-type {\n",
       "        vertical-align: middle;\n",
       "    }\n",
       "\n",
       "    .dataframe tbody tr th {\n",
       "        vertical-align: top;\n",
       "    }\n",
       "\n",
       "    .dataframe thead th {\n",
       "        text-align: right;\n",
       "    }\n",
       "</style>\n",
       "<table border=\"1\" class=\"dataframe\">\n",
       "  <thead>\n",
       "    <tr style=\"text-align: right;\">\n",
       "      <th></th>\n",
       "      <th>surge_multiplier</th>\n",
       "    </tr>\n",
       "  </thead>\n",
       "  <tbody>\n",
       "    <tr>\n",
       "      <th>0</th>\n",
       "      <td>1.0</td>\n",
       "    </tr>\n",
       "    <tr>\n",
       "      <th>1</th>\n",
       "      <td>1.0</td>\n",
       "    </tr>\n",
       "    <tr>\n",
       "      <th>2</th>\n",
       "      <td>1.0</td>\n",
       "    </tr>\n",
       "    <tr>\n",
       "      <th>3</th>\n",
       "      <td>1.0</td>\n",
       "    </tr>\n",
       "    <tr>\n",
       "      <th>4</th>\n",
       "      <td>1.0</td>\n",
       "    </tr>\n",
       "  </tbody>\n",
       "</table>\n",
       "</div>"
      ],
      "text/plain": [
       "   surge_multiplier\n",
       "0               1.0\n",
       "1               1.0\n",
       "2               1.0\n",
       "3               1.0\n",
       "4               1.0"
      ]
     },
     "execution_count": 51,
     "metadata": {},
     "output_type": "execute_result"
    }
   ],
   "source": [
    "df_surge=pd.DataFrame(df_for_LR['surge_multiplier'])\n",
    "df_surge.head()"
   ]
  },
  {
   "cell_type": "code",
   "execution_count": 52,
   "id": "f92af6b0",
   "metadata": {},
   "outputs": [
    {
     "name": "stderr",
     "output_type": "stream",
     "text": [
      "C:\\Program Files (x86)\\Anaconda\\lib\\site-packages\\seaborn\\distributions.py:2557: FutureWarning: `distplot` is a deprecated function and will be removed in a future version. Please adapt your code to use either `displot` (a figure-level function with similar flexibility) or `histplot` (an axes-level function for histograms).\n",
      "  warnings.warn(msg, FutureWarning)\n"
     ]
    },
    {
     "data": {
      "image/png": "[encoded data removed]",
      "text/plain": [
       "<Figure size 432x288 with 1 Axes>"
      ]
     },
     "metadata": {
      "needs_background": "light"
     },
     "output_type": "display_data"
    }
   ],
   "source": [
    "sns.distplot(df_surge, kde=True)\n",
    "plt.title(\"Distribusi data surge_multiplier\")\n",
    "plt.show()"
   ]
  },
  {
   "cell_type": "markdown",
   "id": "895f7740",
   "metadata": {},
   "source": [
    "dapat dilihat bahwa kelipatan biaya sangat jarang diterapkan"
   ]
  },
  {
   "cell_type": "code",
   "execution_count": 53,
   "id": "38773a19",
   "metadata": {},
   "outputs": [
    {
     "data": {
      "text/plain": [
       "(20975, 1)"
      ]
     },
     "execution_count": 53,
     "metadata": {},
     "output_type": "execute_result"
    }
   ],
   "source": [
    "df_surge[df_surge['surge_multiplier']>1].shape"
   ]
  },
  {
   "cell_type": "markdown",
   "id": "5526e4e7",
   "metadata": {},
   "source": [
    "meskipun surge_multiplier jarang diterapkan namun tetap tidak bisa diabaikan"
   ]
  },
  {
   "cell_type": "markdown",
   "id": "300922bf",
   "metadata": {},
   "source": [
    "### Price"
   ]
  },
  {
   "cell_type": "code",
   "execution_count": 54,
   "id": "57f911d3",
   "metadata": {},
   "outputs": [
    {
     "data": {
      "text/html": [
       "<div>\n",
       "<style scoped>\n",
       "    .dataframe tbody tr th:only-of-type {\n",
       "        vertical-align: middle;\n",
       "    }\n",
       "\n",
       "    .dataframe tbody tr th {\n",
       "        vertical-align: top;\n",
       "    }\n",
       "\n",
       "    .dataframe thead th {\n",
       "        text-align: right;\n",
       "    }\n",
       "</style>\n",
       "<table border=\"1\" class=\"dataframe\">\n",
       "  <thead>\n",
       "    <tr style=\"text-align: right;\">\n",
       "      <th></th>\n",
       "      <th>price</th>\n",
       "    </tr>\n",
       "  </thead>\n",
       "  <tbody>\n",
       "    <tr>\n",
       "      <th>count</th>\n",
       "      <td>637976.000000</td>\n",
       "    </tr>\n",
       "    <tr>\n",
       "      <th>mean</th>\n",
       "      <td>16.545125</td>\n",
       "    </tr>\n",
       "    <tr>\n",
       "      <th>std</th>\n",
       "      <td>9.324359</td>\n",
       "    </tr>\n",
       "    <tr>\n",
       "      <th>min</th>\n",
       "      <td>2.500000</td>\n",
       "    </tr>\n",
       "    <tr>\n",
       "      <th>25%</th>\n",
       "      <td>9.000000</td>\n",
       "    </tr>\n",
       "    <tr>\n",
       "      <th>50%</th>\n",
       "      <td>13.500000</td>\n",
       "    </tr>\n",
       "    <tr>\n",
       "      <th>75%</th>\n",
       "      <td>22.500000</td>\n",
       "    </tr>\n",
       "    <tr>\n",
       "      <th>max</th>\n",
       "      <td>97.500000</td>\n",
       "    </tr>\n",
       "  </tbody>\n",
       "</table>\n",
       "</div>"
      ],
      "text/plain": [
       "               price\n",
       "count  637976.000000\n",
       "mean       16.545125\n",
       "std         9.324359\n",
       "min         2.500000\n",
       "25%         9.000000\n",
       "50%        13.500000\n",
       "75%        22.500000\n",
       "max        97.500000"
      ]
     },
     "execution_count": 54,
     "metadata": {},
     "output_type": "execute_result"
    }
   ],
   "source": [
    "df_price=pd.DataFrame(df_for_LR['price'])\n",
    "df_price.describe()"
   ]
  },
  {
   "cell_type": "code",
   "execution_count": 55,
   "id": "beb32439",
   "metadata": {},
   "outputs": [
    {
     "name": "stderr",
     "output_type": "stream",
     "text": [
      "C:\\Program Files (x86)\\Anaconda\\lib\\site-packages\\seaborn\\_decorators.py:36: FutureWarning: Pass the following variable as a keyword arg: x. From version 0.12, the only valid positional argument will be `data`, and passing other arguments without an explicit keyword will result in an error or misinterpretation.\n",
      "  warnings.warn(\n"
     ]
    },
    {
     "data": {
      "text/plain": [
       "Text(0.5, 1.0, 'Boxplot Price')"
      ]
     },
     "execution_count": 55,
     "metadata": {},
     "output_type": "execute_result"
    },
    {
     "data": {
      "image/png": "[encoded data removed]",
      "text/plain": [
       "<Figure size 432x288 with 1 Axes>"
      ]
     },
     "metadata": {
      "needs_background": "light"
     },
     "output_type": "display_data"
    }
   ],
   "source": [
    "#melihat sebaran data pada variael harga\n",
    "sns.boxenplot(df_price['price'], color='g')\n",
    "plt.title('Boxplot Price', fontsize=15)"
   ]
  },
  {
   "cell_type": "markdown",
   "id": "1f075efd",
   "metadata": {},
   "source": [
    "Dari hasil visualisasi tersebut dapat telihat bahwa harga sangat bervariasi mulai dari 2.5 hingga 97.5 dengan rata-rata 16.5 dan standar deviasi 9.3"
   ]
  },
  {
   "cell_type": "markdown",
   "id": "62178845",
   "metadata": {},
   "source": [
    "# Data preprocessing"
   ]
  },
  {
   "cell_type": "markdown",
   "id": "4274ddae",
   "metadata": {},
   "source": [
    "## Encoding label"
   ]
  },
  {
   "cell_type": "code",
   "execution_count": 56,
   "id": "2c7db99c",
   "metadata": {},
   "outputs": [
    {
     "name": "stdout",
     "output_type": "stream",
     "text": [
      "<class 'pandas.core.frame.DataFrame'>\n",
      "Int64Index: 637976 entries, 0 to 693070\n",
      "Data columns (total 10 columns):\n",
      " #   Column            Non-Null Count   Dtype  \n",
      "---  ------            --------------   -----  \n",
      " 0   companies         637976 non-null  object \n",
      " 1   service_class     637976 non-null  object \n",
      " 2   time              637976 non-null  int64  \n",
      " 3   month             637976 non-null  int64  \n",
      " 4   distance          637976 non-null  float64\n",
      " 5   temperature       637976 non-null  float64\n",
      " 6   weather           637976 non-null  object \n",
      " 7   wind_speed        637976 non-null  float64\n",
      " 8   surge_multiplier  637976 non-null  float64\n",
      " 9   price             637976 non-null  float64\n",
      "dtypes: float64(5), int64(2), object(3)\n",
      "memory usage: 53.5+ MB\n"
     ]
    }
   ],
   "source": [
    "df_for_LR.info()"
   ]
  },
  {
   "cell_type": "code",
   "execution_count": 57,
   "id": "89edbdfb",
   "metadata": {},
   "outputs": [
    {
     "data": {
      "text/plain": [
       "['companies', 'service_class', 'weather']"
      ]
     },
     "execution_count": 57,
     "metadata": {},
     "output_type": "execute_result"
    }
   ],
   "source": [
    "#mempersiapkan kolom yang bertipe data object\n",
    "cat_col=df_for_LR.select_dtypes(include=['object','category']).columns.tolist()\n",
    "cat_col"
   ]
  },
  {
   "cell_type": "code",
   "execution_count": 58,
   "id": "3e204908",
   "metadata": {},
   "outputs": [
    {
     "data": {
      "text/html": [
       "<div>\n",
       "<style scoped>\n",
       "    .dataframe tbody tr th:only-of-type {\n",
       "        vertical-align: middle;\n",
       "    }\n",
       "\n",
       "    .dataframe tbody tr th {\n",
       "        vertical-align: top;\n",
       "    }\n",
       "\n",
       "    .dataframe thead th {\n",
       "        text-align: right;\n",
       "    }\n",
       "</style>\n",
       "<table border=\"1\" class=\"dataframe\">\n",
       "  <thead>\n",
       "    <tr style=\"text-align: right;\">\n",
       "      <th></th>\n",
       "      <th>time</th>\n",
       "      <th>month</th>\n",
       "      <th>distance</th>\n",
       "      <th>temperature</th>\n",
       "      <th>wind_speed</th>\n",
       "      <th>surge_multiplier</th>\n",
       "      <th>price</th>\n",
       "      <th>companies_Lyft</th>\n",
       "      <th>companies_Uber</th>\n",
       "      <th>service_class_Black</th>\n",
       "      <th>service_class_Black SUV</th>\n",
       "      <th>service_class_Lux</th>\n",
       "      <th>service_class_Lux Black</th>\n",
       "      <th>service_class_Lux Black XL</th>\n",
       "      <th>service_class_Lyft</th>\n",
       "      <th>service_class_Lyft XL</th>\n",
       "      <th>service_class_Shared</th>\n",
       "      <th>service_class_UberPool</th>\n",
       "      <th>service_class_UberX</th>\n",
       "      <th>service_class_UberXL</th>\n",
       "      <th>service_class_WAV</th>\n",
       "      <th>service_class_nan</th>\n",
       "      <th>weather_ Clear</th>\n",
       "      <th>weather_ Drizzle</th>\n",
       "      <th>weather_ Foggy</th>\n",
       "      <th>weather_ Light Rain</th>\n",
       "      <th>weather_ Mostly Cloudy</th>\n",
       "      <th>weather_ Overcast</th>\n",
       "      <th>weather_ Partly Cloudy</th>\n",
       "      <th>weather_ Possible Drizzle</th>\n",
       "      <th>weather_ Rain</th>\n",
       "      <th>weather_nan</th>\n",
       "    </tr>\n",
       "  </thead>\n",
       "  <tbody>\n",
       "    <tr>\n",
       "      <th>0</th>\n",
       "      <td>9.0</td>\n",
       "      <td>12.0</td>\n",
       "      <td>0.44</td>\n",
       "      <td>42.34</td>\n",
       "      <td>8.66</td>\n",
       "      <td>1.0</td>\n",
       "      <td>5.0</td>\n",
       "      <td>1.0</td>\n",
       "      <td>0.0</td>\n",
       "      <td>0.0</td>\n",
       "      <td>0.0</td>\n",
       "      <td>0.0</td>\n",
       "      <td>0.0</td>\n",
       "      <td>0.0</td>\n",
       "      <td>0.0</td>\n",
       "      <td>0.0</td>\n",
       "      <td>1.0</td>\n",
       "      <td>0.0</td>\n",
       "      <td>0.0</td>\n",
       "      <td>0.0</td>\n",
       "      <td>0.0</td>\n",
       "      <td>0.0</td>\n",
       "      <td>0.0</td>\n",
       "      <td>0.0</td>\n",
       "      <td>0.0</td>\n",
       "      <td>0.0</td>\n",
       "      <td>1.0</td>\n",
       "      <td>0.0</td>\n",
       "      <td>0.0</td>\n",
       "      <td>0.0</td>\n",
       "      <td>0.0</td>\n",
       "      <td>0.0</td>\n",
       "    </tr>\n",
       "    <tr>\n",
       "      <th>1</th>\n",
       "      <td>2.0</td>\n",
       "      <td>11.0</td>\n",
       "      <td>0.44</td>\n",
       "      <td>43.58</td>\n",
       "      <td>11.98</td>\n",
       "      <td>1.0</td>\n",
       "      <td>11.0</td>\n",
       "      <td>1.0</td>\n",
       "      <td>0.0</td>\n",
       "      <td>0.0</td>\n",
       "      <td>0.0</td>\n",
       "      <td>1.0</td>\n",
       "      <td>0.0</td>\n",
       "      <td>0.0</td>\n",
       "      <td>0.0</td>\n",
       "      <td>0.0</td>\n",
       "      <td>0.0</td>\n",
       "      <td>0.0</td>\n",
       "      <td>0.0</td>\n",
       "      <td>0.0</td>\n",
       "      <td>0.0</td>\n",
       "      <td>0.0</td>\n",
       "      <td>0.0</td>\n",
       "      <td>0.0</td>\n",
       "      <td>0.0</td>\n",
       "      <td>0.0</td>\n",
       "      <td>0.0</td>\n",
       "      <td>0.0</td>\n",
       "      <td>0.0</td>\n",
       "      <td>0.0</td>\n",
       "      <td>1.0</td>\n",
       "      <td>0.0</td>\n",
       "    </tr>\n",
       "    <tr>\n",
       "      <th>2</th>\n",
       "      <td>1.0</td>\n",
       "      <td>11.0</td>\n",
       "      <td>0.44</td>\n",
       "      <td>38.33</td>\n",
       "      <td>7.33</td>\n",
       "      <td>1.0</td>\n",
       "      <td>7.0</td>\n",
       "      <td>1.0</td>\n",
       "      <td>0.0</td>\n",
       "      <td>0.0</td>\n",
       "      <td>0.0</td>\n",
       "      <td>0.0</td>\n",
       "      <td>0.0</td>\n",
       "      <td>0.0</td>\n",
       "      <td>1.0</td>\n",
       "      <td>0.0</td>\n",
       "      <td>0.0</td>\n",
       "      <td>0.0</td>\n",
       "      <td>0.0</td>\n",
       "      <td>0.0</td>\n",
       "      <td>0.0</td>\n",
       "      <td>0.0</td>\n",
       "      <td>1.0</td>\n",
       "      <td>0.0</td>\n",
       "      <td>0.0</td>\n",
       "      <td>0.0</td>\n",
       "      <td>0.0</td>\n",
       "      <td>0.0</td>\n",
       "      <td>0.0</td>\n",
       "      <td>0.0</td>\n",
       "      <td>0.0</td>\n",
       "      <td>0.0</td>\n",
       "    </tr>\n",
       "    <tr>\n",
       "      <th>3</th>\n",
       "      <td>4.0</td>\n",
       "      <td>11.0</td>\n",
       "      <td>0.44</td>\n",
       "      <td>34.38</td>\n",
       "      <td>5.28</td>\n",
       "      <td>1.0</td>\n",
       "      <td>26.0</td>\n",
       "      <td>1.0</td>\n",
       "      <td>0.0</td>\n",
       "      <td>0.0</td>\n",
       "      <td>0.0</td>\n",
       "      <td>0.0</td>\n",
       "      <td>0.0</td>\n",
       "      <td>1.0</td>\n",
       "      <td>0.0</td>\n",
       "      <td>0.0</td>\n",
       "      <td>0.0</td>\n",
       "      <td>0.0</td>\n",
       "      <td>0.0</td>\n",
       "      <td>0.0</td>\n",
       "      <td>0.0</td>\n",
       "      <td>0.0</td>\n",
       "      <td>1.0</td>\n",
       "      <td>0.0</td>\n",
       "      <td>0.0</td>\n",
       "      <td>0.0</td>\n",
       "      <td>0.0</td>\n",
       "      <td>0.0</td>\n",
       "      <td>0.0</td>\n",
       "      <td>0.0</td>\n",
       "      <td>0.0</td>\n",
       "      <td>0.0</td>\n",
       "    </tr>\n",
       "    <tr>\n",
       "      <th>4</th>\n",
       "      <td>3.0</td>\n",
       "      <td>11.0</td>\n",
       "      <td>0.44</td>\n",
       "      <td>37.44</td>\n",
       "      <td>9.14</td>\n",
       "      <td>1.0</td>\n",
       "      <td>9.0</td>\n",
       "      <td>1.0</td>\n",
       "      <td>0.0</td>\n",
       "      <td>0.0</td>\n",
       "      <td>0.0</td>\n",
       "      <td>0.0</td>\n",
       "      <td>0.0</td>\n",
       "      <td>0.0</td>\n",
       "      <td>0.0</td>\n",
       "      <td>1.0</td>\n",
       "      <td>0.0</td>\n",
       "      <td>0.0</td>\n",
       "      <td>0.0</td>\n",
       "      <td>0.0</td>\n",
       "      <td>0.0</td>\n",
       "      <td>0.0</td>\n",
       "      <td>0.0</td>\n",
       "      <td>0.0</td>\n",
       "      <td>0.0</td>\n",
       "      <td>0.0</td>\n",
       "      <td>0.0</td>\n",
       "      <td>0.0</td>\n",
       "      <td>1.0</td>\n",
       "      <td>0.0</td>\n",
       "      <td>0.0</td>\n",
       "      <td>0.0</td>\n",
       "    </tr>\n",
       "  </tbody>\n",
       "</table>\n",
       "</div>"
      ],
      "text/plain": [
       "   time  month  distance  temperature  wind_speed  surge_multiplier  price  \\\n",
       "0   9.0   12.0      0.44        42.34        8.66               1.0    5.0   \n",
       "1   2.0   11.0      0.44        43.58       11.98               1.0   11.0   \n",
       "2   1.0   11.0      0.44        38.33        7.33               1.0    7.0   \n",
       "3   4.0   11.0      0.44        34.38        5.28               1.0   26.0   \n",
       "4   3.0   11.0      0.44        37.44        9.14               1.0    9.0   \n",
       "\n",
       "   companies_Lyft  companies_Uber  service_class_Black  \\\n",
       "0             1.0             0.0                  0.0   \n",
       "1             1.0             0.0                  0.0   \n",
       "2             1.0             0.0                  0.0   \n",
       "3             1.0             0.0                  0.0   \n",
       "4             1.0             0.0                  0.0   \n",
       "\n",
       "   service_class_Black SUV  service_class_Lux  service_class_Lux Black  \\\n",
       "0                      0.0                0.0                      0.0   \n",
       "1                      0.0                1.0                      0.0   \n",
       "2                      0.0                0.0                      0.0   \n",
       "3                      0.0                0.0                      0.0   \n",
       "4                      0.0                0.0                      0.0   \n",
       "\n",
       "   service_class_Lux Black XL  service_class_Lyft  service_class_Lyft XL  \\\n",
       "0                         0.0                 0.0                    0.0   \n",
       "1                         0.0                 0.0                    0.0   \n",
       "2                         0.0                 1.0                    0.0   \n",
       "3                         1.0                 0.0                    0.0   \n",
       "4                         0.0                 0.0                    1.0   \n",
       "\n",
       "   service_class_Shared  service_class_UberPool  service_class_UberX  \\\n",
       "0                   1.0                     0.0                  0.0   \n",
       "1                   0.0                     0.0                  0.0   \n",
       "2                   0.0                     0.0                  0.0   \n",
       "3                   0.0                     0.0                  0.0   \n",
       "4                   0.0                     0.0                  0.0   \n",
       "\n",
       "   service_class_UberXL  service_class_WAV  service_class_nan  \\\n",
       "0                   0.0                0.0                0.0   \n",
       "1                   0.0                0.0                0.0   \n",
       "2                   0.0                0.0                0.0   \n",
       "3                   0.0                0.0                0.0   \n",
       "4                   0.0                0.0                0.0   \n",
       "\n",
       "   weather_ Clear   weather_ Drizzle   weather_ Foggy   weather_ Light Rain   \\\n",
       "0              0.0                0.0              0.0                   0.0   \n",
       "1              0.0                0.0              0.0                   0.0   \n",
       "2              1.0                0.0              0.0                   0.0   \n",
       "3              1.0                0.0              0.0                   0.0   \n",
       "4              0.0                0.0              0.0                   0.0   \n",
       "\n",
       "   weather_ Mostly Cloudy   weather_ Overcast   weather_ Partly Cloudy   \\\n",
       "0                      1.0                 0.0                      0.0   \n",
       "1                      0.0                 0.0                      0.0   \n",
       "2                      0.0                 0.0                      0.0   \n",
       "3                      0.0                 0.0                      0.0   \n",
       "4                      0.0                 0.0                      1.0   \n",
       "\n",
       "   weather_ Possible Drizzle   weather_ Rain   weather_nan  \n",
       "0                         0.0             0.0          0.0  \n",
       "1                         0.0             1.0          0.0  \n",
       "2                         0.0             0.0          0.0  \n",
       "3                         0.0             0.0          0.0  \n",
       "4                         0.0             0.0          0.0  "
      ]
     },
     "execution_count": 58,
     "metadata": {},
     "output_type": "execute_result"
    }
   ],
   "source": [
    "#mengencode kolom dengan data kategorikal\n",
    "for col in cat_col:\n",
    "    encoder=OneHotEncoder(handle_unknown='ignore')\n",
    "    df_encode=pd.DataFrame(encoder.fit_transform(df_for_LR[[col]]).toarray())\n",
    "    df_encode.columns=encoder.get_feature_names([col])\n",
    "    df_for_LR=df_for_LR.drop(col, axis=1)\n",
    "    df_for_LR=pd.concat([df_for_LR,df_encode], axis=1)\n",
    "df_for_LR.head()"
   ]
  },
  {
   "cell_type": "code",
   "execution_count": 59,
   "id": "ad8e87fa",
   "metadata": {},
   "outputs": [
    {
     "data": {
      "text/plain": [
       "Index(['time', 'month', 'distance', 'temperature', 'wind_speed',\n",
       "       'surge_multiplier', 'price', 'companies_Lyft', 'companies_Uber',\n",
       "       'service_class_Black', 'service_class_Black SUV', 'service_class_Lux',\n",
       "       'service_class_Lux Black', 'service_class_Lux Black XL',\n",
       "       'service_class_Lyft', 'service_class_Lyft XL', 'service_class_Shared',\n",
       "       'service_class_UberPool', 'service_class_UberX', 'service_class_UberXL',\n",
       "       'service_class_WAV', 'service_class_nan', 'weather_ Clear ',\n",
       "       'weather_ Drizzle ', 'weather_ Foggy ', 'weather_ Light Rain ',\n",
       "       'weather_ Mostly Cloudy ', 'weather_ Overcast ',\n",
       "       'weather_ Partly Cloudy ', 'weather_ Possible Drizzle ',\n",
       "       'weather_ Rain ', 'weather_nan'],\n",
       "      dtype='object')"
      ]
     },
     "execution_count": 59,
     "metadata": {},
     "output_type": "execute_result"
    }
   ],
   "source": [
    "df_for_LR.columns"
   ]
  },
  {
   "cell_type": "code",
   "execution_count": 144,
   "id": "201cbfdc",
   "metadata": {},
   "outputs": [
    {
     "data": {
      "image/png": "[encoded data removed]",
      "text/plain": [
       "<Figure size 720x576 with 2 Axes>"
      ]
     },
     "metadata": {
      "needs_background": "light"
     },
     "output_type": "display_data"
    }
   ],
   "source": [
    "#melihat korelasi data keseluruhan\n",
    "plt.figure(figsize=(10,8))\n",
    "cols1=['time','month','distance','temperature','wind_speed','surge_multiplier','price']\n",
    "sns.heatmap(df_for_LR[cols1].corr(), annot=True)\n",
    "plt.show()"
   ]
  },
  {
   "cell_type": "markdown",
   "id": "14f94322",
   "metadata": {},
   "source": [
    "- dari heatmap tersebut yang memiliki korelasi dengan harga hanya distance, dan surge_multiplier"
   ]
  },
  {
   "cell_type": "code",
   "execution_count": 60,
   "id": "33ea0047",
   "metadata": {},
   "outputs": [
    {
     "data": {
      "image/png": "[encoded data removed]",
      "text/plain": [
       "<Figure size 720x576 with 2 Axes>"
      ]
     },
     "metadata": {
      "needs_background": "light"
     },
     "output_type": "display_data"
    }
   ],
   "source": [
    "plt.figure(figsize=(10,8))\n",
    "cols2=['companies_Lyft', 'companies_Uber','price']\n",
    "sns.heatmap(df_for_LR[cols2].corr(), annot=True)\n",
    "plt.show()"
   ]
  },
  {
   "cell_type": "markdown",
   "id": "38f633b4",
   "metadata": {},
   "source": [
    "- perbedaan perusahaan taxi memiliki nilai korelasi yang sangat rendah dengan harga"
   ]
  },
  {
   "cell_type": "code",
   "execution_count": 65,
   "id": "fcee600a",
   "metadata": {},
   "outputs": [
    {
     "data": {
      "image/png": "[encoded data removed]",
      "text/plain": [
       "<Figure size 720x576 with 2 Axes>"
      ]
     },
     "metadata": {
      "needs_background": "light"
     },
     "output_type": "display_data"
    }
   ],
   "source": [
    "plt.figure(figsize=(10,8))\n",
    "cols3=['service_class_Black', 'service_class_Black SUV', 'service_class_Lux',\n",
    "       'service_class_Lux Black', 'service_class_Lux Black XL',\n",
    "       'service_class_Lyft', 'service_class_Lyft XL', 'service_class_Shared',\n",
    "       'service_class_Taxi', 'service_class_UberPool', 'service_class_UberX',\n",
    "       'service_class_UberXL', 'service_class_WAV','price']\n",
    "sns.heatmap(df_for_LR[cols3].corr(),annot=True)\n",
    "plt.show()"
   ]
  },
  {
   "cell_type": "markdown",
   "id": "3e649c49",
   "metadata": {},
   "source": [
    "- Beberapa kelas layanan memiliki korelasi yang tinggi dengan harga maka service_class juga akan digunakan dalam model prediksi"
   ]
  },
  {
   "cell_type": "code",
   "execution_count": 67,
   "id": "f33b884b",
   "metadata": {},
   "outputs": [
    {
     "data": {
      "image/png": "[encoded data removed]",
      "text/plain": [
       "<Figure size 720x576 with 2 Axes>"
      ]
     },
     "metadata": {
      "needs_background": "light"
     },
     "output_type": "display_data"
    }
   ],
   "source": [
    "plt.figure(figsize=(10,8))\n",
    "cols4=['weather_ Clear ',\n",
    "       'weather_ Drizzle ', 'weather_ Foggy ', 'weather_ Light Rain ',\n",
    "       'weather_ Mostly Cloudy ', 'weather_ Overcast ',\n",
    "       'weather_ Partly Cloudy ', 'weather_ Possible Drizzle ',\n",
    "       'weather_ Rain ','price']\n",
    "sns.heatmap(df_for_LR[cols4].corr(),annot=True,)\n",
    "plt.show()"
   ]
  },
  {
   "cell_type": "markdown",
   "id": "9abb65f5",
   "metadata": {},
   "source": [
    "- nilai koefisien korelasi pada weather dengan harga sangat kecil sehingga tidak akan digunakan pada model prediksi"
   ]
  },
  {
   "cell_type": "markdown",
   "id": "13632370",
   "metadata": {},
   "source": [
    "Fitur-fitur yang memiliki korelasi kecil tidak akan digunakan"
   ]
  },
  {
   "cell_type": "code",
   "execution_count": 69,
   "id": "f93d391b",
   "metadata": {},
   "outputs": [
    {
     "data": {
      "text/html": [
       "<div>\n",
       "<style scoped>\n",
       "    .dataframe tbody tr th:only-of-type {\n",
       "        vertical-align: middle;\n",
       "    }\n",
       "\n",
       "    .dataframe tbody tr th {\n",
       "        vertical-align: top;\n",
       "    }\n",
       "\n",
       "    .dataframe thead th {\n",
       "        text-align: right;\n",
       "    }\n",
       "</style>\n",
       "<table border=\"1\" class=\"dataframe\">\n",
       "  <thead>\n",
       "    <tr style=\"text-align: right;\">\n",
       "      <th></th>\n",
       "      <th>distance</th>\n",
       "      <th>surge_multiplier</th>\n",
       "      <th>service_class_Black</th>\n",
       "      <th>service_class_Black SUV</th>\n",
       "      <th>service_class_Lux</th>\n",
       "      <th>service_class_Lux Black</th>\n",
       "      <th>service_class_Lux Black XL</th>\n",
       "      <th>service_class_Lyft</th>\n",
       "      <th>service_class_Lyft XL</th>\n",
       "      <th>service_class_Shared</th>\n",
       "      <th>service_class_Taxi</th>\n",
       "      <th>service_class_UberPool</th>\n",
       "      <th>service_class_UberX</th>\n",
       "      <th>service_class_UberXL</th>\n",
       "      <th>service_class_WAV</th>\n",
       "    </tr>\n",
       "  </thead>\n",
       "  <tbody>\n",
       "    <tr>\n",
       "      <th>0</th>\n",
       "      <td>0.44</td>\n",
       "      <td>1.0</td>\n",
       "      <td>0.0</td>\n",
       "      <td>0.0</td>\n",
       "      <td>0.0</td>\n",
       "      <td>0.0</td>\n",
       "      <td>0.0</td>\n",
       "      <td>0.0</td>\n",
       "      <td>0.0</td>\n",
       "      <td>1.0</td>\n",
       "      <td>0.0</td>\n",
       "      <td>0.0</td>\n",
       "      <td>0.0</td>\n",
       "      <td>0.0</td>\n",
       "      <td>0.0</td>\n",
       "    </tr>\n",
       "    <tr>\n",
       "      <th>1</th>\n",
       "      <td>0.44</td>\n",
       "      <td>1.0</td>\n",
       "      <td>0.0</td>\n",
       "      <td>0.0</td>\n",
       "      <td>1.0</td>\n",
       "      <td>0.0</td>\n",
       "      <td>0.0</td>\n",
       "      <td>0.0</td>\n",
       "      <td>0.0</td>\n",
       "      <td>0.0</td>\n",
       "      <td>0.0</td>\n",
       "      <td>0.0</td>\n",
       "      <td>0.0</td>\n",
       "      <td>0.0</td>\n",
       "      <td>0.0</td>\n",
       "    </tr>\n",
       "    <tr>\n",
       "      <th>2</th>\n",
       "      <td>0.44</td>\n",
       "      <td>1.0</td>\n",
       "      <td>0.0</td>\n",
       "      <td>0.0</td>\n",
       "      <td>0.0</td>\n",
       "      <td>0.0</td>\n",
       "      <td>0.0</td>\n",
       "      <td>1.0</td>\n",
       "      <td>0.0</td>\n",
       "      <td>0.0</td>\n",
       "      <td>0.0</td>\n",
       "      <td>0.0</td>\n",
       "      <td>0.0</td>\n",
       "      <td>0.0</td>\n",
       "      <td>0.0</td>\n",
       "    </tr>\n",
       "    <tr>\n",
       "      <th>3</th>\n",
       "      <td>0.44</td>\n",
       "      <td>1.0</td>\n",
       "      <td>0.0</td>\n",
       "      <td>0.0</td>\n",
       "      <td>0.0</td>\n",
       "      <td>0.0</td>\n",
       "      <td>1.0</td>\n",
       "      <td>0.0</td>\n",
       "      <td>0.0</td>\n",
       "      <td>0.0</td>\n",
       "      <td>0.0</td>\n",
       "      <td>0.0</td>\n",
       "      <td>0.0</td>\n",
       "      <td>0.0</td>\n",
       "      <td>0.0</td>\n",
       "    </tr>\n",
       "    <tr>\n",
       "      <th>4</th>\n",
       "      <td>0.44</td>\n",
       "      <td>1.0</td>\n",
       "      <td>0.0</td>\n",
       "      <td>0.0</td>\n",
       "      <td>0.0</td>\n",
       "      <td>0.0</td>\n",
       "      <td>0.0</td>\n",
       "      <td>0.0</td>\n",
       "      <td>1.0</td>\n",
       "      <td>0.0</td>\n",
       "      <td>0.0</td>\n",
       "      <td>0.0</td>\n",
       "      <td>0.0</td>\n",
       "      <td>0.0</td>\n",
       "      <td>0.0</td>\n",
       "    </tr>\n",
       "  </tbody>\n",
       "</table>\n",
       "</div>"
      ],
      "text/plain": [
       "   distance  surge_multiplier  service_class_Black  service_class_Black SUV  \\\n",
       "0      0.44               1.0                  0.0                      0.0   \n",
       "1      0.44               1.0                  0.0                      0.0   \n",
       "2      0.44               1.0                  0.0                      0.0   \n",
       "3      0.44               1.0                  0.0                      0.0   \n",
       "4      0.44               1.0                  0.0                      0.0   \n",
       "\n",
       "   service_class_Lux  service_class_Lux Black  service_class_Lux Black XL  \\\n",
       "0                0.0                      0.0                         0.0   \n",
       "1                1.0                      0.0                         0.0   \n",
       "2                0.0                      0.0                         0.0   \n",
       "3                0.0                      0.0                         1.0   \n",
       "4                0.0                      0.0                         0.0   \n",
       "\n",
       "   service_class_Lyft  service_class_Lyft XL  service_class_Shared  \\\n",
       "0                 0.0                    0.0                   1.0   \n",
       "1                 0.0                    0.0                   0.0   \n",
       "2                 1.0                    0.0                   0.0   \n",
       "3                 0.0                    0.0                   0.0   \n",
       "4                 0.0                    1.0                   0.0   \n",
       "\n",
       "   service_class_Taxi  service_class_UberPool  service_class_UberX  \\\n",
       "0                 0.0                     0.0                  0.0   \n",
       "1                 0.0                     0.0                  0.0   \n",
       "2                 0.0                     0.0                  0.0   \n",
       "3                 0.0                     0.0                  0.0   \n",
       "4                 0.0                     0.0                  0.0   \n",
       "\n",
       "   service_class_UberXL  service_class_WAV  \n",
       "0                   0.0                0.0  \n",
       "1                   0.0                0.0  \n",
       "2                   0.0                0.0  \n",
       "3                   0.0                0.0  \n",
       "4                   0.0                0.0  "
      ]
     },
     "execution_count": 69,
     "metadata": {},
     "output_type": "execute_result"
    }
   ],
   "source": [
    "df_for_LR=df_for_LR.drop(columns=['time','month','wind_speed','temperature', 'companies_Lyft', 'companies_Uber',\n",
    "                                  'weather_ Clear ','weather_ Drizzle ', 'weather_ Foggy ', 'weather_ Light Rain ',\n",
    "                                  'weather_ Mostly Cloudy ', 'weather_ Overcast ','weather_ Partly Cloudy ', \n",
    "                                  'weather_ Possible Drizzle ','weather_ Rain '])\n",
    "df_for_LR.head()"
   ]
  },
  {
   "cell_type": "code",
   "execution_count": 70,
   "id": "1dc0a510",
   "metadata": {},
   "outputs": [
    {
     "ename": "KeyError",
     "evalue": "\"['price'] not found in axis\"",
     "output_type": "error",
     "traceback": [
      "\u001b[1;31m---------------------------------------------------------------------------\u001b[0m",
      "\u001b[1;31mKeyError\u001b[0m                                  Traceback (most recent call last)",
      "\u001b[1;32m<ipython-input-70-c6a13fabca73>\u001b[0m in \u001b[0;36m<module>\u001b[1;34m\u001b[0m\n\u001b[0;32m      1\u001b[0m \u001b[1;31m#mendefinisikan variabel x dan variabel y\u001b[0m\u001b[1;33m\u001b[0m\u001b[1;33m\u001b[0m\u001b[1;33m\u001b[0m\u001b[0m\n\u001b[1;32m----> 2\u001b[1;33m \u001b[0mx\u001b[0m\u001b[1;33m=\u001b[0m\u001b[0mdf_for_LR\u001b[0m\u001b[1;33m.\u001b[0m\u001b[0mdrop\u001b[0m\u001b[1;33m(\u001b[0m\u001b[0mcolumns\u001b[0m\u001b[1;33m=\u001b[0m\u001b[1;33m[\u001b[0m\u001b[1;34m'price'\u001b[0m\u001b[1;33m]\u001b[0m\u001b[1;33m)\u001b[0m\u001b[1;33m\u001b[0m\u001b[1;33m\u001b[0m\u001b[0m\n\u001b[0m\u001b[0;32m      3\u001b[0m \u001b[0my\u001b[0m\u001b[1;33m=\u001b[0m\u001b[0mdf_for_LR\u001b[0m\u001b[1;33m[\u001b[0m\u001b[1;34m'price'\u001b[0m\u001b[1;33m]\u001b[0m\u001b[1;33m\u001b[0m\u001b[1;33m\u001b[0m\u001b[0m\n\u001b[0;32m      4\u001b[0m \u001b[1;31m#memisahkan data training dengan testing\u001b[0m\u001b[1;33m\u001b[0m\u001b[1;33m\u001b[0m\u001b[1;33m\u001b[0m\u001b[0m\n\u001b[0;32m      5\u001b[0m \u001b[0mx_train\u001b[0m\u001b[1;33m,\u001b[0m\u001b[0mx_test\u001b[0m\u001b[1;33m,\u001b[0m\u001b[0my_train\u001b[0m\u001b[1;33m,\u001b[0m\u001b[0my_test\u001b[0m\u001b[1;33m=\u001b[0m\u001b[0mtrain_test_split\u001b[0m\u001b[1;33m(\u001b[0m\u001b[0mx\u001b[0m\u001b[1;33m,\u001b[0m\u001b[0my\u001b[0m\u001b[1;33m,\u001b[0m\u001b[0mtest_size\u001b[0m\u001b[1;33m=\u001b[0m\u001b[1;36m0.3\u001b[0m\u001b[1;33m)\u001b[0m\u001b[1;33m\u001b[0m\u001b[1;33m\u001b[0m\u001b[0m\n",
      "\u001b[1;32mC:\\Program Files (x86)\\Anaconda\\lib\\site-packages\\pandas\\core\\frame.py\u001b[0m in \u001b[0;36mdrop\u001b[1;34m(self, labels, axis, index, columns, level, inplace, errors)\u001b[0m\n\u001b[0;32m   4306\u001b[0m                 \u001b[0mweight\u001b[0m  \u001b[1;36m1.0\u001b[0m     \u001b[1;36m0.8\u001b[0m\u001b[1;33m\u001b[0m\u001b[1;33m\u001b[0m\u001b[0m\n\u001b[0;32m   4307\u001b[0m         \"\"\"\n\u001b[1;32m-> 4308\u001b[1;33m         return super().drop(\n\u001b[0m\u001b[0;32m   4309\u001b[0m             \u001b[0mlabels\u001b[0m\u001b[1;33m=\u001b[0m\u001b[0mlabels\u001b[0m\u001b[1;33m,\u001b[0m\u001b[1;33m\u001b[0m\u001b[1;33m\u001b[0m\u001b[0m\n\u001b[0;32m   4310\u001b[0m             \u001b[0maxis\u001b[0m\u001b[1;33m=\u001b[0m\u001b[0maxis\u001b[0m\u001b[1;33m,\u001b[0m\u001b[1;33m\u001b[0m\u001b[1;33m\u001b[0m\u001b[0m\n",
      "\u001b[1;32mC:\\Program Files (x86)\\Anaconda\\lib\\site-packages\\pandas\\core\\generic.py\u001b[0m in \u001b[0;36mdrop\u001b[1;34m(self, labels, axis, index, columns, level, inplace, errors)\u001b[0m\n\u001b[0;32m   4151\u001b[0m         \u001b[1;32mfor\u001b[0m \u001b[0maxis\u001b[0m\u001b[1;33m,\u001b[0m \u001b[0mlabels\u001b[0m \u001b[1;32min\u001b[0m \u001b[0maxes\u001b[0m\u001b[1;33m.\u001b[0m\u001b[0mitems\u001b[0m\u001b[1;33m(\u001b[0m\u001b[1;33m)\u001b[0m\u001b[1;33m:\u001b[0m\u001b[1;33m\u001b[0m\u001b[1;33m\u001b[0m\u001b[0m\n\u001b[0;32m   4152\u001b[0m             \u001b[1;32mif\u001b[0m \u001b[0mlabels\u001b[0m \u001b[1;32mis\u001b[0m \u001b[1;32mnot\u001b[0m \u001b[1;32mNone\u001b[0m\u001b[1;33m:\u001b[0m\u001b[1;33m\u001b[0m\u001b[1;33m\u001b[0m\u001b[0m\n\u001b[1;32m-> 4153\u001b[1;33m                 \u001b[0mobj\u001b[0m \u001b[1;33m=\u001b[0m \u001b[0mobj\u001b[0m\u001b[1;33m.\u001b[0m\u001b[0m_drop_axis\u001b[0m\u001b[1;33m(\u001b[0m\u001b[0mlabels\u001b[0m\u001b[1;33m,\u001b[0m \u001b[0maxis\u001b[0m\u001b[1;33m,\u001b[0m \u001b[0mlevel\u001b[0m\u001b[1;33m=\u001b[0m\u001b[0mlevel\u001b[0m\u001b[1;33m,\u001b[0m \u001b[0merrors\u001b[0m\u001b[1;33m=\u001b[0m\u001b[0merrors\u001b[0m\u001b[1;33m)\u001b[0m\u001b[1;33m\u001b[0m\u001b[1;33m\u001b[0m\u001b[0m\n\u001b[0m\u001b[0;32m   4154\u001b[0m \u001b[1;33m\u001b[0m\u001b[0m\n\u001b[0;32m   4155\u001b[0m         \u001b[1;32mif\u001b[0m \u001b[0minplace\u001b[0m\u001b[1;33m:\u001b[0m\u001b[1;33m\u001b[0m\u001b[1;33m\u001b[0m\u001b[0m\n",
      "\u001b[1;32mC:\\Program Files (x86)\\Anaconda\\lib\\site-packages\\pandas\\core\\generic.py\u001b[0m in \u001b[0;36m_drop_axis\u001b[1;34m(self, labels, axis, level, errors)\u001b[0m\n\u001b[0;32m   4186\u001b[0m                 \u001b[0mnew_axis\u001b[0m \u001b[1;33m=\u001b[0m \u001b[0maxis\u001b[0m\u001b[1;33m.\u001b[0m\u001b[0mdrop\u001b[0m\u001b[1;33m(\u001b[0m\u001b[0mlabels\u001b[0m\u001b[1;33m,\u001b[0m \u001b[0mlevel\u001b[0m\u001b[1;33m=\u001b[0m\u001b[0mlevel\u001b[0m\u001b[1;33m,\u001b[0m \u001b[0merrors\u001b[0m\u001b[1;33m=\u001b[0m\u001b[0merrors\u001b[0m\u001b[1;33m)\u001b[0m\u001b[1;33m\u001b[0m\u001b[1;33m\u001b[0m\u001b[0m\n\u001b[0;32m   4187\u001b[0m             \u001b[1;32melse\u001b[0m\u001b[1;33m:\u001b[0m\u001b[1;33m\u001b[0m\u001b[1;33m\u001b[0m\u001b[0m\n\u001b[1;32m-> 4188\u001b[1;33m                 \u001b[0mnew_axis\u001b[0m \u001b[1;33m=\u001b[0m \u001b[0maxis\u001b[0m\u001b[1;33m.\u001b[0m\u001b[0mdrop\u001b[0m\u001b[1;33m(\u001b[0m\u001b[0mlabels\u001b[0m\u001b[1;33m,\u001b[0m \u001b[0merrors\u001b[0m\u001b[1;33m=\u001b[0m\u001b[0merrors\u001b[0m\u001b[1;33m)\u001b[0m\u001b[1;33m\u001b[0m\u001b[1;33m\u001b[0m\u001b[0m\n\u001b[0m\u001b[0;32m   4189\u001b[0m             \u001b[0mresult\u001b[0m \u001b[1;33m=\u001b[0m \u001b[0mself\u001b[0m\u001b[1;33m.\u001b[0m\u001b[0mreindex\u001b[0m\u001b[1;33m(\u001b[0m\u001b[1;33m**\u001b[0m\u001b[1;33m{\u001b[0m\u001b[0maxis_name\u001b[0m\u001b[1;33m:\u001b[0m \u001b[0mnew_axis\u001b[0m\u001b[1;33m}\u001b[0m\u001b[1;33m)\u001b[0m\u001b[1;33m\u001b[0m\u001b[1;33m\u001b[0m\u001b[0m\n\u001b[0;32m   4190\u001b[0m \u001b[1;33m\u001b[0m\u001b[0m\n",
      "\u001b[1;32mC:\\Program Files (x86)\\Anaconda\\lib\\site-packages\\pandas\\core\\indexes\\base.py\u001b[0m in \u001b[0;36mdrop\u001b[1;34m(self, labels, errors)\u001b[0m\n\u001b[0;32m   5589\u001b[0m         \u001b[1;32mif\u001b[0m \u001b[0mmask\u001b[0m\u001b[1;33m.\u001b[0m\u001b[0many\u001b[0m\u001b[1;33m(\u001b[0m\u001b[1;33m)\u001b[0m\u001b[1;33m:\u001b[0m\u001b[1;33m\u001b[0m\u001b[1;33m\u001b[0m\u001b[0m\n\u001b[0;32m   5590\u001b[0m             \u001b[1;32mif\u001b[0m \u001b[0merrors\u001b[0m \u001b[1;33m!=\u001b[0m \u001b[1;34m\"ignore\"\u001b[0m\u001b[1;33m:\u001b[0m\u001b[1;33m\u001b[0m\u001b[1;33m\u001b[0m\u001b[0m\n\u001b[1;32m-> 5591\u001b[1;33m                 \u001b[1;32mraise\u001b[0m \u001b[0mKeyError\u001b[0m\u001b[1;33m(\u001b[0m\u001b[1;34mf\"{labels[mask]} not found in axis\"\u001b[0m\u001b[1;33m)\u001b[0m\u001b[1;33m\u001b[0m\u001b[1;33m\u001b[0m\u001b[0m\n\u001b[0m\u001b[0;32m   5592\u001b[0m             \u001b[0mindexer\u001b[0m \u001b[1;33m=\u001b[0m \u001b[0mindexer\u001b[0m\u001b[1;33m[\u001b[0m\u001b[1;33m~\u001b[0m\u001b[0mmask\u001b[0m\u001b[1;33m]\u001b[0m\u001b[1;33m\u001b[0m\u001b[1;33m\u001b[0m\u001b[0m\n\u001b[0;32m   5593\u001b[0m         \u001b[1;32mreturn\u001b[0m \u001b[0mself\u001b[0m\u001b[1;33m.\u001b[0m\u001b[0mdelete\u001b[0m\u001b[1;33m(\u001b[0m\u001b[0mindexer\u001b[0m\u001b[1;33m)\u001b[0m\u001b[1;33m\u001b[0m\u001b[1;33m\u001b[0m\u001b[0m\n",
      "\u001b[1;31mKeyError\u001b[0m: \"['price'] not found in axis\""
     ]
    }
   ],
   "source": [
    "#mendefinisikan variabel x dan variabel y\n",
    "x=df_for_LR.drop(columns=['price'])\n",
    "y=df_for_LR['price']\n",
    "#memisahkan data training dengan testing\n",
    "x_train,x_test,y_train,y_test=train_test_split(x,y,test_size=0.3)"
   ]
  },
  {
   "cell_type": "markdown",
   "id": "770ca094",
   "metadata": {},
   "source": [
    "# Defining model"
   ]
  },
  {
   "cell_type": "code",
   "execution_count": 105,
   "id": "8afc983c",
   "metadata": {},
   "outputs": [],
   "source": [
    "model=LinearRegression()"
   ]
  },
  {
   "cell_type": "markdown",
   "id": "e714a49f",
   "metadata": {},
   "source": [
    "# Training Model"
   ]
  },
  {
   "cell_type": "code",
   "execution_count": 106,
   "id": "53dba6b9",
   "metadata": {},
   "outputs": [
    {
     "data": {
      "text/plain": [
       "LinearRegression()"
      ]
     },
     "execution_count": 106,
     "metadata": {},
     "output_type": "execute_result"
    }
   ],
   "source": [
    "model.fit(x_train,y_train)"
   ]
  },
  {
   "cell_type": "code",
   "execution_count": 107,
   "id": "a4e45c5f",
   "metadata": {},
   "outputs": [
    {
     "data": {
      "text/plain": [
       "-19.340707194386994"
      ]
     },
     "execution_count": 107,
     "metadata": {},
     "output_type": "execute_result"
    }
   ],
   "source": [
    "#melihat nilai intercept\n",
    "model.intercept_"
   ]
  },
  {
   "cell_type": "code",
   "execution_count": 108,
   "id": "118fb5e0",
   "metadata": {},
   "outputs": [
    {
     "data": {
      "text/plain": [
       "array([ 0.67602977,  2.77264811, 25.63779948])"
      ]
     },
     "execution_count": 108,
     "metadata": {},
     "output_type": "execute_result"
    }
   ],
   "source": [
    "#melihat nilai koefisien\n",
    "model.coef_"
   ]
  },
  {
   "cell_type": "code",
   "execution_count": 109,
   "id": "a604bab8",
   "metadata": {},
   "outputs": [
    {
     "data": {
      "text/plain": [
       "array([19.61797174, 15.37582013,  9.37473168, ..., 13.61440143,\n",
       "       11.58631213, 12.45642726])"
      ]
     },
     "execution_count": 109,
     "metadata": {},
     "output_type": "execute_result"
    }
   ],
   "source": [
    "#prediksi data test\n",
    "y_pred=model.predict(x_test)\n",
    "y_pred"
   ]
  },
  {
   "cell_type": "markdown",
   "id": "34b0f250",
   "metadata": {},
   "source": [
    "# Model Evaluation"
   ]
  },
  {
   "cell_type": "code",
   "execution_count": 110,
   "id": "c5ed5c86",
   "metadata": {},
   "outputs": [
    {
     "data": {
      "text/plain": [
       "58.52668658415665"
      ]
     },
     "execution_count": 110,
     "metadata": {},
     "output_type": "execute_result"
    }
   ],
   "source": [
    "#selisih nilai error terbesar\n",
    "error_max=max_error(y_test,y_pred)\n",
    "error_max"
   ]
  },
  {
   "cell_type": "code",
   "execution_count": 111,
   "id": "845f00ba",
   "metadata": {},
   "outputs": [
    {
     "data": {
      "text/plain": [
       "6.653547695722453"
      ]
     },
     "execution_count": 111,
     "metadata": {},
     "output_type": "execute_result"
    }
   ],
   "source": [
    "#rata-rata nilai error\n",
    "error_mean=mean_absolute_error(y_test,y_pred)\n",
    "error_mean"
   ]
  },
  {
   "cell_type": "code",
   "execution_count": 112,
   "id": "2e96f719",
   "metadata": {},
   "outputs": [
    {
     "data": {
      "text/plain": [
       "6.034627184221961"
      ]
     },
     "execution_count": 112,
     "metadata": {},
     "output_type": "execute_result"
    }
   ],
   "source": [
    "#median nilai error\n",
    "error_median=median_absolute_error(y_test,y_pred)\n",
    "error_median"
   ]
  },
  {
   "cell_type": "code",
   "execution_count": 113,
   "id": "8dd4f449",
   "metadata": {},
   "outputs": [
    {
     "data": {
      "text/plain": [
       "0.2325126506053833"
      ]
     },
     "execution_count": 113,
     "metadata": {},
     "output_type": "execute_result"
    }
   ],
   "source": [
    "#R-squared\n",
    "r2_score(y_test, y_pred)"
   ]
  },
  {
   "cell_type": "code",
   "execution_count": 73,
   "id": "40e4b9fd",
   "metadata": {},
   "outputs": [],
   "source": [
    "def colors():\n",
    "    import matplotlib\n",
    "    for x,y in matplotlib.colors.cnames.items():\n",
    "        print(x,y)"
   ]
  }
 ],
 "metadata": {
  "kernelspec": {
   "display_name": "Python 3",
   "language": "python",
   "name": "python3"
  },
  "language_info": {
   "codemirror_mode": {
    "name": "ipython",
    "version": 3
   },
   "file_extension": ".py",
   "mimetype": "text/x-python",
   "name": "python",
   "nbconvert_exporter": "python",
   "pygments_lexer": "ipython3",
   "version": "3.8.8"
  },
  "toc": {
   "base_numbering": 1,
   "nav_menu": {},
   "number_sections": true,
   "sideBar": true,
   "skip_h1_title": false,
   "title_cell": "Table of Contents",
   "title_sidebar": "Contents",
   "toc_cell": false,
   "toc_position": {
    "height": "calc(100% - 180px)",
    "left": "10px",
    "top": "150px",
    "width": "165px"
   },
   "toc_section_display": true,
   "toc_window_display": false
  }
 },
 "nbformat": 4,
 "nbformat_minor": 5
}
